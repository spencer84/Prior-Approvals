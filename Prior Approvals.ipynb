{
 "cells": [
  {
   "cell_type": "code",
   "execution_count": 133,
   "metadata": {},
   "outputs": [],
   "source": [
    "import pandas as pd\n",
    "import re\n",
    "import numpy as np\n",
    "import plotly.graph_objects as go\n",
    "import urllib, json\n",
    "import numpy as np\n",
    "import geopandas as gpd\n",
    "import matplotlib.pyplot as plt"
   ]
  },
  {
   "cell_type": "markdown",
   "metadata": {},
   "source": [
    "## Import data"
   ]
  },
  {
   "cell_type": "code",
   "execution_count": 3,
   "metadata": {},
   "outputs": [],
   "source": [
    "folder = \"C:/Users/samspencer/OneDrive - Royal Town Planning Institute/Documents/Projects/Prior Approvals/\"\n",
    "\n",
    "# Read in prior approval data from local directory\n",
    "\n",
    "priors = 'Prior approvals for analysis 20211215'\n",
    "\n",
    "df = pd.read_excel(folder + priors+'.xlsx')"
   ]
  },
  {
   "cell_type": "code",
   "execution_count": 4,
   "metadata": {},
   "outputs": [
    {
     "data": {
      "text/html": [
       "<div>\n",
       "<style scoped>\n",
       "    .dataframe tbody tr th:only-of-type {\n",
       "        vertical-align: middle;\n",
       "    }\n",
       "\n",
       "    .dataframe tbody tr th {\n",
       "        vertical-align: top;\n",
       "    }\n",
       "\n",
       "    .dataframe thead th {\n",
       "        text-align: right;\n",
       "    }\n",
       "</style>\n",
       "<table border=\"1\" class=\"dataframe\">\n",
       "  <thead>\n",
       "    <tr style=\"text-align: right;\">\n",
       "      <th></th>\n",
       "      <th>id</th>\n",
       "      <th>Application type on Datahub</th>\n",
       "      <th>Application type (assumed)</th>\n",
       "      <th>Development description</th>\n",
       "      <th>Status (groups)</th>\n",
       "      <th>Status</th>\n",
       "      <th>Decision</th>\n",
       "      <th>Easting</th>\n",
       "      <th>Northing</th>\n",
       "      <th>postcode</th>\n",
       "      <th>...</th>\n",
       "      <th>Application number</th>\n",
       "      <th>Valid date</th>\n",
       "      <th>Decision date</th>\n",
       "      <th>Residential units proposed</th>\n",
       "      <th>Existing use class (from Datahub)</th>\n",
       "      <th>Existing non-residential floorspace</th>\n",
       "      <th>High Street name</th>\n",
       "      <th>Town Centre Name</th>\n",
       "      <th>Planned Article 4 Direction</th>\n",
       "      <th>Adopted OA name</th>\n",
       "    </tr>\n",
       "  </thead>\n",
       "  <tbody>\n",
       "    <tr>\n",
       "      <th>0</th>\n",
       "      <td>Barking_&amp;_Dagenham-13_00560_CLU_P</td>\n",
       "      <td>Prior Approval: Change of use - retail/takeawa...</td>\n",
       "      <td>Prior Approval: Change of use - retail/takeawa...</td>\n",
       "      <td>Application for a certificate of lawfulness fo...</td>\n",
       "      <td>Allowed</td>\n",
       "      <td>Superseded</td>\n",
       "      <td>NaN</td>\n",
       "      <td>549303.0</td>\n",
       "      <td>183999.0</td>\n",
       "      <td>RM10 9JA</td>\n",
       "      <td>...</td>\n",
       "      <td>13/00560/CLU_P</td>\n",
       "      <td>NaT</td>\n",
       "      <td>2013-09-10 00:00:00</td>\n",
       "      <td>2.0</td>\n",
       "      <td>A1</td>\n",
       "      <td>100.0</td>\n",
       "      <td>Broad Street, Dagenham.</td>\n",
       "      <td>NaN</td>\n",
       "      <td>NaN</td>\n",
       "      <td>NaN</td>\n",
       "    </tr>\n",
       "    <tr>\n",
       "      <th>1</th>\n",
       "      <td>Barking_&amp;_Dagenham-13_01133_PRIOR</td>\n",
       "      <td>Prior Approval: Change of use - offices to dwe...</td>\n",
       "      <td>Prior Approval: Change of use - offices to dwe...</td>\n",
       "      <td>Application for prior approval of proposed cha...</td>\n",
       "      <td>Allowed</td>\n",
       "      <td>Lapsed</td>\n",
       "      <td>NaN</td>\n",
       "      <td>547748.0</td>\n",
       "      <td>187941.0</td>\n",
       "      <td>RM6 6PY</td>\n",
       "      <td>...</td>\n",
       "      <td>13/01133/PRIOR</td>\n",
       "      <td>NaT</td>\n",
       "      <td>2014-02-11 00:00:00</td>\n",
       "      <td>2.0</td>\n",
       "      <td>B1a</td>\n",
       "      <td>151.0</td>\n",
       "      <td>High Road, Seven Kings.</td>\n",
       "      <td>Chadwell Heath</td>\n",
       "      <td>NaN</td>\n",
       "      <td>NaN</td>\n",
       "    </tr>\n",
       "    <tr>\n",
       "      <th>2</th>\n",
       "      <td>Barking_&amp;_Dagenham-13_01151_PRIOR</td>\n",
       "      <td>Prior Approval: Change of use - offices to dwe...</td>\n",
       "      <td>Prior Approval: Change of use - offices to dwe...</td>\n",
       "      <td>Application for prior approval of change of us...</td>\n",
       "      <td>Allowed</td>\n",
       "      <td>Lapsed</td>\n",
       "      <td>NaN</td>\n",
       "      <td>543692.0</td>\n",
       "      <td>184058.0</td>\n",
       "      <td>IG11 8BB</td>\n",
       "      <td>...</td>\n",
       "      <td>13/01151/PRIOR</td>\n",
       "      <td>NaT</td>\n",
       "      <td>2014-03-03 00:00:00</td>\n",
       "      <td>44.0</td>\n",
       "      <td>B1a</td>\n",
       "      <td>3183.0</td>\n",
       "      <td>NaN</td>\n",
       "      <td>NaN</td>\n",
       "      <td>NaN</td>\n",
       "      <td>London Riverside</td>\n",
       "    </tr>\n",
       "  </tbody>\n",
       "</table>\n",
       "<p>3 rows × 21 columns</p>\n",
       "</div>"
      ],
      "text/plain": [
       "                                  id  \\\n",
       "0  Barking_&_Dagenham-13_00560_CLU_P   \n",
       "1  Barking_&_Dagenham-13_01133_PRIOR   \n",
       "2  Barking_&_Dagenham-13_01151_PRIOR   \n",
       "\n",
       "                         Application type on Datahub  \\\n",
       "0  Prior Approval: Change of use - retail/takeawa...   \n",
       "1  Prior Approval: Change of use - offices to dwe...   \n",
       "2  Prior Approval: Change of use - offices to dwe...   \n",
       "\n",
       "                          Application type (assumed)  \\\n",
       "0  Prior Approval: Change of use - retail/takeawa...   \n",
       "1  Prior Approval: Change of use - offices to dwe...   \n",
       "2  Prior Approval: Change of use - offices to dwe...   \n",
       "\n",
       "                             Development description Status (groups)  \\\n",
       "0  Application for a certificate of lawfulness fo...         Allowed   \n",
       "1  Application for prior approval of proposed cha...         Allowed   \n",
       "2  Application for prior approval of change of us...         Allowed   \n",
       "\n",
       "       Status Decision   Easting  Northing  postcode  ... Application number  \\\n",
       "0  Superseded      NaN  549303.0  183999.0  RM10 9JA  ...     13/00560/CLU_P   \n",
       "1      Lapsed      NaN  547748.0  187941.0   RM6 6PY  ...     13/01133/PRIOR   \n",
       "2      Lapsed      NaN  543692.0  184058.0  IG11 8BB  ...     13/01151/PRIOR   \n",
       "\n",
       "  Valid date        Decision date Residential units proposed  \\\n",
       "0        NaT  2013-09-10 00:00:00                        2.0   \n",
       "1        NaT  2014-02-11 00:00:00                        2.0   \n",
       "2        NaT  2014-03-03 00:00:00                       44.0   \n",
       "\n",
       "   Existing use class (from Datahub) Existing non-residential floorspace  \\\n",
       "0                                 A1                               100.0   \n",
       "1                                B1a                               151.0   \n",
       "2                                B1a                              3183.0   \n",
       "\n",
       "          High Street name Town Centre Name Planned Article 4 Direction  \\\n",
       "0  Broad Street, Dagenham.              NaN                         NaN   \n",
       "1  High Road, Seven Kings.   Chadwell Heath                         NaN   \n",
       "2                      NaN              NaN                         NaN   \n",
       "\n",
       "    Adopted OA name  \n",
       "0               NaN  \n",
       "1               NaN  \n",
       "2  London Riverside  \n",
       "\n",
       "[3 rows x 21 columns]"
      ]
     },
     "execution_count": 4,
     "metadata": {},
     "output_type": "execute_result"
    }
   ],
   "source": [
    "df.head(3)"
   ]
  },
  {
   "cell_type": "code",
   "execution_count": 7,
   "metadata": {},
   "outputs": [
    {
     "data": {
      "text/plain": [
       "Index(['id', 'Application type on Datahub', 'Application type (assumed)',\n",
       "       'Development description', 'Status (groups)', 'Status', 'Decision',\n",
       "       'Easting', 'Northing', 'postcode', 'Planning authority',\n",
       "       'Application number', 'Valid date', 'Decision date',\n",
       "       'Residential units proposed', 'Existing use class (from Datahub)',\n",
       "       'Existing non-residential floorspace', 'High Street name',\n",
       "       'Town Centre Name', 'Planned Article 4 Direction', 'Adopted OA name'],\n",
       "      dtype='object')"
      ]
     },
     "execution_count": 7,
     "metadata": {},
     "output_type": "execute_result"
    }
   ],
   "source": [
    "df.columns"
   ]
  },
  {
   "cell_type": "code",
   "execution_count": 8,
   "metadata": {},
   "outputs": [
    {
     "data": {
      "text/plain": [
       "Ealing                    5902\n",
       "Barnet                    2474\n",
       "Richmond                  2423\n",
       "Enfield                   1662\n",
       "Brent                     1471\n",
       "Bromley                   1308\n",
       "Havering                  1304\n",
       "Croydon                   1293\n",
       "Hillingdon                1038\n",
       "Sutton                     925\n",
       "Lewisham                   912\n",
       "Merton                     888\n",
       "Newham                     887\n",
       "Kingston                   837\n",
       "Harrow                     798\n",
       "Greenwich                  753\n",
       "Bexley                     713\n",
       "Lambeth                    684\n",
       "Hackney                    419\n",
       "Hammersmith & Fulham       408\n",
       "Wandsworth                 377\n",
       "Southwark                  350\n",
       "Camden                     318\n",
       "Tower Hamlets              303\n",
       "Haringey                   284\n",
       "Redbridge                  247\n",
       "Hounslow                   232\n",
       "Islington                  217\n",
       "Westminster                142\n",
       "Waltham Forest             132\n",
       "Kensington & Chelsea        48\n",
       "Barking & Dagenham          35\n",
       "City of London              34\n",
       "LLDC                        16\n",
       "OPDC                        10\n",
       "Hammersmith and Fulham       3\n",
       "Name: Planning authority, dtype: int64"
      ]
     },
     "execution_count": 8,
     "metadata": {},
     "output_type": "execute_result"
    }
   ],
   "source": [
    "df['Planning authority'].value_counts()"
   ]
  },
  {
   "cell_type": "code",
   "execution_count": null,
   "metadata": {},
   "outputs": [],
   "source": [
    "# Kensington and Chelsea particularly low"
   ]
  },
  {
   "cell_type": "code",
   "execution_count": 9,
   "metadata": {},
   "outputs": [
    {
     "data": {
      "text/plain": [
       "NaN                                                                              20241\n",
       "Prior Approval: Change of use - offices to dwellinghouses                         4454\n",
       "Prior Approval: Larger Home Extension                                             3101\n",
       "Lawful development: Proposed use                                                   676\n",
       "Prior Approval: Change of use - retail/takeaway to dwellinghouses                  641\n",
       "Prior Approval: Development for electronic communications network                  224\n",
       "Prior Approval: Change of use - storage to dwellinghouses                          184\n",
       "Prior Approval: Change of use - retail/service/takeaway/etc to dwellinghouses      127\n",
       "Prior Approval: Change of use - retail/service/etc to restaurant/café               44\n",
       "Lawful development: Existing use                                                    35\n",
       "Prior Approval: Change of use - business/hotels/etc to school/nursery               21\n",
       "Full planning permission                                                            21\n",
       "Prior Approval: Demolition of building                                              21\n",
       "Prior Approval: Roof mounted solar PV on non-domestic building                      18\n",
       "Prior Approval: Change of use - agriculture to dwellinghouses                        9\n",
       "Prior Approval: Change of use - amusements/casinos to dwellinghouses                 8\n",
       "Prior Approval: Change of use - light industrial to dwellinghouses                   7\n",
       "Prior Approval: Change of use - retail to restaurant/café                            4\n",
       "Prior Approval: Change of use - retail/service/takeaway/etc to offices               3\n",
       "Prior Approval: Building for agricultural/forestry use                               3\n",
       "Prior Approval: Change of use - school/nursery to business/hotels/etc                2\n",
       "Prior Approval: Change of use - retail/service/etc to assembly/leisure               2\n",
       "Non-Material Amendment                                                               1\n",
       "Name: Application type on Datahub, dtype: int64"
      ]
     },
     "execution_count": 9,
     "metadata": {},
     "output_type": "execute_result"
    }
   ],
   "source": [
    "df['Application type on Datahub'].value_counts(dropna = False)"
   ]
  },
  {
   "cell_type": "code",
   "execution_count": 10,
   "metadata": {},
   "outputs": [
    {
     "data": {
      "text/plain": [
       "Prior Approval: Larger Home Extension                                                                                 19342\n",
       "Prior Approval: Change of use - offices to dwellinghouses                                                              5120\n",
       "Lawful development: Proposed use                                                                                       1066\n",
       "Prior Approval: Development for electronic communications network                                                      1036\n",
       "Prior Approval: Change of use - retail/takeaway to dwellinghouses                                                       662\n",
       "Retail to residential                                                                                                   371\n",
       "New dwelling on existing building                                                                                       321\n",
       "Prior Approval: Change of use - retail/service/etc to restaurant/café                                                   272\n",
       "Prior Approval: Change of use - storage to dwellinghouses                                                               211\n",
       "Enlargement of a dwellinghouse by construction of additional storeys                                                    189\n",
       "Prior Approval: Demolition of building                                                                                  139\n",
       "Prior Approval: Change of use - retail/service/takeaway/etc to dwellinghouses                                           133\n",
       "Prior Approval: Enlargement of a dwellinghouse by construction of additional storeys                                    128\n",
       "Change of use - commercial/business/service to dwellinghouses                                                           127\n",
       "Lawful development: Existing use                                                                                        114\n",
       "Prior Approval: Change of use - light industrial to dwellinghouses                                                       78\n",
       "Prior Approval: Change of use from Commercial, Business and Service (Use Class E) to Dwellinghouses (Use Class C3)       63\n",
       "Prior Approval: Roof mounted solar PV on non-domestic building                                                           57\n",
       "Prior Approval: Change of use - business/hotels/etc to school/nursery                                                    56\n",
       "Other                                                                                                                    53\n",
       "Prior Approval: New dwellinghouses on detached blocks of flats                                                           49\n",
       "Not known                                                                                                                44\n",
       "Class E change of use                                                                                                    24\n",
       "Full planning permission                                                                                                 21\n",
       "Prior Approval: Change of use - retail/service/etc to assembly/leisure                                                   18\n",
       "Prior Approval: New dwellinghouses on terrace buildings in commercial or mixed use                                       18\n",
       "Prior Approval: Building for agricultural/forestry use                                                                   17\n",
       "Prior Approval: New dwellinghouses on detached buildings in use as dwellinghouses                                        17\n",
       "Prior Approval: Change of use - agriculture to dwellinghouses                                                            16\n",
       "Prior Approval - New dwellinghouses on detached blocks of flats                                                          13\n",
       "Prior Approval: Change of use - retail to restaurant/café                                                                11\n",
       "Prior Approval: New dwellinghouses on detached buildings in commercial or mixed use                                      11\n",
       "Prior Approval: Change of use - retail/service/takeaway/etc to offices                                                    9\n",
       "Test                                                                                                                      9\n",
       "Demolition of buildings and construction of new dwellinghouses in their place                                             8\n",
       "Prior Approval: Change of use - amusements/casinos to dwellinghouses                                                      8\n",
       "Prior Approval - New dwellinghouses on detached buildings in commercial or mixed use                                      5\n",
       "Prior Approval - New dwellinghouses on terrace buildings in commercial or mixed use                                       3\n",
       "Prior Approval: Change of use - school/nursery to business/hotels/etc                                                     2\n",
       "Prior Approval - New dwellinghouses on detached buildings in use as dwellingho                                            1\n",
       "Non-Material Amendment                                                                                                    1\n",
       "Prior Approval: New dwellinghouses on terrace buildings in use as dwellinghouses                                          1\n",
       "Prior Notification - Larger Home Extension                                                                                1\n",
       "Prior Approval: Demolition of Building and Construction of New Dwellings in their place                                   1\n",
       "Change of use - commercial/business/service/etc to mixed use including up to two flats                                    1\n",
       "Name: Application type (assumed), dtype: int64"
      ]
     },
     "execution_count": 10,
     "metadata": {},
     "output_type": "execute_result"
    }
   ],
   "source": [
    "df['Application type (assumed)'].value_counts(dropna = False)"
   ]
  },
  {
   "cell_type": "code",
   "execution_count": null,
   "metadata": {},
   "outputs": [],
   "source": [
    "df.tail(3)"
   ]
  },
  {
   "cell_type": "markdown",
   "metadata": {},
   "source": [
    "## Clean Change of Use Fields"
   ]
  },
  {
   "cell_type": "markdown",
   "metadata": {},
   "source": [
    "A significant amount of rows lack a value for 'application_type_full' so where those values are null, we need to replace it with the 'Assumed application type' value"
   ]
  },
  {
   "cell_type": "code",
   "execution_count": 11,
   "metadata": {},
   "outputs": [],
   "source": [
    "df['Application type on Datahub'] = df['Application type on Datahub'].apply(lambda x: None if isinstance(x,float) else x)\n",
    "\n",
    "df['application_type_new'] = df.apply(lambda x: x['Application type on Datahub'] if x['Application type on Datahub'] else x['Application type (assumed)'], axis = 1)"
   ]
  },
  {
   "cell_type": "code",
   "execution_count": 29,
   "metadata": {},
   "outputs": [
    {
     "data": {
      "text/plain": [
       "Prior Approval: Larger Home Extension                                                                                 19342\n",
       "Prior Approval: Change of use - offices to dwellinghouses                                                              5120\n",
       "Lawful development: Proposed use                                                                                       1066\n",
       "Prior Approval: Development for electronic communications network                                                      1036\n",
       "Prior Approval: Change of use - retail/takeaway to dwellinghouses                                                       662\n",
       "Retail to residential                                                                                                   371\n",
       "New dwelling on existing building                                                                                       321\n",
       "Prior Approval: Change of use - retail/service/etc to restaurant/café                                                   272\n",
       "Prior Approval: Change of use - storage to dwellinghouses                                                               211\n",
       "Enlargement of a dwellinghouse by construction of additional storeys                                                    189\n",
       "Prior Approval: Demolition of building                                                                                  139\n",
       "Prior Approval: Change of use - retail/service/takeaway/etc to dwellinghouses                                           133\n",
       "Prior Approval: Enlargement of a dwellinghouse by construction of additional storeys                                    128\n",
       "Change of use - commercial/business/service to dwellinghouses                                                           127\n",
       "Lawful development: Existing use                                                                                        114\n",
       "Prior Approval: Change of use - light industrial to dwellinghouses                                                       78\n",
       "Prior Approval: Change of use from Commercial, Business and Service (Use Class E) to Dwellinghouses (Use Class C3)       63\n",
       "Prior Approval: Roof mounted solar PV on non-domestic building                                                           57\n",
       "Prior Approval: Change of use - business/hotels/etc to school/nursery                                                    56\n",
       "Other                                                                                                                    53\n",
       "Prior Approval: New dwellinghouses on detached blocks of flats                                                           49\n",
       "Not known                                                                                                                44\n",
       "Class E change of use                                                                                                    24\n",
       "Full planning permission                                                                                                 21\n",
       "Prior Approval: Change of use - retail/service/etc to assembly/leisure                                                   18\n",
       "Prior Approval: New dwellinghouses on terrace buildings in commercial or mixed use                                       18\n",
       "Prior Approval: Building for agricultural/forestry use                                                                   17\n",
       "Prior Approval: New dwellinghouses on detached buildings in use as dwellinghouses                                        17\n",
       "Prior Approval: Change of use - agriculture to dwellinghouses                                                            16\n",
       "Prior Approval - New dwellinghouses on detached blocks of flats                                                          13\n",
       "Prior Approval: Change of use - retail to restaurant/café                                                                11\n",
       "Prior Approval: New dwellinghouses on detached buildings in commercial or mixed use                                      11\n",
       "Prior Approval: Change of use - retail/service/takeaway/etc to offices                                                    9\n",
       "Test                                                                                                                      9\n",
       "Demolition of buildings and construction of new dwellinghouses in their place                                             8\n",
       "Prior Approval: Change of use - amusements/casinos to dwellinghouses                                                      8\n",
       "Prior Approval - New dwellinghouses on detached buildings in commercial or mixed use                                      5\n",
       "Prior Approval - New dwellinghouses on terrace buildings in commercial or mixed use                                       3\n",
       "Prior Approval: Change of use - school/nursery to business/hotels/etc                                                     2\n",
       "Prior Approval - New dwellinghouses on detached buildings in use as dwellingho                                            1\n",
       "Non-Material Amendment                                                                                                    1\n",
       "Prior Approval: New dwellinghouses on terrace buildings in use as dwellinghouses                                          1\n",
       "Prior Notification - Larger Home Extension                                                                                1\n",
       "Prior Approval: Demolition of Building and Construction of New Dwellings in their place                                   1\n",
       "Change of use - commercial/business/service/etc to mixed use including up to two flats                                    1\n",
       "Name: application_type_new, dtype: int64"
      ]
     },
     "execution_count": 29,
     "metadata": {},
     "output_type": "execute_result"
    }
   ],
   "source": [
    "df['application_type_new'].value_counts(dropna = False)"
   ]
  },
  {
   "cell_type": "markdown",
   "metadata": {},
   "source": [
    "Need to build a capability to catch exceptions and standardise the format of all prior approvals. For example, the title \"Retail to residential\" wouldn't be captured in the below code"
   ]
  },
  {
   "cell_type": "code",
   "execution_count": 46,
   "metadata": {},
   "outputs": [],
   "source": [
    "def split_change(text):\n",
    "    changed_from = None\n",
    "    changed_to = None\n",
    "    if isinstance(text, str):\n",
    "        if ' to ' in text and ' - ' in text:\n",
    "            split = re.split(r' to ', text)\n",
    "            changed_to = split[1]\n",
    "            changed_from = re.split(r' - ',split[0])[1]\n",
    "    return (changed_to, changed_from)      "
   ]
  },
  {
   "cell_type": "code",
   "execution_count": 47,
   "metadata": {},
   "outputs": [],
   "source": [
    "### Apply function to split change to before/after\n",
    "\n",
    "df['changes'] = df['application_type_new'].apply(lambda x: split_change(x))\n",
    "\n",
    "df['changed_from'] = df['changes'].apply(lambda x: x[1])\n",
    "\n",
    "df['changed_to'] = df['changes'].apply(lambda x: x[0])"
   ]
  },
  {
   "cell_type": "code",
   "execution_count": 48,
   "metadata": {},
   "outputs": [],
   "source": [
    "non_null_df = df[df['changes']!= (None, None)]"
   ]
  },
  {
   "cell_type": "code",
   "execution_count": 49,
   "metadata": {},
   "outputs": [
    {
     "data": {
      "text/plain": [
       "(dwellinghouses, offices)                                    5120\n",
       "(dwellinghouses, retail/takeaway)                             662\n",
       "(restaurant/café, retail/service/etc)                         272\n",
       "(dwellinghouses, storage)                                     211\n",
       "(dwellinghouses, retail/service/takeaway/etc)                 133\n",
       "(dwellinghouses, commercial/business/service)                 127\n",
       "(dwellinghouses, light industrial)                             78\n",
       "(school/nursery, business/hotels/etc)                          56\n",
       "(assembly/leisure, retail/service/etc)                         18\n",
       "(dwellinghouses, agriculture)                                  16\n",
       "(restaurant/café, retail)                                      11\n",
       "(offices, retail/service/takeaway/etc)                          9\n",
       "(dwellinghouses, amusements/casinos)                            8\n",
       "(business/hotels/etc, school/nursery)                           2\n",
       "(mixed use including up, commercial/business/service/etc)       1\n",
       "Name: changes, dtype: int64"
      ]
     },
     "execution_count": 49,
     "metadata": {},
     "output_type": "execute_result"
    }
   ],
   "source": [
    "non_null_df['changes'].value_counts()"
   ]
  },
  {
   "cell_type": "code",
   "execution_count": 89,
   "metadata": {},
   "outputs": [],
   "source": [
    "# Quick function to clean up the formatting of the to/from labels\n",
    "# Important bit is to add the extra space to some labels (either to or from) to make it different, otherwise Sankey chart will be distorted\n",
    "\n",
    "\n",
    "def clean_labels(x):\n",
    "    to = x[0]\n",
    "    fr = x[1]\n",
    "    to = to.capitalize()\n",
    "    fr = fr.capitalize()\n",
    "    to += ' '\n",
    "    return (to, fr)"
   ]
  },
  {
   "cell_type": "code",
   "execution_count": 90,
   "metadata": {},
   "outputs": [
    {
     "data": {
      "text/html": [
       "<div>\n",
       "<style scoped>\n",
       "    .dataframe tbody tr th:only-of-type {\n",
       "        vertical-align: middle;\n",
       "    }\n",
       "\n",
       "    .dataframe tbody tr th {\n",
       "        vertical-align: top;\n",
       "    }\n",
       "\n",
       "    .dataframe thead th {\n",
       "        text-align: right;\n",
       "    }\n",
       "</style>\n",
       "<table border=\"1\" class=\"dataframe\">\n",
       "  <thead>\n",
       "    <tr style=\"text-align: right;\">\n",
       "      <th></th>\n",
       "      <th>index</th>\n",
       "      <th>changes</th>\n",
       "      <th>changed_to</th>\n",
       "      <th>changed_from</th>\n",
       "    </tr>\n",
       "  </thead>\n",
       "  <tbody>\n",
       "    <tr>\n",
       "      <th>0</th>\n",
       "      <td>(Dwellinghouses , Offices)</td>\n",
       "      <td>5120</td>\n",
       "      <td>Dwellinghouses</td>\n",
       "      <td>Offices</td>\n",
       "    </tr>\n",
       "    <tr>\n",
       "      <th>1</th>\n",
       "      <td>(Dwellinghouses , Retail/takeaway)</td>\n",
       "      <td>662</td>\n",
       "      <td>Dwellinghouses</td>\n",
       "      <td>Retail/takeaway</td>\n",
       "    </tr>\n",
       "    <tr>\n",
       "      <th>2</th>\n",
       "      <td>(Restaurant/café , Retail/service/etc)</td>\n",
       "      <td>272</td>\n",
       "      <td>Restaurant/café</td>\n",
       "      <td>Retail/service/etc</td>\n",
       "    </tr>\n",
       "    <tr>\n",
       "      <th>3</th>\n",
       "      <td>(Dwellinghouses , Storage)</td>\n",
       "      <td>211</td>\n",
       "      <td>Dwellinghouses</td>\n",
       "      <td>Storage</td>\n",
       "    </tr>\n",
       "    <tr>\n",
       "      <th>4</th>\n",
       "      <td>(Dwellinghouses , Retail/service/takeaway/etc)</td>\n",
       "      <td>133</td>\n",
       "      <td>Dwellinghouses</td>\n",
       "      <td>Retail/service/takeaway/etc</td>\n",
       "    </tr>\n",
       "    <tr>\n",
       "      <th>5</th>\n",
       "      <td>(Dwellinghouses , Commercial/business/service)</td>\n",
       "      <td>127</td>\n",
       "      <td>Dwellinghouses</td>\n",
       "      <td>Commercial/business/service</td>\n",
       "    </tr>\n",
       "    <tr>\n",
       "      <th>6</th>\n",
       "      <td>(Dwellinghouses , Light industrial)</td>\n",
       "      <td>78</td>\n",
       "      <td>Dwellinghouses</td>\n",
       "      <td>Light industrial</td>\n",
       "    </tr>\n",
       "    <tr>\n",
       "      <th>7</th>\n",
       "      <td>(School/nursery , Business/hotels/etc)</td>\n",
       "      <td>56</td>\n",
       "      <td>School/nursery</td>\n",
       "      <td>Business/hotels/etc</td>\n",
       "    </tr>\n",
       "    <tr>\n",
       "      <th>8</th>\n",
       "      <td>(Assembly/leisure , Retail/service/etc)</td>\n",
       "      <td>18</td>\n",
       "      <td>Assembly/leisure</td>\n",
       "      <td>Retail/service/etc</td>\n",
       "    </tr>\n",
       "    <tr>\n",
       "      <th>9</th>\n",
       "      <td>(Dwellinghouses , Agriculture)</td>\n",
       "      <td>16</td>\n",
       "      <td>Dwellinghouses</td>\n",
       "      <td>Agriculture</td>\n",
       "    </tr>\n",
       "    <tr>\n",
       "      <th>10</th>\n",
       "      <td>(Restaurant/café , Retail)</td>\n",
       "      <td>11</td>\n",
       "      <td>Restaurant/café</td>\n",
       "      <td>Retail</td>\n",
       "    </tr>\n",
       "    <tr>\n",
       "      <th>11</th>\n",
       "      <td>(Offices , Retail/service/takeaway/etc)</td>\n",
       "      <td>9</td>\n",
       "      <td>Offices</td>\n",
       "      <td>Retail/service/takeaway/etc</td>\n",
       "    </tr>\n",
       "    <tr>\n",
       "      <th>12</th>\n",
       "      <td>(Dwellinghouses , Amusements/casinos)</td>\n",
       "      <td>8</td>\n",
       "      <td>Dwellinghouses</td>\n",
       "      <td>Amusements/casinos</td>\n",
       "    </tr>\n",
       "    <tr>\n",
       "      <th>13</th>\n",
       "      <td>(Business/hotels/etc , School/nursery)</td>\n",
       "      <td>2</td>\n",
       "      <td>Business/hotels/etc</td>\n",
       "      <td>School/nursery</td>\n",
       "    </tr>\n",
       "    <tr>\n",
       "      <th>14</th>\n",
       "      <td>(Mixed use including up , Commercial/business/...</td>\n",
       "      <td>1</td>\n",
       "      <td>Mixed use including up</td>\n",
       "      <td>Commercial/business/service/etc</td>\n",
       "    </tr>\n",
       "  </tbody>\n",
       "</table>\n",
       "</div>"
      ],
      "text/plain": [
       "                                                index  changes  \\\n",
       "0                          (Dwellinghouses , Offices)     5120   \n",
       "1                  (Dwellinghouses , Retail/takeaway)      662   \n",
       "2              (Restaurant/café , Retail/service/etc)      272   \n",
       "3                          (Dwellinghouses , Storage)      211   \n",
       "4      (Dwellinghouses , Retail/service/takeaway/etc)      133   \n",
       "5      (Dwellinghouses , Commercial/business/service)      127   \n",
       "6                 (Dwellinghouses , Light industrial)       78   \n",
       "7              (School/nursery , Business/hotels/etc)       56   \n",
       "8             (Assembly/leisure , Retail/service/etc)       18   \n",
       "9                      (Dwellinghouses , Agriculture)       16   \n",
       "10                         (Restaurant/café , Retail)       11   \n",
       "11            (Offices , Retail/service/takeaway/etc)        9   \n",
       "12              (Dwellinghouses , Amusements/casinos)        8   \n",
       "13             (Business/hotels/etc , School/nursery)        2   \n",
       "14  (Mixed use including up , Commercial/business/...        1   \n",
       "\n",
       "                 changed_to                     changed_from  \n",
       "0           Dwellinghouses                           Offices  \n",
       "1           Dwellinghouses                   Retail/takeaway  \n",
       "2          Restaurant/café                Retail/service/etc  \n",
       "3           Dwellinghouses                           Storage  \n",
       "4           Dwellinghouses       Retail/service/takeaway/etc  \n",
       "5           Dwellinghouses       Commercial/business/service  \n",
       "6           Dwellinghouses                  Light industrial  \n",
       "7           School/nursery               Business/hotels/etc  \n",
       "8         Assembly/leisure                Retail/service/etc  \n",
       "9           Dwellinghouses                       Agriculture  \n",
       "10         Restaurant/café                            Retail  \n",
       "11                 Offices       Retail/service/takeaway/etc  \n",
       "12          Dwellinghouses                Amusements/casinos  \n",
       "13     Business/hotels/etc                    School/nursery  \n",
       "14  Mixed use including up   Commercial/business/service/etc  "
      ]
     },
     "execution_count": 90,
     "metadata": {},
     "output_type": "execute_result"
    }
   ],
   "source": [
    "change_df = pd.DataFrame(non_null_df['changes'].value_counts()).reset_index()\n",
    "change_df['index'] = change_df['index'].apply(lambda x: clean_labels(x))\n",
    "change_df['changed_to'] = change_df['index'].apply(lambda x: x[0])\n",
    "change_df['changed_from'] = change_df['index'].apply(lambda x: x[1])\n",
    "change_df"
   ]
  },
  {
   "cell_type": "code",
   "execution_count": null,
   "metadata": {},
   "outputs": [],
   "source": [
    "tabs = pd.crosstab(non_null_df['changes'],non_null_df['lpa_name'],margins = True)"
   ]
  },
  {
   "cell_type": "code",
   "execution_count": null,
   "metadata": {},
   "outputs": [],
   "source": [
    "tabs_pct = pd.crosstab(non_null_df['changes'],non_null_df['lpa_name'], normalize = 'index',margins = True)"
   ]
  },
  {
   "cell_type": "code",
   "execution_count": null,
   "metadata": {},
   "outputs": [],
   "source": [
    "tabs_pct"
   ]
  },
  {
   "cell_type": "code",
   "execution_count": null,
   "metadata": {},
   "outputs": [],
   "source": [
    "tabs"
   ]
  },
  {
   "cell_type": "code",
   "execution_count": 93,
   "metadata": {},
   "outputs": [],
   "source": [
    "types = list(set(list(change_df['changed_to'])+list(change_df['changed_from'])))\n",
    "\n",
    "value_dict = dict(zip(change_df['index'], change_df['changes']))"
   ]
  },
  {
   "cell_type": "code",
   "execution_count": 97,
   "metadata": {},
   "outputs": [
    {
     "data": {
      "application/vnd.plotly.v1+json": {
       "config": {
        "plotlyServerURL": "https://plot.ly"
       },
       "data": [
        {
         "link": {
          "label": [
           5120,
           662,
           272,
           211,
           133,
           127,
           78,
           56,
           18,
           16,
           11,
           9,
           8,
           2,
           1
          ],
          "source": [
           14,
           12,
           17,
           1,
           0,
           4,
           7,
           8,
           17,
           15,
           19,
           0,
           2,
           18,
           3
          ],
          "target": [
           9,
           9,
           10,
           9,
           9,
           9,
           9,
           16,
           13,
           9,
           10,
           11,
           9,
           5,
           6
          ],
          "value": [
           5120,
           662,
           272,
           211,
           133,
           127,
           78,
           56,
           18,
           16,
           11,
           9,
           8,
           2,
           1
          ]
         },
         "node": {
          "label": [
           "Retail/service/takeaway/etc",
           "Storage",
           "Amusements/casinos",
           "Commercial/business/service/etc",
           "Commercial/business/service",
           "Business/hotels/etc ",
           "Mixed use including up ",
           "Light industrial",
           "Business/hotels/etc",
           "Dwellinghouses ",
           "Restaurant/café ",
           "Offices ",
           "Retail/takeaway",
           "Assembly/leisure ",
           "Offices",
           "Agriculture",
           "School/nursery ",
           "Retail/service/etc",
           "School/nursery",
           "Retail"
          ],
          "line": {
           "color": "black",
           "width": 0.5
          },
          "pad": 15,
          "thickness": 20
         },
         "type": "sankey"
        }
       ],
       "layout": {
        "font": {
         "size": 10
        },
        "template": {
         "data": {
          "bar": [
           {
            "error_x": {
             "color": "#2a3f5f"
            },
            "error_y": {
             "color": "#2a3f5f"
            },
            "marker": {
             "line": {
              "color": "#E5ECF6",
              "width": 0.5
             },
             "pattern": {
              "fillmode": "overlay",
              "size": 10,
              "solidity": 0.2
             }
            },
            "type": "bar"
           }
          ],
          "barpolar": [
           {
            "marker": {
             "line": {
              "color": "#E5ECF6",
              "width": 0.5
             },
             "pattern": {
              "fillmode": "overlay",
              "size": 10,
              "solidity": 0.2
             }
            },
            "type": "barpolar"
           }
          ],
          "carpet": [
           {
            "aaxis": {
             "endlinecolor": "#2a3f5f",
             "gridcolor": "white",
             "linecolor": "white",
             "minorgridcolor": "white",
             "startlinecolor": "#2a3f5f"
            },
            "baxis": {
             "endlinecolor": "#2a3f5f",
             "gridcolor": "white",
             "linecolor": "white",
             "minorgridcolor": "white",
             "startlinecolor": "#2a3f5f"
            },
            "type": "carpet"
           }
          ],
          "choropleth": [
           {
            "colorbar": {
             "outlinewidth": 0,
             "ticks": ""
            },
            "type": "choropleth"
           }
          ],
          "contour": [
           {
            "colorbar": {
             "outlinewidth": 0,
             "ticks": ""
            },
            "colorscale": [
             [
              0,
              "#0d0887"
             ],
             [
              0.1111111111111111,
              "#46039f"
             ],
             [
              0.2222222222222222,
              "#7201a8"
             ],
             [
              0.3333333333333333,
              "#9c179e"
             ],
             [
              0.4444444444444444,
              "#bd3786"
             ],
             [
              0.5555555555555556,
              "#d8576b"
             ],
             [
              0.6666666666666666,
              "#ed7953"
             ],
             [
              0.7777777777777778,
              "#fb9f3a"
             ],
             [
              0.8888888888888888,
              "#fdca26"
             ],
             [
              1,
              "#f0f921"
             ]
            ],
            "type": "contour"
           }
          ],
          "contourcarpet": [
           {
            "colorbar": {
             "outlinewidth": 0,
             "ticks": ""
            },
            "type": "contourcarpet"
           }
          ],
          "heatmap": [
           {
            "colorbar": {
             "outlinewidth": 0,
             "ticks": ""
            },
            "colorscale": [
             [
              0,
              "#0d0887"
             ],
             [
              0.1111111111111111,
              "#46039f"
             ],
             [
              0.2222222222222222,
              "#7201a8"
             ],
             [
              0.3333333333333333,
              "#9c179e"
             ],
             [
              0.4444444444444444,
              "#bd3786"
             ],
             [
              0.5555555555555556,
              "#d8576b"
             ],
             [
              0.6666666666666666,
              "#ed7953"
             ],
             [
              0.7777777777777778,
              "#fb9f3a"
             ],
             [
              0.8888888888888888,
              "#fdca26"
             ],
             [
              1,
              "#f0f921"
             ]
            ],
            "type": "heatmap"
           }
          ],
          "heatmapgl": [
           {
            "colorbar": {
             "outlinewidth": 0,
             "ticks": ""
            },
            "colorscale": [
             [
              0,
              "#0d0887"
             ],
             [
              0.1111111111111111,
              "#46039f"
             ],
             [
              0.2222222222222222,
              "#7201a8"
             ],
             [
              0.3333333333333333,
              "#9c179e"
             ],
             [
              0.4444444444444444,
              "#bd3786"
             ],
             [
              0.5555555555555556,
              "#d8576b"
             ],
             [
              0.6666666666666666,
              "#ed7953"
             ],
             [
              0.7777777777777778,
              "#fb9f3a"
             ],
             [
              0.8888888888888888,
              "#fdca26"
             ],
             [
              1,
              "#f0f921"
             ]
            ],
            "type": "heatmapgl"
           }
          ],
          "histogram": [
           {
            "marker": {
             "pattern": {
              "fillmode": "overlay",
              "size": 10,
              "solidity": 0.2
             }
            },
            "type": "histogram"
           }
          ],
          "histogram2d": [
           {
            "colorbar": {
             "outlinewidth": 0,
             "ticks": ""
            },
            "colorscale": [
             [
              0,
              "#0d0887"
             ],
             [
              0.1111111111111111,
              "#46039f"
             ],
             [
              0.2222222222222222,
              "#7201a8"
             ],
             [
              0.3333333333333333,
              "#9c179e"
             ],
             [
              0.4444444444444444,
              "#bd3786"
             ],
             [
              0.5555555555555556,
              "#d8576b"
             ],
             [
              0.6666666666666666,
              "#ed7953"
             ],
             [
              0.7777777777777778,
              "#fb9f3a"
             ],
             [
              0.8888888888888888,
              "#fdca26"
             ],
             [
              1,
              "#f0f921"
             ]
            ],
            "type": "histogram2d"
           }
          ],
          "histogram2dcontour": [
           {
            "colorbar": {
             "outlinewidth": 0,
             "ticks": ""
            },
            "colorscale": [
             [
              0,
              "#0d0887"
             ],
             [
              0.1111111111111111,
              "#46039f"
             ],
             [
              0.2222222222222222,
              "#7201a8"
             ],
             [
              0.3333333333333333,
              "#9c179e"
             ],
             [
              0.4444444444444444,
              "#bd3786"
             ],
             [
              0.5555555555555556,
              "#d8576b"
             ],
             [
              0.6666666666666666,
              "#ed7953"
             ],
             [
              0.7777777777777778,
              "#fb9f3a"
             ],
             [
              0.8888888888888888,
              "#fdca26"
             ],
             [
              1,
              "#f0f921"
             ]
            ],
            "type": "histogram2dcontour"
           }
          ],
          "mesh3d": [
           {
            "colorbar": {
             "outlinewidth": 0,
             "ticks": ""
            },
            "type": "mesh3d"
           }
          ],
          "parcoords": [
           {
            "line": {
             "colorbar": {
              "outlinewidth": 0,
              "ticks": ""
             }
            },
            "type": "parcoords"
           }
          ],
          "pie": [
           {
            "automargin": true,
            "type": "pie"
           }
          ],
          "scatter": [
           {
            "marker": {
             "colorbar": {
              "outlinewidth": 0,
              "ticks": ""
             }
            },
            "type": "scatter"
           }
          ],
          "scatter3d": [
           {
            "line": {
             "colorbar": {
              "outlinewidth": 0,
              "ticks": ""
             }
            },
            "marker": {
             "colorbar": {
              "outlinewidth": 0,
              "ticks": ""
             }
            },
            "type": "scatter3d"
           }
          ],
          "scattercarpet": [
           {
            "marker": {
             "colorbar": {
              "outlinewidth": 0,
              "ticks": ""
             }
            },
            "type": "scattercarpet"
           }
          ],
          "scattergeo": [
           {
            "marker": {
             "colorbar": {
              "outlinewidth": 0,
              "ticks": ""
             }
            },
            "type": "scattergeo"
           }
          ],
          "scattergl": [
           {
            "marker": {
             "colorbar": {
              "outlinewidth": 0,
              "ticks": ""
             }
            },
            "type": "scattergl"
           }
          ],
          "scattermapbox": [
           {
            "marker": {
             "colorbar": {
              "outlinewidth": 0,
              "ticks": ""
             }
            },
            "type": "scattermapbox"
           }
          ],
          "scatterpolar": [
           {
            "marker": {
             "colorbar": {
              "outlinewidth": 0,
              "ticks": ""
             }
            },
            "type": "scatterpolar"
           }
          ],
          "scatterpolargl": [
           {
            "marker": {
             "colorbar": {
              "outlinewidth": 0,
              "ticks": ""
             }
            },
            "type": "scatterpolargl"
           }
          ],
          "scatterternary": [
           {
            "marker": {
             "colorbar": {
              "outlinewidth": 0,
              "ticks": ""
             }
            },
            "type": "scatterternary"
           }
          ],
          "surface": [
           {
            "colorbar": {
             "outlinewidth": 0,
             "ticks": ""
            },
            "colorscale": [
             [
              0,
              "#0d0887"
             ],
             [
              0.1111111111111111,
              "#46039f"
             ],
             [
              0.2222222222222222,
              "#7201a8"
             ],
             [
              0.3333333333333333,
              "#9c179e"
             ],
             [
              0.4444444444444444,
              "#bd3786"
             ],
             [
              0.5555555555555556,
              "#d8576b"
             ],
             [
              0.6666666666666666,
              "#ed7953"
             ],
             [
              0.7777777777777778,
              "#fb9f3a"
             ],
             [
              0.8888888888888888,
              "#fdca26"
             ],
             [
              1,
              "#f0f921"
             ]
            ],
            "type": "surface"
           }
          ],
          "table": [
           {
            "cells": {
             "fill": {
              "color": "#EBF0F8"
             },
             "line": {
              "color": "white"
             }
            },
            "header": {
             "fill": {
              "color": "#C8D4E3"
             },
             "line": {
              "color": "white"
             }
            },
            "type": "table"
           }
          ]
         },
         "layout": {
          "annotationdefaults": {
           "arrowcolor": "#2a3f5f",
           "arrowhead": 0,
           "arrowwidth": 1
          },
          "autotypenumbers": "strict",
          "coloraxis": {
           "colorbar": {
            "outlinewidth": 0,
            "ticks": ""
           }
          },
          "colorscale": {
           "diverging": [
            [
             0,
             "#8e0152"
            ],
            [
             0.1,
             "#c51b7d"
            ],
            [
             0.2,
             "#de77ae"
            ],
            [
             0.3,
             "#f1b6da"
            ],
            [
             0.4,
             "#fde0ef"
            ],
            [
             0.5,
             "#f7f7f7"
            ],
            [
             0.6,
             "#e6f5d0"
            ],
            [
             0.7,
             "#b8e186"
            ],
            [
             0.8,
             "#7fbc41"
            ],
            [
             0.9,
             "#4d9221"
            ],
            [
             1,
             "#276419"
            ]
           ],
           "sequential": [
            [
             0,
             "#0d0887"
            ],
            [
             0.1111111111111111,
             "#46039f"
            ],
            [
             0.2222222222222222,
             "#7201a8"
            ],
            [
             0.3333333333333333,
             "#9c179e"
            ],
            [
             0.4444444444444444,
             "#bd3786"
            ],
            [
             0.5555555555555556,
             "#d8576b"
            ],
            [
             0.6666666666666666,
             "#ed7953"
            ],
            [
             0.7777777777777778,
             "#fb9f3a"
            ],
            [
             0.8888888888888888,
             "#fdca26"
            ],
            [
             1,
             "#f0f921"
            ]
           ],
           "sequentialminus": [
            [
             0,
             "#0d0887"
            ],
            [
             0.1111111111111111,
             "#46039f"
            ],
            [
             0.2222222222222222,
             "#7201a8"
            ],
            [
             0.3333333333333333,
             "#9c179e"
            ],
            [
             0.4444444444444444,
             "#bd3786"
            ],
            [
             0.5555555555555556,
             "#d8576b"
            ],
            [
             0.6666666666666666,
             "#ed7953"
            ],
            [
             0.7777777777777778,
             "#fb9f3a"
            ],
            [
             0.8888888888888888,
             "#fdca26"
            ],
            [
             1,
             "#f0f921"
            ]
           ]
          },
          "colorway": [
           "#636efa",
           "#EF553B",
           "#00cc96",
           "#ab63fa",
           "#FFA15A",
           "#19d3f3",
           "#FF6692",
           "#B6E880",
           "#FF97FF",
           "#FECB52"
          ],
          "font": {
           "color": "#2a3f5f"
          },
          "geo": {
           "bgcolor": "white",
           "lakecolor": "white",
           "landcolor": "#E5ECF6",
           "showlakes": true,
           "showland": true,
           "subunitcolor": "white"
          },
          "hoverlabel": {
           "align": "left"
          },
          "hovermode": "closest",
          "mapbox": {
           "style": "light"
          },
          "paper_bgcolor": "white",
          "plot_bgcolor": "#E5ECF6",
          "polar": {
           "angularaxis": {
            "gridcolor": "white",
            "linecolor": "white",
            "ticks": ""
           },
           "bgcolor": "#E5ECF6",
           "radialaxis": {
            "gridcolor": "white",
            "linecolor": "white",
            "ticks": ""
           }
          },
          "scene": {
           "xaxis": {
            "backgroundcolor": "#E5ECF6",
            "gridcolor": "white",
            "gridwidth": 2,
            "linecolor": "white",
            "showbackground": true,
            "ticks": "",
            "zerolinecolor": "white"
           },
           "yaxis": {
            "backgroundcolor": "#E5ECF6",
            "gridcolor": "white",
            "gridwidth": 2,
            "linecolor": "white",
            "showbackground": true,
            "ticks": "",
            "zerolinecolor": "white"
           },
           "zaxis": {
            "backgroundcolor": "#E5ECF6",
            "gridcolor": "white",
            "gridwidth": 2,
            "linecolor": "white",
            "showbackground": true,
            "ticks": "",
            "zerolinecolor": "white"
           }
          },
          "shapedefaults": {
           "line": {
            "color": "#2a3f5f"
           }
          },
          "ternary": {
           "aaxis": {
            "gridcolor": "white",
            "linecolor": "white",
            "ticks": ""
           },
           "baxis": {
            "gridcolor": "white",
            "linecolor": "white",
            "ticks": ""
           },
           "bgcolor": "#E5ECF6",
           "caxis": {
            "gridcolor": "white",
            "linecolor": "white",
            "ticks": ""
           }
          },
          "title": {
           "x": 0.05
          },
          "xaxis": {
           "automargin": true,
           "gridcolor": "white",
           "linecolor": "white",
           "ticks": "",
           "title": {
            "standoff": 15
           },
           "zerolinecolor": "white",
           "zerolinewidth": 2
          },
          "yaxis": {
           "automargin": true,
           "gridcolor": "white",
           "linecolor": "white",
           "ticks": "",
           "title": {
            "standoff": 15
           },
           "zerolinecolor": "white",
           "zerolinewidth": 2
          }
         }
        },
        "title": {
         "text": "Prior Approvals - Change of Use"
        }
       }
      },
      "text/html": [
       "<div>                            <div id=\"5020df4e-2ae3-40a5-8477-f7f106e46e79\" class=\"plotly-graph-div\" style=\"height:525px; width:100%;\"></div>            <script type=\"text/javascript\">                require([\"plotly\"], function(Plotly) {                    window.PLOTLYENV=window.PLOTLYENV || {};                                    if (document.getElementById(\"5020df4e-2ae3-40a5-8477-f7f106e46e79\")) {                    Plotly.newPlot(                        \"5020df4e-2ae3-40a5-8477-f7f106e46e79\",                        [{\"link\":{\"label\":[5120,662,272,211,133,127,78,56,18,16,11,9,8,2,1],\"source\":[14,12,17,1,0,4,7,8,17,15,19,0,2,18,3],\"target\":[9,9,10,9,9,9,9,16,13,9,10,11,9,5,6],\"value\":[5120,662,272,211,133,127,78,56,18,16,11,9,8,2,1]},\"node\":{\"label\":[\"Retail/service/takeaway/etc\",\"Storage\",\"Amusements/casinos\",\"Commercial/business/service/etc\",\"Commercial/business/service\",\"Business/hotels/etc \",\"Mixed use including up \",\"Light industrial\",\"Business/hotels/etc\",\"Dwellinghouses \",\"Restaurant/caf\\u00e9 \",\"Offices \",\"Retail/takeaway\",\"Assembly/leisure \",\"Offices\",\"Agriculture\",\"School/nursery \",\"Retail/service/etc\",\"School/nursery\",\"Retail\"],\"line\":{\"color\":\"black\",\"width\":0.5},\"pad\":15,\"thickness\":20},\"type\":\"sankey\"}],                        {\"font\":{\"size\":10},\"template\":{\"data\":{\"bar\":[{\"error_x\":{\"color\":\"#2a3f5f\"},\"error_y\":{\"color\":\"#2a3f5f\"},\"marker\":{\"line\":{\"color\":\"#E5ECF6\",\"width\":0.5},\"pattern\":{\"fillmode\":\"overlay\",\"size\":10,\"solidity\":0.2}},\"type\":\"bar\"}],\"barpolar\":[{\"marker\":{\"line\":{\"color\":\"#E5ECF6\",\"width\":0.5},\"pattern\":{\"fillmode\":\"overlay\",\"size\":10,\"solidity\":0.2}},\"type\":\"barpolar\"}],\"carpet\":[{\"aaxis\":{\"endlinecolor\":\"#2a3f5f\",\"gridcolor\":\"white\",\"linecolor\":\"white\",\"minorgridcolor\":\"white\",\"startlinecolor\":\"#2a3f5f\"},\"baxis\":{\"endlinecolor\":\"#2a3f5f\",\"gridcolor\":\"white\",\"linecolor\":\"white\",\"minorgridcolor\":\"white\",\"startlinecolor\":\"#2a3f5f\"},\"type\":\"carpet\"}],\"choropleth\":[{\"colorbar\":{\"outlinewidth\":0,\"ticks\":\"\"},\"type\":\"choropleth\"}],\"contour\":[{\"colorbar\":{\"outlinewidth\":0,\"ticks\":\"\"},\"colorscale\":[[0.0,\"#0d0887\"],[0.1111111111111111,\"#46039f\"],[0.2222222222222222,\"#7201a8\"],[0.3333333333333333,\"#9c179e\"],[0.4444444444444444,\"#bd3786\"],[0.5555555555555556,\"#d8576b\"],[0.6666666666666666,\"#ed7953\"],[0.7777777777777778,\"#fb9f3a\"],[0.8888888888888888,\"#fdca26\"],[1.0,\"#f0f921\"]],\"type\":\"contour\"}],\"contourcarpet\":[{\"colorbar\":{\"outlinewidth\":0,\"ticks\":\"\"},\"type\":\"contourcarpet\"}],\"heatmap\":[{\"colorbar\":{\"outlinewidth\":0,\"ticks\":\"\"},\"colorscale\":[[0.0,\"#0d0887\"],[0.1111111111111111,\"#46039f\"],[0.2222222222222222,\"#7201a8\"],[0.3333333333333333,\"#9c179e\"],[0.4444444444444444,\"#bd3786\"],[0.5555555555555556,\"#d8576b\"],[0.6666666666666666,\"#ed7953\"],[0.7777777777777778,\"#fb9f3a\"],[0.8888888888888888,\"#fdca26\"],[1.0,\"#f0f921\"]],\"type\":\"heatmap\"}],\"heatmapgl\":[{\"colorbar\":{\"outlinewidth\":0,\"ticks\":\"\"},\"colorscale\":[[0.0,\"#0d0887\"],[0.1111111111111111,\"#46039f\"],[0.2222222222222222,\"#7201a8\"],[0.3333333333333333,\"#9c179e\"],[0.4444444444444444,\"#bd3786\"],[0.5555555555555556,\"#d8576b\"],[0.6666666666666666,\"#ed7953\"],[0.7777777777777778,\"#fb9f3a\"],[0.8888888888888888,\"#fdca26\"],[1.0,\"#f0f921\"]],\"type\":\"heatmapgl\"}],\"histogram\":[{\"marker\":{\"pattern\":{\"fillmode\":\"overlay\",\"size\":10,\"solidity\":0.2}},\"type\":\"histogram\"}],\"histogram2d\":[{\"colorbar\":{\"outlinewidth\":0,\"ticks\":\"\"},\"colorscale\":[[0.0,\"#0d0887\"],[0.1111111111111111,\"#46039f\"],[0.2222222222222222,\"#7201a8\"],[0.3333333333333333,\"#9c179e\"],[0.4444444444444444,\"#bd3786\"],[0.5555555555555556,\"#d8576b\"],[0.6666666666666666,\"#ed7953\"],[0.7777777777777778,\"#fb9f3a\"],[0.8888888888888888,\"#fdca26\"],[1.0,\"#f0f921\"]],\"type\":\"histogram2d\"}],\"histogram2dcontour\":[{\"colorbar\":{\"outlinewidth\":0,\"ticks\":\"\"},\"colorscale\":[[0.0,\"#0d0887\"],[0.1111111111111111,\"#46039f\"],[0.2222222222222222,\"#7201a8\"],[0.3333333333333333,\"#9c179e\"],[0.4444444444444444,\"#bd3786\"],[0.5555555555555556,\"#d8576b\"],[0.6666666666666666,\"#ed7953\"],[0.7777777777777778,\"#fb9f3a\"],[0.8888888888888888,\"#fdca26\"],[1.0,\"#f0f921\"]],\"type\":\"histogram2dcontour\"}],\"mesh3d\":[{\"colorbar\":{\"outlinewidth\":0,\"ticks\":\"\"},\"type\":\"mesh3d\"}],\"parcoords\":[{\"line\":{\"colorbar\":{\"outlinewidth\":0,\"ticks\":\"\"}},\"type\":\"parcoords\"}],\"pie\":[{\"automargin\":true,\"type\":\"pie\"}],\"scatter\":[{\"marker\":{\"colorbar\":{\"outlinewidth\":0,\"ticks\":\"\"}},\"type\":\"scatter\"}],\"scatter3d\":[{\"line\":{\"colorbar\":{\"outlinewidth\":0,\"ticks\":\"\"}},\"marker\":{\"colorbar\":{\"outlinewidth\":0,\"ticks\":\"\"}},\"type\":\"scatter3d\"}],\"scattercarpet\":[{\"marker\":{\"colorbar\":{\"outlinewidth\":0,\"ticks\":\"\"}},\"type\":\"scattercarpet\"}],\"scattergeo\":[{\"marker\":{\"colorbar\":{\"outlinewidth\":0,\"ticks\":\"\"}},\"type\":\"scattergeo\"}],\"scattergl\":[{\"marker\":{\"colorbar\":{\"outlinewidth\":0,\"ticks\":\"\"}},\"type\":\"scattergl\"}],\"scattermapbox\":[{\"marker\":{\"colorbar\":{\"outlinewidth\":0,\"ticks\":\"\"}},\"type\":\"scattermapbox\"}],\"scatterpolar\":[{\"marker\":{\"colorbar\":{\"outlinewidth\":0,\"ticks\":\"\"}},\"type\":\"scatterpolar\"}],\"scatterpolargl\":[{\"marker\":{\"colorbar\":{\"outlinewidth\":0,\"ticks\":\"\"}},\"type\":\"scatterpolargl\"}],\"scatterternary\":[{\"marker\":{\"colorbar\":{\"outlinewidth\":0,\"ticks\":\"\"}},\"type\":\"scatterternary\"}],\"surface\":[{\"colorbar\":{\"outlinewidth\":0,\"ticks\":\"\"},\"colorscale\":[[0.0,\"#0d0887\"],[0.1111111111111111,\"#46039f\"],[0.2222222222222222,\"#7201a8\"],[0.3333333333333333,\"#9c179e\"],[0.4444444444444444,\"#bd3786\"],[0.5555555555555556,\"#d8576b\"],[0.6666666666666666,\"#ed7953\"],[0.7777777777777778,\"#fb9f3a\"],[0.8888888888888888,\"#fdca26\"],[1.0,\"#f0f921\"]],\"type\":\"surface\"}],\"table\":[{\"cells\":{\"fill\":{\"color\":\"#EBF0F8\"},\"line\":{\"color\":\"white\"}},\"header\":{\"fill\":{\"color\":\"#C8D4E3\"},\"line\":{\"color\":\"white\"}},\"type\":\"table\"}]},\"layout\":{\"annotationdefaults\":{\"arrowcolor\":\"#2a3f5f\",\"arrowhead\":0,\"arrowwidth\":1},\"autotypenumbers\":\"strict\",\"coloraxis\":{\"colorbar\":{\"outlinewidth\":0,\"ticks\":\"\"}},\"colorscale\":{\"diverging\":[[0,\"#8e0152\"],[0.1,\"#c51b7d\"],[0.2,\"#de77ae\"],[0.3,\"#f1b6da\"],[0.4,\"#fde0ef\"],[0.5,\"#f7f7f7\"],[0.6,\"#e6f5d0\"],[0.7,\"#b8e186\"],[0.8,\"#7fbc41\"],[0.9,\"#4d9221\"],[1,\"#276419\"]],\"sequential\":[[0.0,\"#0d0887\"],[0.1111111111111111,\"#46039f\"],[0.2222222222222222,\"#7201a8\"],[0.3333333333333333,\"#9c179e\"],[0.4444444444444444,\"#bd3786\"],[0.5555555555555556,\"#d8576b\"],[0.6666666666666666,\"#ed7953\"],[0.7777777777777778,\"#fb9f3a\"],[0.8888888888888888,\"#fdca26\"],[1.0,\"#f0f921\"]],\"sequentialminus\":[[0.0,\"#0d0887\"],[0.1111111111111111,\"#46039f\"],[0.2222222222222222,\"#7201a8\"],[0.3333333333333333,\"#9c179e\"],[0.4444444444444444,\"#bd3786\"],[0.5555555555555556,\"#d8576b\"],[0.6666666666666666,\"#ed7953\"],[0.7777777777777778,\"#fb9f3a\"],[0.8888888888888888,\"#fdca26\"],[1.0,\"#f0f921\"]]},\"colorway\":[\"#636efa\",\"#EF553B\",\"#00cc96\",\"#ab63fa\",\"#FFA15A\",\"#19d3f3\",\"#FF6692\",\"#B6E880\",\"#FF97FF\",\"#FECB52\"],\"font\":{\"color\":\"#2a3f5f\"},\"geo\":{\"bgcolor\":\"white\",\"lakecolor\":\"white\",\"landcolor\":\"#E5ECF6\",\"showlakes\":true,\"showland\":true,\"subunitcolor\":\"white\"},\"hoverlabel\":{\"align\":\"left\"},\"hovermode\":\"closest\",\"mapbox\":{\"style\":\"light\"},\"paper_bgcolor\":\"white\",\"plot_bgcolor\":\"#E5ECF6\",\"polar\":{\"angularaxis\":{\"gridcolor\":\"white\",\"linecolor\":\"white\",\"ticks\":\"\"},\"bgcolor\":\"#E5ECF6\",\"radialaxis\":{\"gridcolor\":\"white\",\"linecolor\":\"white\",\"ticks\":\"\"}},\"scene\":{\"xaxis\":{\"backgroundcolor\":\"#E5ECF6\",\"gridcolor\":\"white\",\"gridwidth\":2,\"linecolor\":\"white\",\"showbackground\":true,\"ticks\":\"\",\"zerolinecolor\":\"white\"},\"yaxis\":{\"backgroundcolor\":\"#E5ECF6\",\"gridcolor\":\"white\",\"gridwidth\":2,\"linecolor\":\"white\",\"showbackground\":true,\"ticks\":\"\",\"zerolinecolor\":\"white\"},\"zaxis\":{\"backgroundcolor\":\"#E5ECF6\",\"gridcolor\":\"white\",\"gridwidth\":2,\"linecolor\":\"white\",\"showbackground\":true,\"ticks\":\"\",\"zerolinecolor\":\"white\"}},\"shapedefaults\":{\"line\":{\"color\":\"#2a3f5f\"}},\"ternary\":{\"aaxis\":{\"gridcolor\":\"white\",\"linecolor\":\"white\",\"ticks\":\"\"},\"baxis\":{\"gridcolor\":\"white\",\"linecolor\":\"white\",\"ticks\":\"\"},\"bgcolor\":\"#E5ECF6\",\"caxis\":{\"gridcolor\":\"white\",\"linecolor\":\"white\",\"ticks\":\"\"}},\"title\":{\"x\":0.05},\"xaxis\":{\"automargin\":true,\"gridcolor\":\"white\",\"linecolor\":\"white\",\"ticks\":\"\",\"title\":{\"standoff\":15},\"zerolinecolor\":\"white\",\"zerolinewidth\":2},\"yaxis\":{\"automargin\":true,\"gridcolor\":\"white\",\"linecolor\":\"white\",\"ticks\":\"\",\"title\":{\"standoff\":15},\"zerolinecolor\":\"white\",\"zerolinewidth\":2}}},\"title\":{\"text\":\"Prior Approvals - Change of Use\"}},                        {\"responsive\": true}                    ).then(function(){\n",
       "                            \n",
       "var gd = document.getElementById('5020df4e-2ae3-40a5-8477-f7f106e46e79');\n",
       "var x = new MutationObserver(function (mutations, observer) {{\n",
       "        var display = window.getComputedStyle(gd).display;\n",
       "        if (!display || display === 'none') {{\n",
       "            console.log([gd, 'removed!']);\n",
       "            Plotly.purge(gd);\n",
       "            observer.disconnect();\n",
       "        }}\n",
       "}});\n",
       "\n",
       "// Listen for the removal of the full notebook cells\n",
       "var notebookContainer = gd.closest('#notebook-container');\n",
       "if (notebookContainer) {{\n",
       "    x.observe(notebookContainer, {childList: true});\n",
       "}}\n",
       "\n",
       "// Listen for the clearing of the current output cell\n",
       "var outputEl = gd.closest('.output');\n",
       "if (outputEl) {{\n",
       "    x.observe(outputEl, {childList: true});\n",
       "}}\n",
       "\n",
       "                        })                };                });            </script>        </div>"
      ]
     },
     "metadata": {},
     "output_type": "display_data"
    }
   ],
   "source": [
    "fig = go.Figure(data=[go.Sankey(\n",
    "    # Define nodes\n",
    "    node = dict(\n",
    "      pad = 15,\n",
    "      thickness = 20,\n",
    "      line = dict(color = \"black\", width = 0.5),\n",
    "        label = types\n",
    "    ),\n",
    "    # Add links\n",
    "    link = dict(\n",
    "      source =  [types.index(x) for x in change_df['changed_from']],\n",
    "      target =  [types.index(x) for x in change_df['changed_to']],\n",
    "      value =  [value_dict[x] for x in zip(change_df['changed_to'],change_df['changed_from'])],\n",
    "    label = [value_dict[x] for x in zip(change_df['changed_to'],change_df['changed_from'])]))])\n",
    "    #  color =  data['data'][0]['link']['color']\n",
    "#))])\n",
    "\n",
    "fig.update_layout(title_text=\"Prior Approvals - Change of Use\",font_size=10)\n",
    "fig.show()"
   ]
  },
  {
   "cell_type": "markdown",
   "metadata": {},
   "source": [
    "## Residential Conversions"
   ]
  },
  {
   "cell_type": "code",
   "execution_count": null,
   "metadata": {},
   "outputs": [],
   "source": [
    "## Use \"decision_date\" or \"valid_date\" ?\n",
    "\n",
    "## Combination of the two where "
   ]
  },
  {
   "cell_type": "code",
   "execution_count": 127,
   "metadata": {},
   "outputs": [
    {
     "data": {
      "text/plain": [
       "Index(['id', 'Application type on Datahub', 'Application type (assumed)',\n",
       "       'Development description', 'Status (groups)', 'Status', 'Decision',\n",
       "       'Easting', 'Northing', 'postcode', 'Planning authority',\n",
       "       'Application number', 'Valid date', 'Decision date',\n",
       "       'Residential units proposed', 'Existing use class (from Datahub)',\n",
       "       'Existing non-residential floorspace', 'High Street name',\n",
       "       'Town Centre Name', 'Planned Article 4 Direction', 'Adopted OA name',\n",
       "       'application_type_new', 'changes', 'changed_from', 'changed_to', 'date',\n",
       "       'month_year', 'residential_conversion'],\n",
       "      dtype='object')"
      ]
     },
     "execution_count": 127,
     "metadata": {},
     "output_type": "execute_result"
    }
   ],
   "source": [
    "df.columns"
   ]
  },
  {
   "cell_type": "code",
   "execution_count": 150,
   "metadata": {},
   "outputs": [
    {
     "data": {
      "text/plain": [
       "NaT           6282\n",
       "2021-04-07      55\n",
       "2021-04-01      54\n",
       "2021-04-09      49\n",
       "2020-10-19      49\n",
       "              ... \n",
       "2014-07-29       1\n",
       "2020-03-22       1\n",
       "2016-07-26       1\n",
       "2018-02-07       1\n",
       "2021-10-17       1\n",
       "Name: Valid date, Length: 2321, dtype: int64"
      ]
     },
     "execution_count": 150,
     "metadata": {},
     "output_type": "execute_result"
    }
   ],
   "source": [
    "df['Valid date'].value_counts(dropna = False)"
   ]
  },
  {
   "cell_type": "code",
   "execution_count": 151,
   "metadata": {},
   "outputs": [],
   "source": [
    "### Convert time to Month-Year\n",
    "\n",
    "# Where the value for 'Decision date' is null, replace it with 'Valid date'\n",
    "df['date'] = np.where(pd.to_datetime(df['Decision date']).isnull(),pd.to_datetime(df['Valid date']),pd.to_datetime(df['Decision date']))\n",
    "\n",
    "df['month_year'] = df['date'].apply(lambda x: x.strftime('%B-%Y') if x > pd.to_datetime(\"2000-12-30\") else None )"
   ]
  },
  {
   "cell_type": "code",
   "execution_count": 155,
   "metadata": {},
   "outputs": [],
   "source": [
    "### Flag Residential Conversions\n",
    "\n",
    "# May need to change this logic later if conversion name changes\n",
    "\n",
    "df['residential_conversion'] = df['changed_to'].apply(lambda x: True if x == \"dwellinghouses\" else False)"
   ]
  },
  {
   "cell_type": "code",
   "execution_count": 156,
   "metadata": {},
   "outputs": [],
   "source": [
    "residential_converstions_monthly = df[df['residential_conversion']==True].groupby(['month_year','Planning authority']).agg({'id':'count'})"
   ]
  },
  {
   "cell_type": "code",
   "execution_count": 166,
   "metadata": {},
   "outputs": [],
   "source": [
    "residential_converstions_monthly = df[df['residential_conversion']==True].groupby('month_year').agg({'id':'count','Residential units proposed':'sum','Existing non-residential floorspace':'median'})\n",
    "\n",
    "residential_converstions_monthly = pd.DataFrame(residential_converstions_monthly).reset_index()\n",
    "residential_converstions_monthly['month_year'] = pd.to_datetime(residential_converstions_monthly['month_year'], format = \"%B-%Y\")\n",
    "residential_converstions_monthly = residential_converstions_monthly.sort_values('month_year')\n",
    "\n",
    "residential_converstions_monthly =residential_converstions_monthly.dropna()\n",
    "#residential_converstions_monthly['month_year'] = residential_converstions_monthly['month_year'].apply(lambda x: x.strftime('%B-%Y') if x > pd.to_datetime(\"2000-12-30\") else None)"
   ]
  },
  {
   "cell_type": "code",
   "execution_count": 167,
   "metadata": {},
   "outputs": [
    {
     "data": {
      "image/png": "[encoded data removed]",
      "text/plain": [
       "<Figure size 432x288 with 1 Axes>"
      ]
     },
     "metadata": {
      "needs_background": "light"
     },
     "output_type": "display_data"
    }
   ],
   "source": [
    "### Total residential conversions by month\n",
    "\n",
    "# Doesn't appear that there have been a huge spike in residential converstions after August--but would be expecting a jump\n",
    "# in August? Or just 2021?\n",
    "\n",
    "# \n",
    "\n",
    "plt.plot(residential_converstions_monthly['month_year'],residential_converstions_monthly['id'])\n",
    "plt.show()"
   ]
  },
  {
   "cell_type": "code",
   "execution_count": 168,
   "metadata": {},
   "outputs": [
    {
     "data": {
      "image/png": "[encoded data removed]",
      "text/plain": [
       "<Figure size 432x288 with 1 Axes>"
      ]
     },
     "metadata": {
      "needs_background": "light"
     },
     "output_type": "display_data"
    }
   ],
   "source": [
    "### Median non-residential floorspace by month\n",
    "\n",
    "# Two months look like outliers--group annually to smooth?\n",
    "\n",
    "plt.plot(residential_converstions_monthly['month_year'],residential_converstions_monthly['Existing non-residential floorspace'])\n",
    "plt.show()"
   ]
  },
  {
   "cell_type": "code",
   "execution_count": null,
   "metadata": {},
   "outputs": [],
   "source": []
  },
  {
   "cell_type": "code",
   "execution_count": 181,
   "metadata": {},
   "outputs": [
    {
     "data": {
      "text/html": [
       "<div>\n",
       "<style scoped>\n",
       "    .dataframe tbody tr th:only-of-type {\n",
       "        vertical-align: middle;\n",
       "    }\n",
       "\n",
       "    .dataframe tbody tr th {\n",
       "        vertical-align: top;\n",
       "    }\n",
       "\n",
       "    .dataframe thead th {\n",
       "        text-align: right;\n",
       "    }\n",
       "</style>\n",
       "<table border=\"1\" class=\"dataframe\">\n",
       "  <thead>\n",
       "    <tr style=\"text-align: right;\">\n",
       "      <th></th>\n",
       "      <th>month_year</th>\n",
       "      <th>Existing non-residential floorspace</th>\n",
       "    </tr>\n",
       "  </thead>\n",
       "  <tbody>\n",
       "    <tr>\n",
       "      <th>6</th>\n",
       "      <td>2020-04-01</td>\n",
       "      <td>147.000000</td>\n",
       "    </tr>\n",
       "    <tr>\n",
       "      <th>73</th>\n",
       "      <td>2020-05-01</td>\n",
       "      <td>100.000000</td>\n",
       "    </tr>\n",
       "    <tr>\n",
       "      <th>57</th>\n",
       "      <td>2020-06-01</td>\n",
       "      <td>2683.000000</td>\n",
       "    </tr>\n",
       "    <tr>\n",
       "      <th>49</th>\n",
       "      <td>2020-07-01</td>\n",
       "      <td>4092.500000</td>\n",
       "    </tr>\n",
       "    <tr>\n",
       "      <th>15</th>\n",
       "      <td>2020-08-01</td>\n",
       "      <td>204.000000</td>\n",
       "    </tr>\n",
       "    <tr>\n",
       "      <th>100</th>\n",
       "      <td>2020-09-01</td>\n",
       "      <td>113.000000</td>\n",
       "    </tr>\n",
       "    <tr>\n",
       "      <th>82</th>\n",
       "      <td>2020-11-01</td>\n",
       "      <td>5203.500000</td>\n",
       "    </tr>\n",
       "    <tr>\n",
       "      <th>24</th>\n",
       "      <td>2020-12-01</td>\n",
       "      <td>193.000000</td>\n",
       "    </tr>\n",
       "    <tr>\n",
       "      <th>41</th>\n",
       "      <td>2021-01-01</td>\n",
       "      <td>53.000000</td>\n",
       "    </tr>\n",
       "    <tr>\n",
       "      <th>33</th>\n",
       "      <td>2021-02-01</td>\n",
       "      <td>38.275000</td>\n",
       "    </tr>\n",
       "    <tr>\n",
       "      <th>66</th>\n",
       "      <td>2021-03-01</td>\n",
       "      <td>30.000000</td>\n",
       "    </tr>\n",
       "    <tr>\n",
       "      <th>7</th>\n",
       "      <td>2021-04-01</td>\n",
       "      <td>40.500000</td>\n",
       "    </tr>\n",
       "    <tr>\n",
       "      <th>74</th>\n",
       "      <td>2021-05-01</td>\n",
       "      <td>42.299999</td>\n",
       "    </tr>\n",
       "    <tr>\n",
       "      <th>58</th>\n",
       "      <td>2021-06-01</td>\n",
       "      <td>36.000000</td>\n",
       "    </tr>\n",
       "    <tr>\n",
       "      <th>50</th>\n",
       "      <td>2021-07-01</td>\n",
       "      <td>45.000000</td>\n",
       "    </tr>\n",
       "    <tr>\n",
       "      <th>16</th>\n",
       "      <td>2021-08-01</td>\n",
       "      <td>0.000000</td>\n",
       "    </tr>\n",
       "    <tr>\n",
       "      <th>101</th>\n",
       "      <td>2021-09-01</td>\n",
       "      <td>0.000000</td>\n",
       "    </tr>\n",
       "    <tr>\n",
       "      <th>92</th>\n",
       "      <td>2021-10-01</td>\n",
       "      <td>34.000000</td>\n",
       "    </tr>\n",
       "    <tr>\n",
       "      <th>83</th>\n",
       "      <td>2021-11-01</td>\n",
       "      <td>0.000000</td>\n",
       "    </tr>\n",
       "    <tr>\n",
       "      <th>25</th>\n",
       "      <td>2021-12-01</td>\n",
       "      <td>125.000000</td>\n",
       "    </tr>\n",
       "  </tbody>\n",
       "</table>\n",
       "</div>"
      ],
      "text/plain": [
       "    month_year  Existing non-residential floorspace\n",
       "6   2020-04-01                           147.000000\n",
       "73  2020-05-01                           100.000000\n",
       "57  2020-06-01                          2683.000000\n",
       "49  2020-07-01                          4092.500000\n",
       "15  2020-08-01                           204.000000\n",
       "100 2020-09-01                           113.000000\n",
       "82  2020-11-01                          5203.500000\n",
       "24  2020-12-01                           193.000000\n",
       "41  2021-01-01                            53.000000\n",
       "33  2021-02-01                            38.275000\n",
       "66  2021-03-01                            30.000000\n",
       "7   2021-04-01                            40.500000\n",
       "74  2021-05-01                            42.299999\n",
       "58  2021-06-01                            36.000000\n",
       "50  2021-07-01                            45.000000\n",
       "16  2021-08-01                             0.000000\n",
       "101 2021-09-01                             0.000000\n",
       "92  2021-10-01                            34.000000\n",
       "83  2021-11-01                             0.000000\n",
       "25  2021-12-01                           125.000000"
      ]
     },
     "execution_count": 181,
     "metadata": {},
     "output_type": "execute_result"
    }
   ],
   "source": [
    "residential_converstions_monthly[['month_year','Existing non-residential floorspace']].tail(20)"
   ]
  },
  {
   "cell_type": "code",
   "execution_count": 169,
   "metadata": {},
   "outputs": [
    {
     "data": {
      "image/png": "[encoded data removed]",
      "text/plain": [
       "<Figure size 432x288 with 1 Axes>"
      ]
     },
     "metadata": {
      "needs_background": "light"
     },
     "output_type": "display_data"
    }
   ],
   "source": [
    "### Sum of 'Residential units proposed' by month\n",
    "\n",
    "# Why 0 units in most recent months?\n",
    "\n",
    "plt.plot(residential_converstions_monthly['month_year'],residential_converstions_monthly['Residential units proposed'])\n",
    "plt.show()"
   ]
  },
  {
   "cell_type": "code",
   "execution_count": 164,
   "metadata": {},
   "outputs": [
    {
     "data": {
      "text/html": [
       "<div>\n",
       "<style scoped>\n",
       "    .dataframe tbody tr th:only-of-type {\n",
       "        vertical-align: middle;\n",
       "    }\n",
       "\n",
       "    .dataframe tbody tr th {\n",
       "        vertical-align: top;\n",
       "    }\n",
       "\n",
       "    .dataframe thead th {\n",
       "        text-align: right;\n",
       "    }\n",
       "</style>\n",
       "<table border=\"1\" class=\"dataframe\">\n",
       "  <thead>\n",
       "    <tr style=\"text-align: right;\">\n",
       "      <th></th>\n",
       "      <th>month_year</th>\n",
       "      <th>id</th>\n",
       "      <th>Residential units proposed</th>\n",
       "      <th>Existing non-residential floorspace</th>\n",
       "    </tr>\n",
       "  </thead>\n",
       "  <tbody>\n",
       "    <tr>\n",
       "      <th>42</th>\n",
       "      <td>2013-07-01</td>\n",
       "      <td>32</td>\n",
       "      <td>218.0</td>\n",
       "      <td>423.032258</td>\n",
       "    </tr>\n",
       "    <tr>\n",
       "      <th>8</th>\n",
       "      <td>2013-08-01</td>\n",
       "      <td>94</td>\n",
       "      <td>748.0</td>\n",
       "      <td>587.946237</td>\n",
       "    </tr>\n",
       "    <tr>\n",
       "      <th>93</th>\n",
       "      <td>2013-09-01</td>\n",
       "      <td>100</td>\n",
       "      <td>855.0</td>\n",
       "      <td>660.290000</td>\n",
       "    </tr>\n",
       "    <tr>\n",
       "      <th>84</th>\n",
       "      <td>2013-10-01</td>\n",
       "      <td>112</td>\n",
       "      <td>1202.0</td>\n",
       "      <td>785.261261</td>\n",
       "    </tr>\n",
       "    <tr>\n",
       "      <th>75</th>\n",
       "      <td>2013-11-01</td>\n",
       "      <td>90</td>\n",
       "      <td>789.0</td>\n",
       "      <td>527.100000</td>\n",
       "    </tr>\n",
       "    <tr>\n",
       "      <th>...</th>\n",
       "      <td>...</td>\n",
       "      <td>...</td>\n",
       "      <td>...</td>\n",
       "      <td>...</td>\n",
       "    </tr>\n",
       "    <tr>\n",
       "      <th>16</th>\n",
       "      <td>2021-08-01</td>\n",
       "      <td>50</td>\n",
       "      <td>0.0</td>\n",
       "      <td>160.629375</td>\n",
       "    </tr>\n",
       "    <tr>\n",
       "      <th>101</th>\n",
       "      <td>2021-09-01</td>\n",
       "      <td>80</td>\n",
       "      <td>10.0</td>\n",
       "      <td>75.447143</td>\n",
       "    </tr>\n",
       "    <tr>\n",
       "      <th>92</th>\n",
       "      <td>2021-10-01</td>\n",
       "      <td>39</td>\n",
       "      <td>0.0</td>\n",
       "      <td>44.666667</td>\n",
       "    </tr>\n",
       "    <tr>\n",
       "      <th>83</th>\n",
       "      <td>2021-11-01</td>\n",
       "      <td>33</td>\n",
       "      <td>0.0</td>\n",
       "      <td>0.000000</td>\n",
       "    </tr>\n",
       "    <tr>\n",
       "      <th>25</th>\n",
       "      <td>2021-12-01</td>\n",
       "      <td>14</td>\n",
       "      <td>0.0</td>\n",
       "      <td>125.000000</td>\n",
       "    </tr>\n",
       "  </tbody>\n",
       "</table>\n",
       "<p>101 rows × 4 columns</p>\n",
       "</div>"
      ],
      "text/plain": [
       "    month_year   id  Residential units proposed  \\\n",
       "42  2013-07-01   32                       218.0   \n",
       "8   2013-08-01   94                       748.0   \n",
       "93  2013-09-01  100                       855.0   \n",
       "84  2013-10-01  112                      1202.0   \n",
       "75  2013-11-01   90                       789.0   \n",
       "..         ...  ...                         ...   \n",
       "16  2021-08-01   50                         0.0   \n",
       "101 2021-09-01   80                        10.0   \n",
       "92  2021-10-01   39                         0.0   \n",
       "83  2021-11-01   33                         0.0   \n",
       "25  2021-12-01   14                         0.0   \n",
       "\n",
       "     Existing non-residential floorspace  \n",
       "42                            423.032258  \n",
       "8                             587.946237  \n",
       "93                            660.290000  \n",
       "84                            785.261261  \n",
       "75                            527.100000  \n",
       "..                                   ...  \n",
       "16                            160.629375  \n",
       "101                            75.447143  \n",
       "92                             44.666667  \n",
       "83                              0.000000  \n",
       "25                            125.000000  \n",
       "\n",
       "[101 rows x 4 columns]"
      ]
     },
     "execution_count": 164,
     "metadata": {},
     "output_type": "execute_result"
    }
   ],
   "source": [
    "residential_converstions_monthly"
   ]
  },
  {
   "cell_type": "code",
   "execution_count": 170,
   "metadata": {},
   "outputs": [
    {
     "data": {
      "text/plain": [
       "Index(['id', 'Application type on Datahub', 'Application type (assumed)',\n",
       "       'Development description', 'Status (groups)', 'Status', 'Decision',\n",
       "       'Easting', 'Northing', 'postcode', 'Planning authority',\n",
       "       'Application number', 'Valid date', 'Decision date',\n",
       "       'Residential units proposed', 'Existing use class (from Datahub)',\n",
       "       'Existing non-residential floorspace', 'High Street name',\n",
       "       'Town Centre Name', 'Planned Article 4 Direction', 'Adopted OA name',\n",
       "       'application_type_new', 'changes', 'changed_from', 'changed_to', 'date',\n",
       "       'month_year', 'residential_conversion'],\n",
       "      dtype='object')"
      ]
     },
     "execution_count": 170,
     "metadata": {},
     "output_type": "execute_result"
    }
   ],
   "source": [
    "df.columns"
   ]
  },
  {
   "cell_type": "markdown",
   "metadata": {},
   "source": [
    "### Map Changes over time"
   ]
  },
  {
   "cell_type": "code",
   "execution_count": 173,
   "metadata": {},
   "outputs": [],
   "source": [
    "gdf = gpd.read_file(folder+'Local_Planning_Authorities_(April_2019)_UK_BUC.geojson')"
   ]
  },
  {
   "cell_type": "code",
   "execution_count": 175,
   "metadata": {},
   "outputs": [
    {
     "data": {
      "text/html": [
       "<div>\n",
       "<style scoped>\n",
       "    .dataframe tbody tr th:only-of-type {\n",
       "        vertical-align: middle;\n",
       "    }\n",
       "\n",
       "    .dataframe tbody tr th {\n",
       "        vertical-align: top;\n",
       "    }\n",
       "\n",
       "    .dataframe thead th {\n",
       "        text-align: right;\n",
       "    }\n",
       "</style>\n",
       "<table border=\"1\" class=\"dataframe\">\n",
       "  <thead>\n",
       "    <tr style=\"text-align: right;\">\n",
       "      <th></th>\n",
       "      <th>objectid</th>\n",
       "      <th>lpa19cd</th>\n",
       "      <th>lpa19nm</th>\n",
       "      <th>bng_e</th>\n",
       "      <th>bng_n</th>\n",
       "      <th>long</th>\n",
       "      <th>lat</th>\n",
       "      <th>st_areashape</th>\n",
       "      <th>st_lengthshape</th>\n",
       "      <th>geometry</th>\n",
       "    </tr>\n",
       "  </thead>\n",
       "  <tbody>\n",
       "    <tr>\n",
       "      <th>0</th>\n",
       "      <td>1</td>\n",
       "      <td>E60000001</td>\n",
       "      <td>County Durham LPA</td>\n",
       "      <td>410381</td>\n",
       "      <td>532242</td>\n",
       "      <td>-1.84050</td>\n",
       "      <td>54.685131</td>\n",
       "      <td>2.232342e+09</td>\n",
       "      <td>263945.945384</td>\n",
       "      <td>POLYGON ((-1.55941 54.88204, -1.57991 54.87777...</td>\n",
       "    </tr>\n",
       "    <tr>\n",
       "      <th>1</th>\n",
       "      <td>2</td>\n",
       "      <td>E60000002</td>\n",
       "      <td>Darlington LPA</td>\n",
       "      <td>428029</td>\n",
       "      <td>515648</td>\n",
       "      <td>-1.56835</td>\n",
       "      <td>54.535339</td>\n",
       "      <td>1.988128e+08</td>\n",
       "      <td>91926.839545</td>\n",
       "      <td>POLYGON ((-1.43836 54.59508, -1.45171 54.59083...</td>\n",
       "    </tr>\n",
       "    <tr>\n",
       "      <th>2</th>\n",
       "      <td>3</td>\n",
       "      <td>E60000003</td>\n",
       "      <td>Hartlepool LPA</td>\n",
       "      <td>447157</td>\n",
       "      <td>531476</td>\n",
       "      <td>-1.27023</td>\n",
       "      <td>54.676159</td>\n",
       "      <td>9.602794e+07</td>\n",
       "      <td>51062.316765</td>\n",
       "      <td>POLYGON ((-1.24223 54.72296, -1.25186 54.71962...</td>\n",
       "    </tr>\n",
       "    <tr>\n",
       "      <th>3</th>\n",
       "      <td>4</td>\n",
       "      <td>E60000004</td>\n",
       "      <td>Middlesbrough LPA</td>\n",
       "      <td>451141</td>\n",
       "      <td>516887</td>\n",
       "      <td>-1.21099</td>\n",
       "      <td>54.544670</td>\n",
       "      <td>5.523139e+07</td>\n",
       "      <td>35500.386745</td>\n",
       "      <td>POLYGON ((-1.19860 54.58287, -1.25236 54.59131...</td>\n",
       "    </tr>\n",
       "    <tr>\n",
       "      <th>4</th>\n",
       "      <td>5</td>\n",
       "      <td>E60000005</td>\n",
       "      <td>Northumberland LPA</td>\n",
       "      <td>397861</td>\n",
       "      <td>571351</td>\n",
       "      <td>-2.03501</td>\n",
       "      <td>55.036671</td>\n",
       "      <td>3.975207e+09</td>\n",
       "      <td>608805.111435</td>\n",
       "      <td>MULTIPOLYGON (((-2.00158 55.77855, -2.03453 55...</td>\n",
       "    </tr>\n",
       "  </tbody>\n",
       "</table>\n",
       "</div>"
      ],
      "text/plain": [
       "   objectid    lpa19cd             lpa19nm   bng_e   bng_n     long  \\\n",
       "0         1  E60000001   County Durham LPA  410381  532242 -1.84050   \n",
       "1         2  E60000002      Darlington LPA  428029  515648 -1.56835   \n",
       "2         3  E60000003      Hartlepool LPA  447157  531476 -1.27023   \n",
       "3         4  E60000004   Middlesbrough LPA  451141  516887 -1.21099   \n",
       "4         5  E60000005  Northumberland LPA  397861  571351 -2.03501   \n",
       "\n",
       "         lat  st_areashape  st_lengthshape  \\\n",
       "0  54.685131  2.232342e+09   263945.945384   \n",
       "1  54.535339  1.988128e+08    91926.839545   \n",
       "2  54.676159  9.602794e+07    51062.316765   \n",
       "3  54.544670  5.523139e+07    35500.386745   \n",
       "4  55.036671  3.975207e+09   608805.111435   \n",
       "\n",
       "                                            geometry  \n",
       "0  POLYGON ((-1.55941 54.88204, -1.57991 54.87777...  \n",
       "1  POLYGON ((-1.43836 54.59508, -1.45171 54.59083...  \n",
       "2  POLYGON ((-1.24223 54.72296, -1.25186 54.71962...  \n",
       "3  POLYGON ((-1.19860 54.58287, -1.25236 54.59131...  \n",
       "4  MULTIPOLYGON (((-2.00158 55.77855, -2.03453 55...  "
      ]
     },
     "execution_count": 175,
     "metadata": {},
     "output_type": "execute_result"
    }
   ],
   "source": [
    "gdf.head()"
   ]
  },
  {
   "cell_type": "code",
   "execution_count": 179,
   "metadata": {},
   "outputs": [
    {
     "data": {
      "text/plain": [
       "array(['Barking & Dagenham', 'Barnet', 'Bexley', 'Brent', 'Bromley',\n",
       "       'Camden', 'City of London', 'Croydon', 'Ealing', 'Enfield',\n",
       "       'Greenwich', 'Hackney', 'Hammersmith and Fulham',\n",
       "       'Hammersmith & Fulham', 'Haringey', 'Harrow', 'Havering',\n",
       "       'Hillingdon', 'Hounslow', 'Islington', 'Kensington & Chelsea',\n",
       "       'Kingston', 'Lambeth', 'Lewisham', 'LLDC', 'Merton', 'Newham',\n",
       "       'OPDC', 'Redbridge', 'Richmond', 'Southwark', 'Sutton',\n",
       "       'Tower Hamlets', 'Waltham Forest', 'Wandsworth', 'Westminster'],\n",
       "      dtype=object)"
      ]
     },
     "execution_count": 179,
     "metadata": {},
     "output_type": "execute_result"
    }
   ],
   "source": [
    "df['Planning authority'].unique()"
   ]
  },
  {
   "cell_type": "code",
   "execution_count": 176,
   "metadata": {},
   "outputs": [
    {
     "data": {
      "text/plain": [
       "array(['County Durham LPA', 'Darlington LPA', 'Hartlepool LPA',\n",
       "       'Middlesbrough LPA', 'Northumberland LPA',\n",
       "       'Redcar and Cleveland LPA', 'Stockton-on-Tees LPA',\n",
       "       'Gateshead LPA', 'Newcastle upon Tyne LPA', 'North Tyneside LPA',\n",
       "       'South Tyneside LPA', 'Sunderland LPA',\n",
       "       'Blackburn with Darwen LPA', 'Blackpool LPA', 'Cheshire East LPA',\n",
       "       'Cheshire West and Chester LPA', 'Halton LPA', 'Warrington LPA',\n",
       "       'Allerdale LPA', 'Barrow-in-Furness LPA', 'Carlisle LPA',\n",
       "       'Copeland LPA', 'Eden LPA', 'South Lakeland LPA', 'Bolton LPA',\n",
       "       'Bury LPA', 'Manchester LPA', 'Oldham LPA', 'Rochdale LPA',\n",
       "       'Salford LPA', 'Stockport LPA', 'Tameside LPA', 'Trafford LPA',\n",
       "       'Wigan LPA', 'Burnley LPA', 'Chorley LPA', 'Fylde LPA',\n",
       "       'Hyndburn LPA', 'Lancaster LPA', 'Pendle LPA', 'Preston LPA',\n",
       "       'Ribble Valley LPA', 'Rossendale LPA', 'South Ribble LPA',\n",
       "       'West Lancashire LPA', 'Wyre LPA', 'Knowsley LPA', 'Liverpool LPA',\n",
       "       'Sefton LPA', 'St. Helens LPA', 'Wirral LPA',\n",
       "       'East Riding of Yorkshire LPA', 'Kingston upon Hull, City of LPA',\n",
       "       'North East Lincolnshire LPA', 'North Lincolnshire LPA',\n",
       "       'York LPA', 'Craven LPA', 'Hambleton LPA', 'Harrogate LPA',\n",
       "       'Richmondshire LPA', 'Ryedale LPA', 'Scarborough LPA', 'Selby LPA',\n",
       "       'Barnsley LPA', 'Doncaster LPA', 'Rotherham LPA', 'Sheffield LPA',\n",
       "       'Bradford LPA', 'Calderdale LPA', 'Kirklees LPA', 'Leeds LPA',\n",
       "       'Wakefield LPA', 'Derby LPA', 'Leicester LPA', 'Nottingham LPA',\n",
       "       'Rutland LPA', 'Amber Valley LPA', 'Bolsover LPA',\n",
       "       'Chesterfield LPA', 'Derbyshire Dales LPA', 'Erewash LPA',\n",
       "       'High Peak LPA', 'North East Derbyshire LPA',\n",
       "       'South Derbyshire LPA', 'Blaby LPA', 'Charnwood LPA',\n",
       "       'Harborough LPA', 'Hinckley and Bosworth LPA', 'Melton LPA',\n",
       "       'North West Leicestershire LPA', 'Oadby and Wigston LPA',\n",
       "       'Boston LPA', 'East Lindsey LPA', 'Lincoln LPA',\n",
       "       'North Kesteven LPA', 'South Holland LPA', 'South Kesteven LPA',\n",
       "       'West Lindsey LPA', 'Corby LPA', 'Daventry LPA',\n",
       "       'East Northamptonshire LPA', 'Kettering LPA', 'Northampton LPA',\n",
       "       'South Northamptonshire LPA', 'Wellingborough LPA', 'Ashfield LPA',\n",
       "       'Bassetlaw LPA', 'Broxtowe LPA', 'Gedling LPA', 'Mansfield LPA',\n",
       "       'Newark and Sherwood LPA', 'Rushcliffe LPA',\n",
       "       'Herefordshire, County of LPA', 'Shropshire LPA',\n",
       "       'Stoke-on-Trent LPA', 'Telford and Wrekin LPA',\n",
       "       'Cannock Chase LPA', 'East Staffordshire LPA', 'Lichfield LPA',\n",
       "       'Newcastle-under-Lyme LPA', 'South Staffordshire LPA',\n",
       "       'Stafford LPA', 'Staffordshire Moorlands LPA', 'Tamworth LPA',\n",
       "       'North Warwickshire LPA', 'Nuneaton and Bedworth LPA', 'Rugby LPA',\n",
       "       'Stratford-on-Avon LPA', 'Warwick LPA', 'Birmingham LPA',\n",
       "       'Coventry LPA', 'Dudley LPA', 'Sandwell LPA', 'Solihull LPA',\n",
       "       'Walsall LPA', 'Wolverhampton LPA', 'Bromsgrove LPA',\n",
       "       'Malvern Hills LPA', 'Redditch LPA', 'Worcester LPA',\n",
       "       'Wychavon LPA', 'Wyre Forest LPA', 'Bedford LPA',\n",
       "       'Central Bedfordshire LPA', 'Luton LPA', 'Peterborough LPA',\n",
       "       'Southend-on-Sea LPA', 'Thurrock LPA', 'Cambridge LPA',\n",
       "       'East Cambridgeshire LPA', 'Fenland LPA', 'Huntingdonshire LPA',\n",
       "       'South Cambridgeshire LPA', 'Basildon LPA', 'Braintree LPA',\n",
       "       'Brentwood LPA', 'Castle Point LPA', 'Chelmsford LPA',\n",
       "       'Colchester LPA', 'Epping Forest LPA', 'Harlow LPA', 'Maldon LPA',\n",
       "       'Rochford LPA', 'Tendring LPA', 'Uttlesford LPA', 'Broxbourne LPA',\n",
       "       'Dacorum LPA', 'East Hertfordshire LPA', 'Hertsmere LPA',\n",
       "       'North Hertfordshire LPA', 'St Albans LPA', 'Stevenage LPA',\n",
       "       'Three Rivers LPA', 'Watford LPA', 'Welwyn Hatfield LPA',\n",
       "       'Breckland LPA', 'Broadland LPA', 'Great Yarmouth LPA',\n",
       "       \"King's Lynn and West Norfolk LPA\", 'North Norfolk LPA',\n",
       "       'Norwich LPA', 'South Norfolk LPA', 'Babergh LPA',\n",
       "       'East Suffolk LPA', 'Ipswich LPA', 'Mid Suffolk LPA',\n",
       "       'West Suffolk LPA', 'Camden LPA', 'City of London LPA',\n",
       "       'Hackney LPA', 'Hammersmith and Fulham LPA', 'Haringey LPA',\n",
       "       'Islington LPA', 'Kensington and Chelsea LPA', 'Lambeth LPA',\n",
       "       'Lewisham LPA', 'Newham LPA', 'Southwark LPA', 'Tower Hamlets LPA',\n",
       "       'Wandsworth LPA', 'Westminster LPA', 'Barking and Dagenham LPA',\n",
       "       'Barnet LPA', 'Bexley LPA', 'Brent LPA', 'Bromley LPA',\n",
       "       'Croydon LPA', 'Ealing LPA', 'Enfield LPA', 'Greenwich LPA',\n",
       "       'Harrow LPA', 'Havering LPA', 'Hillingdon LPA', 'Hounslow LPA',\n",
       "       'Kingston upon Thames LPA', 'Merton LPA', 'Redbridge LPA',\n",
       "       'Richmond upon Thames LPA', 'Sutton LPA', 'Waltham Forest LPA',\n",
       "       'Bracknell Forest LPA', 'Brighton and Hove LPA',\n",
       "       'Isle of Wight LPA', 'Medway LPA', 'Milton Keynes LPA',\n",
       "       'Portsmouth LPA', 'Reading LPA', 'Slough LPA', 'Southampton LPA',\n",
       "       'West Berkshire LPA', 'Windsor and Maidenhead LPA',\n",
       "       'Wokingham LPA', 'Aylesbury Vale LPA', 'Chiltern LPA',\n",
       "       'South Bucks LPA', 'Wycombe LPA', 'Eastbourne LPA', 'Hastings LPA',\n",
       "       'Lewes LPA', 'Rother LPA', 'Wealden LPA',\n",
       "       'Basingstoke and Deane LPA', 'East Hampshire LPA', 'Eastleigh LPA',\n",
       "       'Fareham LPA', 'Gosport LPA', 'Hart LPA', 'Havant LPA',\n",
       "       'New Forest LPA', 'Rushmoor LPA', 'Test Valley LPA',\n",
       "       'Winchester LPA', 'Ashford LPA', 'Canterbury LPA', 'Dartford LPA',\n",
       "       'Dover LPA', 'Folkestone and Hythe LPA', 'Gravesham LPA',\n",
       "       'Maidstone LPA', 'Sevenoaks LPA', 'Swale LPA', 'Thanet LPA',\n",
       "       'Tonbridge and Malling LPA', 'Tunbridge Wells LPA', 'Cherwell LPA',\n",
       "       'Oxford LPA', 'South Oxfordshire LPA', 'Vale of White Horse LPA',\n",
       "       'West Oxfordshire LPA', 'Elmbridge LPA', 'Epsom and Ewell LPA',\n",
       "       'Guildford LPA', 'Mole Valley LPA', 'Reigate and Banstead LPA',\n",
       "       'Runnymede LPA', 'Spelthorne LPA', 'Surrey Heath LPA',\n",
       "       'Tandridge LPA', 'Waverley LPA', 'Woking LPA', 'Adur LPA',\n",
       "       'Arun LPA', 'Chichester LPA', 'Crawley LPA', 'Horsham LPA',\n",
       "       'Mid Sussex LPA', 'Worthing LPA',\n",
       "       'Bath and North East Somerset LPA',\n",
       "       'Bournemouth, Christchurch and Poole LPA', 'Bristol, City of LPA',\n",
       "       'Cornwall LPA', 'Dorset LPA', 'Isles of Scilly LPA',\n",
       "       'North Somerset LPA', 'Plymouth LPA', 'South Gloucestershire LPA',\n",
       "       'Swindon LPA', 'Torbay LPA', 'Wiltshire LPA', 'East Devon LPA',\n",
       "       'Exeter LPA', 'Mid Devon LPA', 'North Devon LPA', 'South Hams LPA',\n",
       "       'Teignbridge LPA', 'Torridge LPA', 'West Devon LPA',\n",
       "       'Cheltenham LPA', 'Cotswold LPA', 'Forest of Dean LPA',\n",
       "       'Gloucester LPA', 'Stroud LPA', 'Tewkesbury LPA', 'Mendip LPA',\n",
       "       'Sedgemoor LPA', 'Somerset West and Taunton LPA',\n",
       "       'South Somerset LPA', 'Dartmoor National Park LPA',\n",
       "       'Exmoor National Park LPA', 'Lake District National Park LPA',\n",
       "       'New Forest National Park LPA',\n",
       "       'North York Moors National Park LPA',\n",
       "       'Northumberland National Park LPA',\n",
       "       'Peak District National Park LPA', 'South Downs National Park LPA',\n",
       "       'The Broads Authority LPA', 'Yorkshire Dales National Park LPA',\n",
       "       'Ebbsfleet Development Corporation LPA',\n",
       "       'London Legacy Development Corporation LPA',\n",
       "       'Old Oak and Park Royal Development Corporation LPA',\n",
       "       'Antrim and Newtownabbey LPA', 'Ards and North Down LPA',\n",
       "       'Armagh City, Banbridge and Craigavon LPA', 'Belfast LPA',\n",
       "       'Causeway Coast and Glens LPA', 'Derry City and Strabane LPA',\n",
       "       'Fermanagh and Omagh LPA', 'Lisburn and Castlereagh LPA',\n",
       "       'Mid and East Antrim LPA', 'Mid Ulster LPA',\n",
       "       'Newry, Mourne and Down LPA', 'Aberdeen City LPA',\n",
       "       'Aberdeenshire LPA', 'Angus LPA', 'Argyll and Bute LPA',\n",
       "       'City of Edinburgh LPA', 'Clackmannanshire LPA',\n",
       "       'Dumfries and Galloway LPA', 'Dundee City LPA',\n",
       "       'East Ayrshire LPA', 'East Dunbartonshire LPA', 'East Lothian LPA',\n",
       "       'East Renfrewshire LPA', 'Falkirk LPA', 'Fife LPA',\n",
       "       'Glasgow City LPA', 'Highland LPA', 'Inverclyde LPA',\n",
       "       'Midlothian LPA', 'Moray LPA', 'Na h-Eileanan Siar LPA',\n",
       "       'North Ayrshire LPA', 'North Lanarkshire LPA',\n",
       "       'Orkney Islands LPA', 'Perth and Kinross LPA', 'Renfrewshire LPA',\n",
       "       'Scottish Borders LPA', 'Shetland Islands LPA',\n",
       "       'South Ayrshire LPA', 'South Lanarkshire LPA', 'Stirling LPA',\n",
       "       'The Cairngorms National Park LPA',\n",
       "       'The Loch Lomond and the Trossachs National Park LPA',\n",
       "       'West Dunbartonshire LPA', 'West Lothian LPA',\n",
       "       'Isle of Anglesey LPA', 'Gwynedd LPA',\n",
       "       'Snowdonia National Park LPA', 'Conwy LPA', 'Denbighshire LPA',\n",
       "       'Flintshire LPA', 'Wrexham LPA', 'Powys LPA', 'Ceredigion LPA',\n",
       "       'Pembrokeshire Coast National Park LPA', 'Pembrokeshire LPA',\n",
       "       'Carmarthenshire LPA', 'Brecon Beacons National Park LPA',\n",
       "       'Swansea LPA', 'Neath Port Talbot LPA', 'Bridgend LPA',\n",
       "       'Vale of Glamorgan LPA', 'Cardiff LPA', 'Rhondda Cynon Taf LPA',\n",
       "       'Merthyr Tydfil LPA', 'Caerphilly LPA', 'Blaenau Gwent LPA',\n",
       "       'Torfaen LPA', 'Monmouthshire LPA', 'Newport LPA'], dtype=object)"
      ]
     },
     "execution_count": 176,
     "metadata": {},
     "output_type": "execute_result"
    }
   ],
   "source": [
    "gdf['lpa19nm'].unique()"
   ]
  },
  {
   "cell_type": "code",
   "execution_count": null,
   "metadata": {},
   "outputs": [],
   "source": [
    "london = gdf[gdf['']]"
   ]
  },
  {
   "cell_type": "code",
   "execution_count": 174,
   "metadata": {},
   "outputs": [
    {
     "data": {
      "text/plain": [
       "<AxesSubplot:>"
      ]
     },
     "execution_count": 174,
     "metadata": {},
     "output_type": "execute_result"
    },
    {
     "data": {
      "image/png": "[encoded data removed]",
      "text/plain": [
       "<Figure size 432x288 with 1 Axes>"
      ]
     },
     "metadata": {
      "needs_background": "light"
     },
     "output_type": "display_data"
    }
   ],
   "source": [
    "gdf.plot()"
   ]
  },
  {
   "cell_type": "code",
   "execution_count": null,
   "metadata": {},
   "outputs": [],
   "source": []
  }
 ],
 "metadata": {
  "kernelspec": {
   "display_name": "Python 3",
   "language": "python",
   "name": "python3"
  },
  "language_info": {
   "codemirror_mode": {
    "name": "ipython",
    "version": 3
   },
   "file_extension": ".py",
   "mimetype": "text/x-python",
   "name": "python",
   "nbconvert_exporter": "python",
   "pygments_lexer": "ipython3",
   "version": "3.8.5"
  }
 },
 "nbformat": 4,
 "nbformat_minor": 4
}
