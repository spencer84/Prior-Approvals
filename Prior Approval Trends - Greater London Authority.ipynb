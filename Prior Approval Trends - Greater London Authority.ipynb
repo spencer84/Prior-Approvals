{
 "cells": [
  {
   "cell_type": "code",
   "execution_count": 1,
   "metadata": {},
   "outputs": [],
   "source": [
    "import pandas as pd\n",
    "import re\n",
    "import numpy as np\n",
    "import plotly.graph_objects as go\n",
    "import urllib, json\n",
    "import numpy as np\n",
    "import geopandas as gpd\n",
    "import matplotlib.pyplot as plt\n",
    "from shapely.geometry import Point"
   ]
  },
  {
   "cell_type": "markdown",
   "metadata": {},
   "source": [
    "## Import data"
   ]
  },
  {
   "cell_type": "code",
   "execution_count": 2,
   "metadata": {},
   "outputs": [],
   "source": [
    "# Read in prior approval data from local directory\n",
    "\n",
    "priors = 'Prior approvals for analysis 20211215'\n",
    "\n",
    "df = pd.read_excel(priors+'.xlsx')"
   ]
  },
  {
   "cell_type": "markdown",
   "metadata": {},
   "source": [
    "### Filter out refused applications"
   ]
  },
  {
   "cell_type": "code",
   "execution_count": 3,
   "metadata": {},
   "outputs": [],
   "source": [
    "#### Filter out refused applications\n",
    "\n",
    "refusals = df[df['Status (groups)']=='Refused']\n",
    "\n",
    "df = df[(df['Status (groups)']!= 'Refused ')&(df['Status (groups)']!= 'Refused')]"
   ]
  },
  {
   "cell_type": "markdown",
   "metadata": {},
   "source": [
    "## Clean Date Fields"
   ]
  },
  {
   "cell_type": "code",
   "execution_count": 4,
   "metadata": {},
   "outputs": [],
   "source": [
    "### Convert time to Month-Year\n",
    "\n",
    "# Where the value for 'Decision date' is null, replace it with 'Valid date'\n",
    "df['date'] = np.where(pd.to_datetime(df['Decision date']).isnull(),pd.to_datetime(df['Valid date']),pd.to_datetime(df['Decision date']))\n",
    "\n",
    "df['month_year'] = df['date'].apply(lambda x: x.strftime('%B-%Y') if x > pd.to_datetime(\"2000-12-30\") else None )\n",
    "\n",
    "df['year'] =  df['date'].apply(lambda x: x.strftime('%Y') if x > pd.to_datetime(\"2000-12-30\") else None )"
   ]
  },
  {
   "cell_type": "markdown",
   "metadata": {},
   "source": [
    "## Clean Change of Use Fields"
   ]
  },
  {
   "cell_type": "markdown",
   "metadata": {},
   "source": [
    "A significant amount of rows lack a value for 'application_type_full' so 'Application type (assumed)' used instead as suggested by Greater London Authority.  "
   ]
  },
  {
   "cell_type": "code",
   "execution_count": 5,
   "metadata": {},
   "outputs": [
    {
     "data": {
      "text/plain": [
       "NaN                                                                  14595\n",
       "Prior Approval: Change of use - offices to dwellinghouses             4358\n",
       "Prior Approval: Larger Home Extension                                 2343\n",
       "Prior Approval: Change of use - retail/takeaway to dwellinghouses      640\n",
       "Lawful development: Proposed use                                       563\n",
       "Name: Application type on Datahub, dtype: int64"
      ]
     },
     "execution_count": 5,
     "metadata": {},
     "output_type": "execute_result"
    }
   ],
   "source": [
    "df['Application type on Datahub'].value_counts(dropna = False).head()"
   ]
  },
  {
   "cell_type": "code",
   "execution_count": 6,
   "metadata": {},
   "outputs": [
    {
     "data": {
      "text/plain": [
       "Prior Approval: Larger Home Extension                                14712\n",
       "Prior Approval: Change of use - offices to dwellinghouses             4694\n",
       "Lawful development: Proposed use                                       902\n",
       "Prior Approval: Change of use - retail/takeaway to dwellinghouses      647\n",
       "Prior Approval: Development for electronic communications network      508\n",
       "Name: Application type (assumed), dtype: int64"
      ]
     },
     "execution_count": 6,
     "metadata": {},
     "output_type": "execute_result"
    }
   ],
   "source": [
    "df['Application type (assumed)'].value_counts(dropna = False).head()"
   ]
  },
  {
   "cell_type": "code",
   "execution_count": 7,
   "metadata": {},
   "outputs": [],
   "source": [
    "df['application_type_new'] = df['Application type (assumed)']"
   ]
  },
  {
   "cell_type": "code",
   "execution_count": 8,
   "metadata": {},
   "outputs": [],
   "source": [
    "### Create a mapping schema to simplify names\n",
    "\n",
    "type_map = {\n",
    "    'retail/takeaway':'retail/service/takeaway/etc',\n",
    "    'retail/service/etc':'retail/service/takeaway/etc',\n",
    "    'Commercial, Business and Service':'commercial/business/service',\n",
    "    'retail':'retail/service/takeaway/etc',\n",
    "    'commercial/business/service/etc':'commercial/business/service',\n",
    "    'mixed use including up':'commercial/business/service'\n",
    "}"
   ]
  },
  {
   "cell_type": "code",
   "execution_count": 9,
   "metadata": {},
   "outputs": [],
   "source": [
    "# Most changes can be caught using a simple formula, splitting text patterns\n",
    "# Additional elif clauses added for handling fringe cases\n",
    "\n",
    "def split_change(text):\n",
    "    changed_from = None\n",
    "    changed_to = None\n",
    "    if isinstance(text, str):\n",
    "        if ' to ' in text and ' - ' in text:\n",
    "            split = re.split(r' to ', text)\n",
    "            changed_to = split[1]\n",
    "            changed_from = re.split(r' - ',split[0])[1]\n",
    "    # Handle fringe cases that may not follow above format\n",
    "        elif text == 'Retail to residential':\n",
    "            changed_to = 'dwellinghouses'\n",
    "            changed_from = 'retail'\n",
    "        elif text == 'Prior Approval: Change of use from Commercial, Business and Service (Use Class E) to Dwellinghouses (Use Class C3)':\n",
    "            changed_to = 'dwellinghouses'\n",
    "            changed_from = 'Commercial, Business and Service'\n",
    "    if changed_to in type_map:\n",
    "        changed_to = type_map[changed_to]\n",
    "    if changed_from in type_map:\n",
    "        changed_from = type_map[changed_from]\n",
    "    return (changed_to, changed_from)      "
   ]
  },
  {
   "cell_type": "code",
   "execution_count": 10,
   "metadata": {},
   "outputs": [],
   "source": [
    "### Apply function to split change to before/after\n",
    "\n",
    "df['changes'] = df['application_type_new'].apply(lambda x: split_change(x))\n",
    "\n",
    "df['changed_from'] = df['changes'].apply(lambda x: x[1])\n",
    "\n",
    "df['changed_to'] = df['changes'].apply(lambda x: x[0])"
   ]
  },
  {
   "cell_type": "code",
   "execution_count": 11,
   "metadata": {},
   "outputs": [
    {
     "data": {
      "text/plain": [
       "(dwellinghouses, offices)                                     4694\n",
       "(dwellinghouses, retail/service/takeaway/etc)                  921\n",
       "(dwellinghouses, storage)                                      189\n",
       "(restaurant/café, retail/service/takeaway/etc)                 127\n",
       "(dwellinghouses, commercial/business/service)                  126\n",
       "(dwellinghouses, light industrial)                              34\n",
       "(school/nursery, business/hotels/etc)                           28\n",
       "(dwellinghouses, agriculture)                                   10\n",
       "(dwellinghouses, amusements/casinos)                             8\n",
       "(assembly/leisure, retail/service/takeaway/etc)                  7\n",
       "(offices, retail/service/takeaway/etc)                           3\n",
       "(business/hotels/etc, school/nursery)                            2\n",
       "(commercial/business/service, commercial/business/service)       1\n",
       "Name: changes, dtype: int64"
      ]
     },
     "execution_count": 11,
     "metadata": {},
     "output_type": "execute_result"
    }
   ],
   "source": [
    "### Create a dataframe of non-null values\n",
    "### This indicates that there has been a change in use\n",
    "\n",
    "non_null_df = df[df['changes']!= (None, None)]\n",
    "\n",
    "non_null_df['changes'].value_counts()"
   ]
  },
  {
   "cell_type": "code",
   "execution_count": 12,
   "metadata": {},
   "outputs": [],
   "source": [
    "# Quick function to clean up the formatting of the to/from labels\n",
    "# Important bit is to add the extra space to some labels (either to or from) to make it different, otherwise Sankey chart will be distorted\n",
    "\n",
    "\n",
    "def clean_labels(x):\n",
    "    to = x[0]\n",
    "    fr = x[1]\n",
    "    to = to.capitalize()\n",
    "    fr = fr.capitalize()\n",
    "    to = ' '+to\n",
    "    return (to, fr)"
   ]
  },
  {
   "cell_type": "markdown",
   "metadata": {},
   "source": [
    "### All Changes"
   ]
  },
  {
   "cell_type": "code",
   "execution_count": 13,
   "metadata": {},
   "outputs": [
    {
     "data": {
      "text/html": [
       "<div>\n",
       "<style scoped>\n",
       "    .dataframe tbody tr th:only-of-type {\n",
       "        vertical-align: middle;\n",
       "    }\n",
       "\n",
       "    .dataframe tbody tr th {\n",
       "        vertical-align: top;\n",
       "    }\n",
       "\n",
       "    .dataframe thead th {\n",
       "        text-align: right;\n",
       "    }\n",
       "</style>\n",
       "<table border=\"1\" class=\"dataframe\">\n",
       "  <thead>\n",
       "    <tr style=\"text-align: right;\">\n",
       "      <th></th>\n",
       "      <th>index</th>\n",
       "      <th>changes</th>\n",
       "      <th>changed_to</th>\n",
       "      <th>changed_from</th>\n",
       "    </tr>\n",
       "  </thead>\n",
       "  <tbody>\n",
       "    <tr>\n",
       "      <th>0</th>\n",
       "      <td>( Dwellinghouses, Offices)</td>\n",
       "      <td>4694</td>\n",
       "      <td>Dwellinghouses</td>\n",
       "      <td>Offices</td>\n",
       "    </tr>\n",
       "    <tr>\n",
       "      <th>1</th>\n",
       "      <td>( Dwellinghouses, Retail/service/takeaway/etc)</td>\n",
       "      <td>921</td>\n",
       "      <td>Dwellinghouses</td>\n",
       "      <td>Retail/service/takeaway/etc</td>\n",
       "    </tr>\n",
       "    <tr>\n",
       "      <th>2</th>\n",
       "      <td>( Dwellinghouses, Storage)</td>\n",
       "      <td>189</td>\n",
       "      <td>Dwellinghouses</td>\n",
       "      <td>Storage</td>\n",
       "    </tr>\n",
       "    <tr>\n",
       "      <th>3</th>\n",
       "      <td>( Restaurant/café, Retail/service/takeaway/etc)</td>\n",
       "      <td>127</td>\n",
       "      <td>Restaurant/café</td>\n",
       "      <td>Retail/service/takeaway/etc</td>\n",
       "    </tr>\n",
       "    <tr>\n",
       "      <th>4</th>\n",
       "      <td>( Dwellinghouses, Commercial/business/service)</td>\n",
       "      <td>126</td>\n",
       "      <td>Dwellinghouses</td>\n",
       "      <td>Commercial/business/service</td>\n",
       "    </tr>\n",
       "    <tr>\n",
       "      <th>5</th>\n",
       "      <td>( Dwellinghouses, Light industrial)</td>\n",
       "      <td>34</td>\n",
       "      <td>Dwellinghouses</td>\n",
       "      <td>Light industrial</td>\n",
       "    </tr>\n",
       "    <tr>\n",
       "      <th>6</th>\n",
       "      <td>( School/nursery, Business/hotels/etc)</td>\n",
       "      <td>28</td>\n",
       "      <td>School/nursery</td>\n",
       "      <td>Business/hotels/etc</td>\n",
       "    </tr>\n",
       "    <tr>\n",
       "      <th>7</th>\n",
       "      <td>( Dwellinghouses, Agriculture)</td>\n",
       "      <td>10</td>\n",
       "      <td>Dwellinghouses</td>\n",
       "      <td>Agriculture</td>\n",
       "    </tr>\n",
       "    <tr>\n",
       "      <th>8</th>\n",
       "      <td>( Dwellinghouses, Amusements/casinos)</td>\n",
       "      <td>8</td>\n",
       "      <td>Dwellinghouses</td>\n",
       "      <td>Amusements/casinos</td>\n",
       "    </tr>\n",
       "    <tr>\n",
       "      <th>9</th>\n",
       "      <td>( Assembly/leisure, Retail/service/takeaway/etc)</td>\n",
       "      <td>7</td>\n",
       "      <td>Assembly/leisure</td>\n",
       "      <td>Retail/service/takeaway/etc</td>\n",
       "    </tr>\n",
       "    <tr>\n",
       "      <th>10</th>\n",
       "      <td>( Offices, Retail/service/takeaway/etc)</td>\n",
       "      <td>3</td>\n",
       "      <td>Offices</td>\n",
       "      <td>Retail/service/takeaway/etc</td>\n",
       "    </tr>\n",
       "    <tr>\n",
       "      <th>11</th>\n",
       "      <td>( Business/hotels/etc, School/nursery)</td>\n",
       "      <td>2</td>\n",
       "      <td>Business/hotels/etc</td>\n",
       "      <td>School/nursery</td>\n",
       "    </tr>\n",
       "    <tr>\n",
       "      <th>12</th>\n",
       "      <td>( Commercial/business/service, Commercial/busi...</td>\n",
       "      <td>1</td>\n",
       "      <td>Commercial/business/service</td>\n",
       "      <td>Commercial/business/service</td>\n",
       "    </tr>\n",
       "  </tbody>\n",
       "</table>\n",
       "</div>"
      ],
      "text/plain": [
       "                                                index  changes  \\\n",
       "0                          ( Dwellinghouses, Offices)     4694   \n",
       "1      ( Dwellinghouses, Retail/service/takeaway/etc)      921   \n",
       "2                          ( Dwellinghouses, Storage)      189   \n",
       "3     ( Restaurant/café, Retail/service/takeaway/etc)      127   \n",
       "4      ( Dwellinghouses, Commercial/business/service)      126   \n",
       "5                 ( Dwellinghouses, Light industrial)       34   \n",
       "6              ( School/nursery, Business/hotels/etc)       28   \n",
       "7                      ( Dwellinghouses, Agriculture)       10   \n",
       "8               ( Dwellinghouses, Amusements/casinos)        8   \n",
       "9    ( Assembly/leisure, Retail/service/takeaway/etc)        7   \n",
       "10            ( Offices, Retail/service/takeaway/etc)        3   \n",
       "11             ( Business/hotels/etc, School/nursery)        2   \n",
       "12  ( Commercial/business/service, Commercial/busi...        1   \n",
       "\n",
       "                      changed_to                 changed_from  \n",
       "0                 Dwellinghouses                      Offices  \n",
       "1                 Dwellinghouses  Retail/service/takeaway/etc  \n",
       "2                 Dwellinghouses                      Storage  \n",
       "3                Restaurant/café  Retail/service/takeaway/etc  \n",
       "4                 Dwellinghouses  Commercial/business/service  \n",
       "5                 Dwellinghouses             Light industrial  \n",
       "6                 School/nursery          Business/hotels/etc  \n",
       "7                 Dwellinghouses                  Agriculture  \n",
       "8                 Dwellinghouses           Amusements/casinos  \n",
       "9               Assembly/leisure  Retail/service/takeaway/etc  \n",
       "10                       Offices  Retail/service/takeaway/etc  \n",
       "11           Business/hotels/etc               School/nursery  \n",
       "12   Commercial/business/service  Commercial/business/service  "
      ]
     },
     "execution_count": 13,
     "metadata": {},
     "output_type": "execute_result"
    }
   ],
   "source": [
    "change_df = pd.DataFrame(non_null_df['changes'].value_counts()).reset_index()\n",
    "change_df['index'] = change_df['index'].apply(lambda x: clean_labels(x))\n",
    "change_df['changed_to'] = change_df['index'].apply(lambda x: x[0])\n",
    "change_df['changed_from'] = change_df['index'].apply(lambda x: x[1])\n",
    "change_df"
   ]
  },
  {
   "cell_type": "code",
   "execution_count": 14,
   "metadata": {},
   "outputs": [],
   "source": [
    "### Add numeric values and totals to labels\n",
    "\n",
    "# List of unique values\n",
    "changed_to = set(list(change_df['changed_to']))\n",
    "\n",
    "# Aggreate using groupby to get a total figure\n",
    "changed_to_totals = change_df.groupby('changed_to').agg({'changes':'sum'})\n",
    "\n",
    "# Re-do the list, but add the total via a lookup\n",
    "changed_to = [x+': '+str(changed_to_totals['changes'][x]) for x in changed_to]\n",
    "\n",
    "# List of unique values\n",
    "changed_from = set(list(change_df['changed_from']))\n",
    "\n",
    "# Aggreate using groupby to get a total figure\n",
    "changed_from_totals = change_df.groupby('changed_from').agg({'changes':'sum'})\n",
    "\n",
    "# Re-do the list, but add the total via a lookup\n",
    "changed_from = [x+': '+str(changed_from_totals['changes'][x]) for x in changed_from]\n",
    "\n",
    "types_count = changed_to+changed_from\n",
    "\n",
    "types_count = sorted(types_count)"
   ]
  },
  {
   "cell_type": "code",
   "execution_count": 60,
   "metadata": {},
   "outputs": [],
   "source": [
    "types = sorted(list(set(list(change_df['changed_to'])+list(change_df['changed_from']))))\n",
    "\n",
    "value_dict = dict(zip(change_df['index'], change_df['changes']))\n",
    "\n",
    "fig = go.Figure(data=[go.Sankey(\n",
    "    # Define nodes\n",
    "    node = dict(\n",
    "      pad = 15,\n",
    "      thickness = 20,\n",
    "      line = dict(color = \"black\", width = 0.5),\n",
    "        label = types_count\n",
    "    ),\n",
    "    # Add links\n",
    "    link = dict(\n",
    "      source =  [types.index(x) for x in change_df['changed_from']],\n",
    "      target =  [types.index(x) for x in change_df['changed_to']],\n",
    "      value =  [value_dict[x] for x in zip(change_df['changed_to'],change_df['changed_from'])],\n",
    "    label = [value_dict[x] for x in zip(change_df['changed_to'],change_df['changed_from'])]))])\n",
    "    #  color =  data['data'][0]['link']['color']\n",
    "#))])\n",
    "\n",
    "# fig.update_layout(title_text=\"Prior Approvals - Change of Use\",font_size=10)\n",
    "# fig.show()"
   ]
  },
  {
   "attachments": {
    "newplot%289%29.png": {
     "image/png": "[encoded data removed]"
    }
   },
   "cell_type": "markdown",
   "metadata": {},
   "source": [
    "![newplot%289%29.png](attachment:newplot%289%29.png)"
   ]
  },
  {
   "cell_type": "markdown",
   "metadata": {},
   "source": [
    "### Changes in 2021"
   ]
  },
  {
   "cell_type": "code",
   "execution_count": 16,
   "metadata": {},
   "outputs": [
    {
     "data": {
      "text/html": [
       "<div>\n",
       "<style scoped>\n",
       "    .dataframe tbody tr th:only-of-type {\n",
       "        vertical-align: middle;\n",
       "    }\n",
       "\n",
       "    .dataframe tbody tr th {\n",
       "        vertical-align: top;\n",
       "    }\n",
       "\n",
       "    .dataframe thead th {\n",
       "        text-align: right;\n",
       "    }\n",
       "</style>\n",
       "<table border=\"1\" class=\"dataframe\">\n",
       "  <thead>\n",
       "    <tr style=\"text-align: right;\">\n",
       "      <th></th>\n",
       "      <th>index</th>\n",
       "      <th>changes</th>\n",
       "      <th>changed_to</th>\n",
       "      <th>changed_from</th>\n",
       "    </tr>\n",
       "  </thead>\n",
       "  <tbody>\n",
       "    <tr>\n",
       "      <th>0</th>\n",
       "      <td>( Dwellinghouses, Offices)</td>\n",
       "      <td>232</td>\n",
       "      <td>Dwellinghouses</td>\n",
       "      <td>Offices</td>\n",
       "    </tr>\n",
       "    <tr>\n",
       "      <th>1</th>\n",
       "      <td>( Dwellinghouses, Retail/service/takeaway/etc)</td>\n",
       "      <td>132</td>\n",
       "      <td>Dwellinghouses</td>\n",
       "      <td>Retail/service/takeaway/etc</td>\n",
       "    </tr>\n",
       "    <tr>\n",
       "      <th>2</th>\n",
       "      <td>( Dwellinghouses, Commercial/business/service)</td>\n",
       "      <td>102</td>\n",
       "      <td>Dwellinghouses</td>\n",
       "      <td>Commercial/business/service</td>\n",
       "    </tr>\n",
       "    <tr>\n",
       "      <th>3</th>\n",
       "      <td>( Restaurant/café, Retail/service/takeaway/etc)</td>\n",
       "      <td>25</td>\n",
       "      <td>Restaurant/café</td>\n",
       "      <td>Retail/service/takeaway/etc</td>\n",
       "    </tr>\n",
       "    <tr>\n",
       "      <th>4</th>\n",
       "      <td>( School/nursery, Business/hotels/etc)</td>\n",
       "      <td>4</td>\n",
       "      <td>School/nursery</td>\n",
       "      <td>Business/hotels/etc</td>\n",
       "    </tr>\n",
       "    <tr>\n",
       "      <th>5</th>\n",
       "      <td>( Dwellinghouses, Light industrial)</td>\n",
       "      <td>3</td>\n",
       "      <td>Dwellinghouses</td>\n",
       "      <td>Light industrial</td>\n",
       "    </tr>\n",
       "    <tr>\n",
       "      <th>6</th>\n",
       "      <td>( Dwellinghouses, Agriculture)</td>\n",
       "      <td>2</td>\n",
       "      <td>Dwellinghouses</td>\n",
       "      <td>Agriculture</td>\n",
       "    </tr>\n",
       "    <tr>\n",
       "      <th>7</th>\n",
       "      <td>( Dwellinghouses, Amusements/casinos)</td>\n",
       "      <td>2</td>\n",
       "      <td>Dwellinghouses</td>\n",
       "      <td>Amusements/casinos</td>\n",
       "    </tr>\n",
       "    <tr>\n",
       "      <th>8</th>\n",
       "      <td>( Offices, Retail/service/takeaway/etc)</td>\n",
       "      <td>1</td>\n",
       "      <td>Offices</td>\n",
       "      <td>Retail/service/takeaway/etc</td>\n",
       "    </tr>\n",
       "    <tr>\n",
       "      <th>9</th>\n",
       "      <td>( Commercial/business/service, Commercial/busi...</td>\n",
       "      <td>1</td>\n",
       "      <td>Commercial/business/service</td>\n",
       "      <td>Commercial/business/service</td>\n",
       "    </tr>\n",
       "  </tbody>\n",
       "</table>\n",
       "</div>"
      ],
      "text/plain": [
       "                                               index  changes  \\\n",
       "0                         ( Dwellinghouses, Offices)      232   \n",
       "1     ( Dwellinghouses, Retail/service/takeaway/etc)      132   \n",
       "2     ( Dwellinghouses, Commercial/business/service)      102   \n",
       "3    ( Restaurant/café, Retail/service/takeaway/etc)       25   \n",
       "4             ( School/nursery, Business/hotels/etc)        4   \n",
       "5                ( Dwellinghouses, Light industrial)        3   \n",
       "6                     ( Dwellinghouses, Agriculture)        2   \n",
       "7              ( Dwellinghouses, Amusements/casinos)        2   \n",
       "8            ( Offices, Retail/service/takeaway/etc)        1   \n",
       "9  ( Commercial/business/service, Commercial/busi...        1   \n",
       "\n",
       "                     changed_to                 changed_from  \n",
       "0                Dwellinghouses                      Offices  \n",
       "1                Dwellinghouses  Retail/service/takeaway/etc  \n",
       "2                Dwellinghouses  Commercial/business/service  \n",
       "3               Restaurant/café  Retail/service/takeaway/etc  \n",
       "4                School/nursery          Business/hotels/etc  \n",
       "5                Dwellinghouses             Light industrial  \n",
       "6                Dwellinghouses                  Agriculture  \n",
       "7                Dwellinghouses           Amusements/casinos  \n",
       "8                       Offices  Retail/service/takeaway/etc  \n",
       "9   Commercial/business/service  Commercial/business/service  "
      ]
     },
     "execution_count": 16,
     "metadata": {},
     "output_type": "execute_result"
    }
   ],
   "source": [
    "\n",
    "change_df = pd.DataFrame(non_null_df[non_null_df['date']>=pd.to_datetime('2021')]['changes'].value_counts()).reset_index()\n",
    "change_df['index'] = change_df['index'].apply(lambda x: clean_labels(x))\n",
    "change_df['changed_to'] = change_df['index'].apply(lambda x: x[0])\n",
    "change_df['changed_from'] = change_df['index'].apply(lambda x: x[1])\n",
    "change_df"
   ]
  },
  {
   "cell_type": "code",
   "execution_count": 17,
   "metadata": {},
   "outputs": [],
   "source": [
    "### Add numeric values and totals to labels\n",
    "\n",
    "# List of unique values\n",
    "changed_to = set(list(change_df['changed_to']))\n",
    "\n",
    "# Aggreate using groupby to get a total figure\n",
    "changed_to_totals = change_df.groupby('changed_to').agg({'changes':'sum'})\n",
    "\n",
    "# Re-do the list, but add the total via a lookup\n",
    "changed_to = [x+': '+str(changed_to_totals['changes'][x]) for x in changed_to]\n",
    "\n",
    "# List of unique values\n",
    "changed_from = set(list(change_df['changed_from']))\n",
    "\n",
    "# Aggreate using groupby to get a total figure\n",
    "changed_from_totals = change_df.groupby('changed_from').agg({'changes':'sum'})\n",
    "\n",
    "# Re-do the list, but add the total via a lookup\n",
    "changed_from = [x+': '+str(changed_from_totals['changes'][x]) for x in changed_from]\n",
    "\n",
    "types_count = changed_to+changed_from\n",
    "\n",
    "types_count = sorted(types_count)"
   ]
  },
  {
   "cell_type": "code",
   "execution_count": 59,
   "metadata": {
    "scrolled": false
   },
   "outputs": [],
   "source": [
    "types = sorted(list(set(list(change_df['changed_to'])+list(change_df['changed_from']))))\n",
    "\n",
    "value_dict = dict(zip(change_df['index'], change_df['changes']))\n",
    "\n",
    "fig = go.Figure(data=[go.Sankey(\n",
    "    # Define nodes\n",
    "    node = dict(\n",
    "      pad = 15,\n",
    "      thickness = 50,\n",
    "      line = dict(color = \"black\", width = 0.5),\n",
    "        label = types_count\n",
    "    ),\n",
    "    # Add links\n",
    "    link = dict(\n",
    "      source =  [types.index(x) for x in change_df['changed_from']],\n",
    "      target =  [types.index(x) for x in change_df['changed_to']],\n",
    "      value =  [value_dict[x] for x in zip(change_df['changed_to'],change_df['changed_from'])],\n",
    "    label = [value_dict[x] for x in zip(change_df['changed_to'],change_df['changed_from'])]))])\n",
    "    #  color =  data['data'][0]['link']['color']\n",
    "#))])\n",
    "\n",
    "#fig.update_layout(title_text=\"Prior Approvals - Change of Use - 2021\",font_size=10)\n",
    "#fig.show()"
   ]
  },
  {
   "attachments": {
    "newplot%288%29.png": {
     "image/png": "[encoded data removed]"
    }
   },
   "cell_type": "markdown",
   "metadata": {},
   "source": [
    "![newplot%288%29.png](attachment:newplot%288%29.png)"
   ]
  },
  {
   "cell_type": "markdown",
   "metadata": {},
   "source": [
    "## Residential Conversions"
   ]
  },
  {
   "cell_type": "code",
   "execution_count": 19,
   "metadata": {},
   "outputs": [],
   "source": [
    "### Flag Residential Conversions\n",
    "\n",
    "# May need to change this logic later if conversion name changes\n",
    "\n",
    "df['residential_conversion'] = df['changed_to'].apply(lambda x: True if x == \"dwellinghouses\" else False)"
   ]
  },
  {
   "cell_type": "code",
   "execution_count": 20,
   "metadata": {},
   "outputs": [
    {
     "data": {
      "text/plain": [
       "NaN                            16839\n",
       "dwellinghouses                  5982\n",
       "restaurant/café                  127\n",
       "school/nursery                    28\n",
       "assembly/leisure                   7\n",
       "offices                            3\n",
       "business/hotels/etc                2\n",
       "commercial/business/service        1\n",
       "Name: changed_to, dtype: int64"
      ]
     },
     "execution_count": 20,
     "metadata": {},
     "output_type": "execute_result"
    }
   ],
   "source": [
    "df['changed_to'].value_counts(dropna = False)"
   ]
  },
  {
   "cell_type": "code",
   "execution_count": 21,
   "metadata": {},
   "outputs": [],
   "source": [
    "### Flag whether on a High Street or in a City Centre\n",
    "\n",
    "def isNaN(x):\n",
    "    return x != x\n",
    "\n",
    "df['High Street'] = df['High Street name'].apply(lambda x: 0 if isNaN(x) else 1)\n",
    "\n",
    "df['Town Centre'] = df['Town Centre Name'].apply(lambda x: 0 if isNaN(x) else 1)"
   ]
  },
  {
   "cell_type": "code",
   "execution_count": 22,
   "metadata": {},
   "outputs": [
    {
     "data": {
      "text/html": [
       "<div>\n",
       "<style scoped>\n",
       "    .dataframe tbody tr th:only-of-type {\n",
       "        vertical-align: middle;\n",
       "    }\n",
       "\n",
       "    .dataframe tbody tr th {\n",
       "        vertical-align: top;\n",
       "    }\n",
       "\n",
       "    .dataframe thead th {\n",
       "        text-align: right;\n",
       "    }\n",
       "</style>\n",
       "<table border=\"1\" class=\"dataframe\">\n",
       "  <thead>\n",
       "    <tr style=\"text-align: right;\">\n",
       "      <th></th>\n",
       "      <th>High Street name</th>\n",
       "      <th>High Street</th>\n",
       "    </tr>\n",
       "  </thead>\n",
       "  <tbody>\n",
       "    <tr>\n",
       "      <th>0</th>\n",
       "      <td>Broad Street, Dagenham.</td>\n",
       "      <td>1</td>\n",
       "    </tr>\n",
       "    <tr>\n",
       "      <th>1</th>\n",
       "      <td>High Road, Seven Kings.</td>\n",
       "      <td>1</td>\n",
       "    </tr>\n",
       "    <tr>\n",
       "      <th>2</th>\n",
       "      <td>NaN</td>\n",
       "      <td>0</td>\n",
       "    </tr>\n",
       "    <tr>\n",
       "      <th>3</th>\n",
       "      <td>North Street, Barking.</td>\n",
       "      <td>1</td>\n",
       "    </tr>\n",
       "    <tr>\n",
       "      <th>4</th>\n",
       "      <td>High Road, Seven Kings.</td>\n",
       "      <td>1</td>\n",
       "    </tr>\n",
       "  </tbody>\n",
       "</table>\n",
       "</div>"
      ],
      "text/plain": [
       "          High Street name  High Street\n",
       "0  Broad Street, Dagenham.            1\n",
       "1  High Road, Seven Kings.            1\n",
       "2                      NaN            0\n",
       "3   North Street, Barking.            1\n",
       "4  High Road, Seven Kings.            1"
      ]
     },
     "execution_count": 22,
     "metadata": {},
     "output_type": "execute_result"
    }
   ],
   "source": [
    "df[['High Street name','High Street']].head()"
   ]
  },
  {
   "cell_type": "code",
   "execution_count": 23,
   "metadata": {},
   "outputs": [],
   "source": [
    "### Monthly residential conversions\n",
    "\n",
    "residential_converstions_monthly = df[df['residential_conversion']==True].groupby('month_year').agg({'id':'count','Residential units proposed':'sum','Existing non-residential floorspace':'median','High Street':'sum','Town Centre':'sum'})\n",
    "\n",
    "residential_converstions_monthly = pd.DataFrame(residential_converstions_monthly).reset_index()\n",
    "residential_converstions_monthly['month_year'] = pd.to_datetime(residential_converstions_monthly['month_year'], format = \"%B-%Y\")\n",
    "residential_converstions_monthly = residential_converstions_monthly.sort_values('month_year')\n",
    "\n",
    "\n",
    "# Monthly proportion of high street and town centre prior approvals\n",
    "\n",
    "residential_converstions_monthly['Pct High Street'] = residential_converstions_monthly['High Street']/residential_converstions_monthly['id']\n",
    "residential_converstions_monthly['Pct Town Centre'] = residential_converstions_monthly['Town Centre']/residential_converstions_monthly['id']\n",
    "residential_converstions_monthly =residential_converstions_monthly.dropna()\n",
    "#residential_converstions_monthly['month_year'] = residential_converstions_monthly['month_year'].apply(lambda x: x.strftime('%B-%Y') if x > pd.to_datetime(\"2000-12-30\") else None)"
   ]
  },
  {
   "cell_type": "code",
   "execution_count": 24,
   "metadata": {},
   "outputs": [],
   "source": [
    "### Annual residential conversions\n",
    "\n",
    "residential_converstions_annual = df[df['residential_conversion']==True].groupby('year').agg({'id':'count','Residential units proposed':'sum','Existing non-residential floorspace':'median','High Street':'sum','Town Centre':'sum'})\n",
    "residential_converstions_annual = pd.DataFrame(residential_converstions_annual).reset_index()\n",
    "residential_converstions_annual['year'] = pd.to_datetime(residential_converstions_annual['year'], format = \"%Y\")\n",
    "residential_converstions_annual = residential_converstions_annual.sort_values('year')\n",
    "\n",
    "residential_converstions_annual['Pct High Street'] = residential_converstions_annual['High Street']/residential_converstions_annual['id']\n",
    "residential_converstions_annual['Pct Town Centre'] = residential_converstions_annual['Town Centre']/residential_converstions_annual['id']\n",
    "\n",
    "residential_converstions_annual =residential_converstions_annual.dropna()"
   ]
  },
  {
   "cell_type": "markdown",
   "metadata": {},
   "source": [
    "#### Total prior approval residential conversions by month"
   ]
  },
  {
   "cell_type": "code",
   "execution_count": 25,
   "metadata": {},
   "outputs": [
    {
     "data": {
      "image/png": "[encoded data removed]",
      "text/plain": [
       "<Figure size 432x288 with 1 Axes>"
      ]
     },
     "metadata": {
      "needs_background": "light"
     },
     "output_type": "display_data"
    }
   ],
   "source": [
    "# Doesn't appear that there have been a huge spike in residential converstions after August--but would be expecting a jump\n",
    "# in August? Or just 2021?\n",
    "\n",
    "# \n",
    "\n",
    "plt.plot(residential_converstions_monthly['month_year'],residential_converstions_monthly['id'])\n",
    "plt.title('Total Prior Approval Residential Conversions by Month')\n",
    "plt.show()"
   ]
  },
  {
   "cell_type": "markdown",
   "metadata": {},
   "source": [
    "#### Total prior approval residential conversions by year"
   ]
  },
  {
   "cell_type": "code",
   "execution_count": 26,
   "metadata": {},
   "outputs": [
    {
     "data": {
      "image/png": "[encoded data removed]",
      "text/plain": [
       "<Figure size 432x288 with 1 Axes>"
      ]
     },
     "metadata": {
      "needs_background": "light"
     },
     "output_type": "display_data"
    }
   ],
   "source": [
    "# Doesn't appear that there have been a huge spike in residential converstions after August--but would be expecting a jump\n",
    "# in August? Or just 2021?\n",
    "\n",
    "# \n",
    "\n",
    "plt.plot(residential_converstions_annual['year'],residential_converstions_annual['id'])\n",
    "plt.title('Total Prior Approval Residential Conversions by Year')\n",
    "plt.show()"
   ]
  },
  {
   "cell_type": "markdown",
   "metadata": {},
   "source": [
    "#### Median non-residential floorspace by month"
   ]
  },
  {
   "cell_type": "code",
   "execution_count": 27,
   "metadata": {},
   "outputs": [
    {
     "data": {
      "image/png": "[encoded data removed]",
      "text/plain": [
       "<Figure size 432x288 with 1 Axes>"
      ]
     },
     "metadata": {
      "needs_background": "light"
     },
     "output_type": "display_data"
    }
   ],
   "source": [
    "# A few months look like outliers--group annually to smooth? -- June, July, Nov 2020\n",
    "# This is due to null values in the floorspace field and only a few large values\n",
    "\n",
    "plt.plot(residential_converstions_monthly['month_year'],residential_converstions_monthly['Existing non-residential floorspace'])\n",
    "plt.title('Median Non-residential Floorspace by Month')\n",
    "plt.show()"
   ]
  },
  {
   "cell_type": "markdown",
   "metadata": {},
   "source": [
    "#### Median non-residential floor space by year"
   ]
  },
  {
   "cell_type": "code",
   "execution_count": 28,
   "metadata": {},
   "outputs": [
    {
     "data": {
      "image/png": "[encoded data removed]",
      "text/plain": [
       "<Figure size 432x288 with 1 Axes>"
      ]
     },
     "metadata": {
      "needs_background": "light"
     },
     "output_type": "display_data"
    }
   ],
   "source": [
    "# A few months look like outliers--group annually to smooth? -- June, July, Nov 2020\n",
    "\n",
    "# Would it be possible assume that the average floorspace per unit is simply this column divided by the \n",
    "\n",
    "plt.plot(residential_converstions_annual['year'],residential_converstions_annual['Existing non-residential floorspace'])\n",
    "plt.title('Median Non-residential Floorspace by Year')\n",
    "plt.show()"
   ]
  },
  {
   "cell_type": "markdown",
   "metadata": {},
   "source": [
    "#### Sum of 'Residential units proposed' by month"
   ]
  },
  {
   "cell_type": "code",
   "execution_count": 29,
   "metadata": {},
   "outputs": [
    {
     "data": {
      "image/png": "[encoded data removed]",
      "text/plain": [
       "<Figure size 432x288 with 1 Axes>"
      ]
     },
     "metadata": {
      "needs_background": "light"
     },
     "output_type": "display_data"
    }
   ],
   "source": [
    "# Why 0 units in most recent months?\n",
    "\n",
    "plt.plot(residential_converstions_monthly['month_year'],residential_converstions_monthly['Residential units proposed'])\n",
    "plt.title('Sum of Residential units proposed by month')\n",
    "plt.show()"
   ]
  },
  {
   "cell_type": "code",
   "execution_count": 30,
   "metadata": {},
   "outputs": [
    {
     "data": {
      "text/html": [
       "<div>\n",
       "<style scoped>\n",
       "    .dataframe tbody tr th:only-of-type {\n",
       "        vertical-align: middle;\n",
       "    }\n",
       "\n",
       "    .dataframe tbody tr th {\n",
       "        vertical-align: top;\n",
       "    }\n",
       "\n",
       "    .dataframe thead th {\n",
       "        text-align: right;\n",
       "    }\n",
       "</style>\n",
       "<table border=\"1\" class=\"dataframe\">\n",
       "  <thead>\n",
       "    <tr style=\"text-align: right;\">\n",
       "      <th></th>\n",
       "      <th>month_year</th>\n",
       "      <th>id</th>\n",
       "      <th>Residential units proposed</th>\n",
       "      <th>Existing non-residential floorspace</th>\n",
       "      <th>High Street</th>\n",
       "      <th>Town Centre</th>\n",
       "      <th>Pct High Street</th>\n",
       "      <th>Pct Town Centre</th>\n",
       "    </tr>\n",
       "  </thead>\n",
       "  <tbody>\n",
       "    <tr>\n",
       "      <th>73</th>\n",
       "      <td>2020-05-01</td>\n",
       "      <td>48</td>\n",
       "      <td>460.0</td>\n",
       "      <td>100.00</td>\n",
       "      <td>24</td>\n",
       "      <td>13</td>\n",
       "      <td>0.500000</td>\n",
       "      <td>0.270833</td>\n",
       "    </tr>\n",
       "    <tr>\n",
       "      <th>57</th>\n",
       "      <td>2020-06-01</td>\n",
       "      <td>25</td>\n",
       "      <td>173.0</td>\n",
       "      <td>2683.00</td>\n",
       "      <td>16</td>\n",
       "      <td>7</td>\n",
       "      <td>0.640000</td>\n",
       "      <td>0.280000</td>\n",
       "    </tr>\n",
       "    <tr>\n",
       "      <th>49</th>\n",
       "      <td>2020-07-01</td>\n",
       "      <td>31</td>\n",
       "      <td>121.0</td>\n",
       "      <td>4092.50</td>\n",
       "      <td>17</td>\n",
       "      <td>6</td>\n",
       "      <td>0.548387</td>\n",
       "      <td>0.193548</td>\n",
       "    </tr>\n",
       "    <tr>\n",
       "      <th>15</th>\n",
       "      <td>2020-08-01</td>\n",
       "      <td>43</td>\n",
       "      <td>254.0</td>\n",
       "      <td>41.00</td>\n",
       "      <td>23</td>\n",
       "      <td>12</td>\n",
       "      <td>0.534884</td>\n",
       "      <td>0.279070</td>\n",
       "    </tr>\n",
       "    <tr>\n",
       "      <th>100</th>\n",
       "      <td>2020-09-01</td>\n",
       "      <td>47</td>\n",
       "      <td>113.0</td>\n",
       "      <td>113.00</td>\n",
       "      <td>22</td>\n",
       "      <td>5</td>\n",
       "      <td>0.468085</td>\n",
       "      <td>0.106383</td>\n",
       "    </tr>\n",
       "    <tr>\n",
       "      <th>91</th>\n",
       "      <td>2020-10-01</td>\n",
       "      <td>37</td>\n",
       "      <td>8.0</td>\n",
       "      <td>0.00</td>\n",
       "      <td>19</td>\n",
       "      <td>6</td>\n",
       "      <td>0.513514</td>\n",
       "      <td>0.162162</td>\n",
       "    </tr>\n",
       "    <tr>\n",
       "      <th>82</th>\n",
       "      <td>2020-11-01</td>\n",
       "      <td>33</td>\n",
       "      <td>399.0</td>\n",
       "      <td>5203.50</td>\n",
       "      <td>18</td>\n",
       "      <td>8</td>\n",
       "      <td>0.545455</td>\n",
       "      <td>0.242424</td>\n",
       "    </tr>\n",
       "    <tr>\n",
       "      <th>24</th>\n",
       "      <td>2020-12-01</td>\n",
       "      <td>31</td>\n",
       "      <td>13.0</td>\n",
       "      <td>193.00</td>\n",
       "      <td>20</td>\n",
       "      <td>8</td>\n",
       "      <td>0.645161</td>\n",
       "      <td>0.258065</td>\n",
       "    </tr>\n",
       "    <tr>\n",
       "      <th>41</th>\n",
       "      <td>2021-01-01</td>\n",
       "      <td>37</td>\n",
       "      <td>117.0</td>\n",
       "      <td>38.00</td>\n",
       "      <td>22</td>\n",
       "      <td>6</td>\n",
       "      <td>0.594595</td>\n",
       "      <td>0.162162</td>\n",
       "    </tr>\n",
       "    <tr>\n",
       "      <th>33</th>\n",
       "      <td>2021-02-01</td>\n",
       "      <td>33</td>\n",
       "      <td>0.0</td>\n",
       "      <td>25.95</td>\n",
       "      <td>24</td>\n",
       "      <td>14</td>\n",
       "      <td>0.727273</td>\n",
       "      <td>0.424242</td>\n",
       "    </tr>\n",
       "    <tr>\n",
       "      <th>66</th>\n",
       "      <td>2021-03-01</td>\n",
       "      <td>42</td>\n",
       "      <td>54.0</td>\n",
       "      <td>15.00</td>\n",
       "      <td>20</td>\n",
       "      <td>6</td>\n",
       "      <td>0.476190</td>\n",
       "      <td>0.142857</td>\n",
       "    </tr>\n",
       "    <tr>\n",
       "      <th>7</th>\n",
       "      <td>2021-04-01</td>\n",
       "      <td>39</td>\n",
       "      <td>11.0</td>\n",
       "      <td>41.00</td>\n",
       "      <td>24</td>\n",
       "      <td>10</td>\n",
       "      <td>0.615385</td>\n",
       "      <td>0.256410</td>\n",
       "    </tr>\n",
       "    <tr>\n",
       "      <th>74</th>\n",
       "      <td>2021-05-01</td>\n",
       "      <td>62</td>\n",
       "      <td>1.0</td>\n",
       "      <td>59.50</td>\n",
       "      <td>32</td>\n",
       "      <td>13</td>\n",
       "      <td>0.516129</td>\n",
       "      <td>0.209677</td>\n",
       "    </tr>\n",
       "    <tr>\n",
       "      <th>58</th>\n",
       "      <td>2021-06-01</td>\n",
       "      <td>22</td>\n",
       "      <td>0.0</td>\n",
       "      <td>0.00</td>\n",
       "      <td>10</td>\n",
       "      <td>4</td>\n",
       "      <td>0.454545</td>\n",
       "      <td>0.181818</td>\n",
       "    </tr>\n",
       "    <tr>\n",
       "      <th>50</th>\n",
       "      <td>2021-07-01</td>\n",
       "      <td>50</td>\n",
       "      <td>20.0</td>\n",
       "      <td>20.40</td>\n",
       "      <td>35</td>\n",
       "      <td>20</td>\n",
       "      <td>0.700000</td>\n",
       "      <td>0.400000</td>\n",
       "    </tr>\n",
       "    <tr>\n",
       "      <th>16</th>\n",
       "      <td>2021-08-01</td>\n",
       "      <td>35</td>\n",
       "      <td>0.0</td>\n",
       "      <td>20.00</td>\n",
       "      <td>21</td>\n",
       "      <td>8</td>\n",
       "      <td>0.600000</td>\n",
       "      <td>0.228571</td>\n",
       "    </tr>\n",
       "    <tr>\n",
       "      <th>101</th>\n",
       "      <td>2021-09-01</td>\n",
       "      <td>55</td>\n",
       "      <td>10.0</td>\n",
       "      <td>0.00</td>\n",
       "      <td>36</td>\n",
       "      <td>21</td>\n",
       "      <td>0.654545</td>\n",
       "      <td>0.381818</td>\n",
       "    </tr>\n",
       "    <tr>\n",
       "      <th>92</th>\n",
       "      <td>2021-10-01</td>\n",
       "      <td>40</td>\n",
       "      <td>0.0</td>\n",
       "      <td>50.00</td>\n",
       "      <td>17</td>\n",
       "      <td>11</td>\n",
       "      <td>0.425000</td>\n",
       "      <td>0.275000</td>\n",
       "    </tr>\n",
       "    <tr>\n",
       "      <th>83</th>\n",
       "      <td>2021-11-01</td>\n",
       "      <td>39</td>\n",
       "      <td>0.0</td>\n",
       "      <td>0.00</td>\n",
       "      <td>27</td>\n",
       "      <td>13</td>\n",
       "      <td>0.692308</td>\n",
       "      <td>0.333333</td>\n",
       "    </tr>\n",
       "    <tr>\n",
       "      <th>25</th>\n",
       "      <td>2021-12-01</td>\n",
       "      <td>19</td>\n",
       "      <td>0.0</td>\n",
       "      <td>125.00</td>\n",
       "      <td>11</td>\n",
       "      <td>4</td>\n",
       "      <td>0.578947</td>\n",
       "      <td>0.210526</td>\n",
       "    </tr>\n",
       "  </tbody>\n",
       "</table>\n",
       "</div>"
      ],
      "text/plain": [
       "    month_year  id  Residential units proposed  \\\n",
       "73  2020-05-01  48                       460.0   \n",
       "57  2020-06-01  25                       173.0   \n",
       "49  2020-07-01  31                       121.0   \n",
       "15  2020-08-01  43                       254.0   \n",
       "100 2020-09-01  47                       113.0   \n",
       "91  2020-10-01  37                         8.0   \n",
       "82  2020-11-01  33                       399.0   \n",
       "24  2020-12-01  31                        13.0   \n",
       "41  2021-01-01  37                       117.0   \n",
       "33  2021-02-01  33                         0.0   \n",
       "66  2021-03-01  42                        54.0   \n",
       "7   2021-04-01  39                        11.0   \n",
       "74  2021-05-01  62                         1.0   \n",
       "58  2021-06-01  22                         0.0   \n",
       "50  2021-07-01  50                        20.0   \n",
       "16  2021-08-01  35                         0.0   \n",
       "101 2021-09-01  55                        10.0   \n",
       "92  2021-10-01  40                         0.0   \n",
       "83  2021-11-01  39                         0.0   \n",
       "25  2021-12-01  19                         0.0   \n",
       "\n",
       "     Existing non-residential floorspace  High Street  Town Centre  \\\n",
       "73                                100.00           24           13   \n",
       "57                               2683.00           16            7   \n",
       "49                               4092.50           17            6   \n",
       "15                                 41.00           23           12   \n",
       "100                               113.00           22            5   \n",
       "91                                  0.00           19            6   \n",
       "82                               5203.50           18            8   \n",
       "24                                193.00           20            8   \n",
       "41                                 38.00           22            6   \n",
       "33                                 25.95           24           14   \n",
       "66                                 15.00           20            6   \n",
       "7                                  41.00           24           10   \n",
       "74                                 59.50           32           13   \n",
       "58                                  0.00           10            4   \n",
       "50                                 20.40           35           20   \n",
       "16                                 20.00           21            8   \n",
       "101                                 0.00           36           21   \n",
       "92                                 50.00           17           11   \n",
       "83                                  0.00           27           13   \n",
       "25                                125.00           11            4   \n",
       "\n",
       "     Pct High Street  Pct Town Centre  \n",
       "73          0.500000         0.270833  \n",
       "57          0.640000         0.280000  \n",
       "49          0.548387         0.193548  \n",
       "15          0.534884         0.279070  \n",
       "100         0.468085         0.106383  \n",
       "91          0.513514         0.162162  \n",
       "82          0.545455         0.242424  \n",
       "24          0.645161         0.258065  \n",
       "41          0.594595         0.162162  \n",
       "33          0.727273         0.424242  \n",
       "66          0.476190         0.142857  \n",
       "7           0.615385         0.256410  \n",
       "74          0.516129         0.209677  \n",
       "58          0.454545         0.181818  \n",
       "50          0.700000         0.400000  \n",
       "16          0.600000         0.228571  \n",
       "101         0.654545         0.381818  \n",
       "92          0.425000         0.275000  \n",
       "83          0.692308         0.333333  \n",
       "25          0.578947         0.210526  "
      ]
     },
     "execution_count": 30,
     "metadata": {},
     "output_type": "execute_result"
    }
   ],
   "source": [
    "residential_converstions_monthly.tail(20)"
   ]
  },
  {
   "cell_type": "markdown",
   "metadata": {},
   "source": [
    "#### Sum of 'Residential units proposed' by year"
   ]
  },
  {
   "cell_type": "code",
   "execution_count": 31,
   "metadata": {},
   "outputs": [
    {
     "data": {
      "image/png": "[encoded data removed]",
      "text/plain": [
       "<Figure size 432x288 with 1 Axes>"
      ]
     },
     "metadata": {
      "needs_background": "light"
     },
     "output_type": "display_data"
    }
   ],
   "source": [
    "# Have I set myself up so that I'm using incomplete data? \n",
    "plt.plot(residential_converstions_annual['year'],residential_converstions_annual['Residential units proposed'])\n",
    "plt.title('Sum of Residential units proposed by year')\n",
    "plt.show()"
   ]
  },
  {
   "cell_type": "code",
   "execution_count": 32,
   "metadata": {},
   "outputs": [
    {
     "data": {
      "text/html": [
       "<div>\n",
       "<style scoped>\n",
       "    .dataframe tbody tr th:only-of-type {\n",
       "        vertical-align: middle;\n",
       "    }\n",
       "\n",
       "    .dataframe tbody tr th {\n",
       "        vertical-align: top;\n",
       "    }\n",
       "\n",
       "    .dataframe thead th {\n",
       "        text-align: right;\n",
       "    }\n",
       "</style>\n",
       "<table border=\"1\" class=\"dataframe\">\n",
       "  <thead>\n",
       "    <tr style=\"text-align: right;\">\n",
       "      <th></th>\n",
       "      <th>month_year</th>\n",
       "      <th>id</th>\n",
       "      <th>Residential units proposed</th>\n",
       "      <th>Existing non-residential floorspace</th>\n",
       "      <th>High Street</th>\n",
       "      <th>Town Centre</th>\n",
       "      <th>Pct High Street</th>\n",
       "      <th>Pct Town Centre</th>\n",
       "    </tr>\n",
       "  </thead>\n",
       "  <tbody>\n",
       "    <tr>\n",
       "      <th>42</th>\n",
       "      <td>2013-07-01</td>\n",
       "      <td>32</td>\n",
       "      <td>218.0</td>\n",
       "      <td>129.0</td>\n",
       "      <td>18</td>\n",
       "      <td>7</td>\n",
       "      <td>0.562500</td>\n",
       "      <td>0.218750</td>\n",
       "    </tr>\n",
       "    <tr>\n",
       "      <th>8</th>\n",
       "      <td>2013-08-01</td>\n",
       "      <td>93</td>\n",
       "      <td>748.0</td>\n",
       "      <td>208.0</td>\n",
       "      <td>64</td>\n",
       "      <td>34</td>\n",
       "      <td>0.688172</td>\n",
       "      <td>0.365591</td>\n",
       "    </tr>\n",
       "    <tr>\n",
       "      <th>93</th>\n",
       "      <td>2013-09-01</td>\n",
       "      <td>100</td>\n",
       "      <td>855.0</td>\n",
       "      <td>220.0</td>\n",
       "      <td>70</td>\n",
       "      <td>38</td>\n",
       "      <td>0.700000</td>\n",
       "      <td>0.380000</td>\n",
       "    </tr>\n",
       "    <tr>\n",
       "      <th>84</th>\n",
       "      <td>2013-10-01</td>\n",
       "      <td>112</td>\n",
       "      <td>1202.0</td>\n",
       "      <td>199.0</td>\n",
       "      <td>77</td>\n",
       "      <td>45</td>\n",
       "      <td>0.687500</td>\n",
       "      <td>0.401786</td>\n",
       "    </tr>\n",
       "    <tr>\n",
       "      <th>75</th>\n",
       "      <td>2013-11-01</td>\n",
       "      <td>90</td>\n",
       "      <td>789.0</td>\n",
       "      <td>207.0</td>\n",
       "      <td>63</td>\n",
       "      <td>24</td>\n",
       "      <td>0.700000</td>\n",
       "      <td>0.266667</td>\n",
       "    </tr>\n",
       "    <tr>\n",
       "      <th>...</th>\n",
       "      <td>...</td>\n",
       "      <td>...</td>\n",
       "      <td>...</td>\n",
       "      <td>...</td>\n",
       "      <td>...</td>\n",
       "      <td>...</td>\n",
       "      <td>...</td>\n",
       "      <td>...</td>\n",
       "    </tr>\n",
       "    <tr>\n",
       "      <th>16</th>\n",
       "      <td>2021-08-01</td>\n",
       "      <td>35</td>\n",
       "      <td>0.0</td>\n",
       "      <td>20.0</td>\n",
       "      <td>21</td>\n",
       "      <td>8</td>\n",
       "      <td>0.600000</td>\n",
       "      <td>0.228571</td>\n",
       "    </tr>\n",
       "    <tr>\n",
       "      <th>101</th>\n",
       "      <td>2021-09-01</td>\n",
       "      <td>55</td>\n",
       "      <td>10.0</td>\n",
       "      <td>0.0</td>\n",
       "      <td>36</td>\n",
       "      <td>21</td>\n",
       "      <td>0.654545</td>\n",
       "      <td>0.381818</td>\n",
       "    </tr>\n",
       "    <tr>\n",
       "      <th>92</th>\n",
       "      <td>2021-10-01</td>\n",
       "      <td>40</td>\n",
       "      <td>0.0</td>\n",
       "      <td>50.0</td>\n",
       "      <td>17</td>\n",
       "      <td>11</td>\n",
       "      <td>0.425000</td>\n",
       "      <td>0.275000</td>\n",
       "    </tr>\n",
       "    <tr>\n",
       "      <th>83</th>\n",
       "      <td>2021-11-01</td>\n",
       "      <td>39</td>\n",
       "      <td>0.0</td>\n",
       "      <td>0.0</td>\n",
       "      <td>27</td>\n",
       "      <td>13</td>\n",
       "      <td>0.692308</td>\n",
       "      <td>0.333333</td>\n",
       "    </tr>\n",
       "    <tr>\n",
       "      <th>25</th>\n",
       "      <td>2021-12-01</td>\n",
       "      <td>19</td>\n",
       "      <td>0.0</td>\n",
       "      <td>125.0</td>\n",
       "      <td>11</td>\n",
       "      <td>4</td>\n",
       "      <td>0.578947</td>\n",
       "      <td>0.210526</td>\n",
       "    </tr>\n",
       "  </tbody>\n",
       "</table>\n",
       "<p>102 rows × 8 columns</p>\n",
       "</div>"
      ],
      "text/plain": [
       "    month_year   id  Residential units proposed  \\\n",
       "42  2013-07-01   32                       218.0   \n",
       "8   2013-08-01   93                       748.0   \n",
       "93  2013-09-01  100                       855.0   \n",
       "84  2013-10-01  112                      1202.0   \n",
       "75  2013-11-01   90                       789.0   \n",
       "..         ...  ...                         ...   \n",
       "16  2021-08-01   35                         0.0   \n",
       "101 2021-09-01   55                        10.0   \n",
       "92  2021-10-01   40                         0.0   \n",
       "83  2021-11-01   39                         0.0   \n",
       "25  2021-12-01   19                         0.0   \n",
       "\n",
       "     Existing non-residential floorspace  High Street  Town Centre  \\\n",
       "42                                 129.0           18            7   \n",
       "8                                  208.0           64           34   \n",
       "93                                 220.0           70           38   \n",
       "84                                 199.0           77           45   \n",
       "75                                 207.0           63           24   \n",
       "..                                   ...          ...          ...   \n",
       "16                                  20.0           21            8   \n",
       "101                                  0.0           36           21   \n",
       "92                                  50.0           17           11   \n",
       "83                                   0.0           27           13   \n",
       "25                                 125.0           11            4   \n",
       "\n",
       "     Pct High Street  Pct Town Centre  \n",
       "42          0.562500         0.218750  \n",
       "8           0.688172         0.365591  \n",
       "93          0.700000         0.380000  \n",
       "84          0.687500         0.401786  \n",
       "75          0.700000         0.266667  \n",
       "..               ...              ...  \n",
       "16          0.600000         0.228571  \n",
       "101         0.654545         0.381818  \n",
       "92          0.425000         0.275000  \n",
       "83          0.692308         0.333333  \n",
       "25          0.578947         0.210526  \n",
       "\n",
       "[102 rows x 8 columns]"
      ]
     },
     "execution_count": 32,
     "metadata": {},
     "output_type": "execute_result"
    }
   ],
   "source": [
    "residential_converstions_monthly"
   ]
  },
  {
   "cell_type": "markdown",
   "metadata": {},
   "source": [
    "#### Proportion of Prior Approvals on High Streets or Town Centres"
   ]
  },
  {
   "cell_type": "code",
   "execution_count": 33,
   "metadata": {},
   "outputs": [
    {
     "data": {
      "image/png": "[encoded data removed]",
      "text/plain": [
       "<Figure size 432x288 with 1 Axes>"
      ]
     },
     "metadata": {
      "needs_background": "light"
     },
     "output_type": "display_data"
    }
   ],
   "source": [
    "\n",
    "plt.plot(residential_converstions_monthly['month_year'],residential_converstions_monthly['Pct High Street'])\n",
    "plt.plot(residential_converstions_annual['year'],residential_converstions_annual['Pct High Street'], color ='orange', linestyle = 'dashed')\n",
    "plt.title('Proportion of Prior Approvals on High Streets or Town Centres')\n",
    "#plt.legend(['Percent on Town Centres - Monthly','Percent on High Streets - Monthly','Percent on Town Centres - Annual','Percent on High Streets - Annual'])\n",
    "plt.show()"
   ]
  },
  {
   "cell_type": "code",
   "execution_count": 34,
   "metadata": {},
   "outputs": [
    {
     "data": {
      "image/png": "[encoded data removed]",
      "text/plain": [
       "<Figure size 432x288 with 1 Axes>"
      ]
     },
     "metadata": {
      "needs_background": "light"
     },
     "output_type": "display_data"
    }
   ],
   "source": [
    "plt.plot(residential_converstions_monthly['month_year'],residential_converstions_monthly['Pct Town Centre'])\n",
    "plt.plot(residential_converstions_annual['year'],residential_converstions_annual['Pct Town Centre'], color ='b', linestyle = 'dashed')\n",
    "plt.title('Proportion of Prior Approvals on Town Centres')\n",
    "plt.show()"
   ]
  },
  {
   "cell_type": "code",
   "execution_count": 35,
   "metadata": {},
   "outputs": [
    {
     "data": {
      "image/png": "[encoded data removed]",
      "text/plain": [
       "<Figure size 432x288 with 1 Axes>"
      ]
     },
     "metadata": {
      "needs_background": "light"
     },
     "output_type": "display_data"
    }
   ],
   "source": [
    "plt.plot(residential_converstions_monthly['month_year'],residential_converstions_monthly['Pct High Street'])\n",
    "plt.plot(residential_converstions_annual['year'],residential_converstions_annual['Pct High Street'], color ='b', linestyle = 'dashed')\n",
    "plt.title('Proportion of Prior Approvals on High Streets')\n",
    "plt.show()"
   ]
  },
  {
   "cell_type": "markdown",
   "metadata": {},
   "source": [
    "### Map Changes over time"
   ]
  },
  {
   "cell_type": "code",
   "execution_count": 36,
   "metadata": {},
   "outputs": [],
   "source": [
    "### Hold off on mapping for now"
   ]
  },
  {
   "cell_type": "code",
   "execution_count": 37,
   "metadata": {},
   "outputs": [],
   "source": [
    "gdf = gpd.read_file(folder+'Local_Planning_Authorities_(April_2019)_UK_BUC.geojson')"
   ]
  },
  {
   "cell_type": "code",
   "execution_count": 38,
   "metadata": {},
   "outputs": [],
   "source": [
    "### Correct a minor data issue where different uses of 'and' or '&' create different LPAs\n",
    "\n",
    "df['Planning authority'] = df['Planning authority'].apply(lambda x: 'Hammersmith & Fulham' if x == 'Hammersmith and Fulham' else x)"
   ]
  },
  {
   "cell_type": "code",
   "execution_count": 39,
   "metadata": {},
   "outputs": [],
   "source": [
    "london_lpas = ['Camden LPA', 'City of London LPA',\n",
    "       'Hackney LPA', 'Hammersmith and Fulham LPA', 'Haringey LPA',\n",
    "       'Islington LPA', 'Kensington and Chelsea LPA', 'Lambeth LPA',\n",
    "       'Lewisham LPA', 'Newham LPA', 'Southwark LPA', 'Tower Hamlets LPA',\n",
    "       'Wandsworth LPA', 'Westminster LPA', 'Barking and Dagenham LPA',\n",
    "       'Barnet LPA', 'Bexley LPA', 'Brent LPA', 'Bromley LPA',\n",
    "       'Croydon LPA', 'Ealing LPA', 'Enfield LPA', 'Greenwich LPA',\n",
    "       'Harrow LPA', 'Havering LPA', 'Hillingdon LPA', 'Hounslow LPA',\n",
    "       'Kingston upon Thames LPA', 'Merton LPA', 'Redbridge LPA',\n",
    "       'Richmond upon Thames LPA','Sutton LPA','Waltham Forest LPA',\n",
    "       'Old Oak and Park Royal Development Corporation LPA','London Legacy Development Corporation LPA']\n",
    "\n",
    "london_lpas.sort()"
   ]
  },
  {
   "cell_type": "code",
   "execution_count": 40,
   "metadata": {},
   "outputs": [
    {
     "data": {
      "text/plain": [
       "{'Barking & Dagenham': 'Barking and Dagenham LPA',\n",
       " 'Barnet': 'Barnet LPA',\n",
       " 'Bexley': 'Bexley LPA',\n",
       " 'Brent': 'Brent LPA',\n",
       " 'Bromley': 'Bromley LPA',\n",
       " 'Camden': 'Camden LPA',\n",
       " 'City of London': 'City of London LPA',\n",
       " 'Croydon': 'Croydon LPA',\n",
       " 'Ealing': 'Ealing LPA',\n",
       " 'Enfield': 'Enfield LPA',\n",
       " 'Greenwich': 'Greenwich LPA',\n",
       " 'Hackney': 'Hackney LPA',\n",
       " 'Hammersmith & Fulham': 'Hammersmith and Fulham LPA',\n",
       " 'Haringey': 'Haringey LPA',\n",
       " 'Harrow': 'Harrow LPA',\n",
       " 'Havering': 'Havering LPA',\n",
       " 'Hillingdon': 'Hillingdon LPA',\n",
       " 'Hounslow': 'Hounslow LPA',\n",
       " 'Islington': 'Islington LPA',\n",
       " 'Kensington & Chelsea': 'Kensington and Chelsea LPA',\n",
       " 'Kingston': 'Kingston upon Thames LPA',\n",
       " 'Lambeth': 'Lambeth LPA',\n",
       " 'Lewisham': 'Lewisham LPA',\n",
       " 'LLDC': 'London Legacy Development Corporation LPA',\n",
       " 'Merton': 'Merton LPA',\n",
       " 'Newham': 'Newham LPA',\n",
       " 'OPDC': 'Old Oak and Park Royal Development Corporation LPA',\n",
       " 'Redbridge': 'Redbridge LPA',\n",
       " 'Richmond': 'Richmond upon Thames LPA',\n",
       " 'Southwark': 'Southwark LPA',\n",
       " 'Sutton': 'Sutton LPA',\n",
       " 'Tower Hamlets': 'Tower Hamlets LPA',\n",
       " 'Waltham Forest': 'Waltham Forest LPA',\n",
       " 'Wandsworth': 'Wandsworth LPA',\n",
       " 'Westminster': 'Westminster LPA'}"
      ]
     },
     "execution_count": 40,
     "metadata": {},
     "output_type": "execute_result"
    }
   ],
   "source": [
    "lpa_mapping = dict(zip(list(df['Planning authority'].unique()),london_lpas))\n",
    "lpa_mapping"
   ]
  },
  {
   "cell_type": "code",
   "execution_count": 41,
   "metadata": {},
   "outputs": [],
   "source": [
    "### Using the name mapping created above, create an idential name field in the dataframe\n",
    "\n",
    "df['lpa19nm'] = df['Planning authority'].apply(lambda x: lpa_mapping[x])"
   ]
  },
  {
   "cell_type": "code",
   "execution_count": null,
   "metadata": {},
   "outputs": [],
   "source": []
  },
  {
   "cell_type": "code",
   "execution_count": 42,
   "metadata": {},
   "outputs": [
    {
     "data": {
      "text/html": [
       "<div>\n",
       "<style scoped>\n",
       "    .dataframe tbody tr th:only-of-type {\n",
       "        vertical-align: middle;\n",
       "    }\n",
       "\n",
       "    .dataframe tbody tr th {\n",
       "        vertical-align: top;\n",
       "    }\n",
       "\n",
       "    .dataframe thead th {\n",
       "        text-align: right;\n",
       "    }\n",
       "</style>\n",
       "<table border=\"1\" class=\"dataframe\">\n",
       "  <thead>\n",
       "    <tr style=\"text-align: right;\">\n",
       "      <th></th>\n",
       "      <th>objectid</th>\n",
       "      <th>lpa19cd</th>\n",
       "      <th>lpa19nm</th>\n",
       "      <th>bng_e</th>\n",
       "      <th>bng_n</th>\n",
       "      <th>long</th>\n",
       "      <th>lat</th>\n",
       "      <th>st_areashape</th>\n",
       "      <th>st_lengthshape</th>\n",
       "      <th>geometry</th>\n",
       "    </tr>\n",
       "  </thead>\n",
       "  <tbody>\n",
       "    <tr>\n",
       "      <th>0</th>\n",
       "      <td>1</td>\n",
       "      <td>E60000001</td>\n",
       "      <td>County Durham LPA</td>\n",
       "      <td>410381</td>\n",
       "      <td>532242</td>\n",
       "      <td>-1.84050</td>\n",
       "      <td>54.685131</td>\n",
       "      <td>2.232342e+09</td>\n",
       "      <td>263945.945384</td>\n",
       "      <td>POLYGON ((-1.55941 54.88204, -1.57991 54.87777...</td>\n",
       "    </tr>\n",
       "    <tr>\n",
       "      <th>1</th>\n",
       "      <td>2</td>\n",
       "      <td>E60000002</td>\n",
       "      <td>Darlington LPA</td>\n",
       "      <td>428029</td>\n",
       "      <td>515648</td>\n",
       "      <td>-1.56835</td>\n",
       "      <td>54.535339</td>\n",
       "      <td>1.988128e+08</td>\n",
       "      <td>91926.839545</td>\n",
       "      <td>POLYGON ((-1.43836 54.59508, -1.45171 54.59083...</td>\n",
       "    </tr>\n",
       "    <tr>\n",
       "      <th>2</th>\n",
       "      <td>3</td>\n",
       "      <td>E60000003</td>\n",
       "      <td>Hartlepool LPA</td>\n",
       "      <td>447157</td>\n",
       "      <td>531476</td>\n",
       "      <td>-1.27023</td>\n",
       "      <td>54.676159</td>\n",
       "      <td>9.602794e+07</td>\n",
       "      <td>51062.316765</td>\n",
       "      <td>POLYGON ((-1.24223 54.72296, -1.25186 54.71962...</td>\n",
       "    </tr>\n",
       "    <tr>\n",
       "      <th>3</th>\n",
       "      <td>4</td>\n",
       "      <td>E60000004</td>\n",
       "      <td>Middlesbrough LPA</td>\n",
       "      <td>451141</td>\n",
       "      <td>516887</td>\n",
       "      <td>-1.21099</td>\n",
       "      <td>54.544670</td>\n",
       "      <td>5.523139e+07</td>\n",
       "      <td>35500.386745</td>\n",
       "      <td>POLYGON ((-1.19860 54.58287, -1.25236 54.59131...</td>\n",
       "    </tr>\n",
       "    <tr>\n",
       "      <th>4</th>\n",
       "      <td>5</td>\n",
       "      <td>E60000005</td>\n",
       "      <td>Northumberland LPA</td>\n",
       "      <td>397861</td>\n",
       "      <td>571351</td>\n",
       "      <td>-2.03501</td>\n",
       "      <td>55.036671</td>\n",
       "      <td>3.975207e+09</td>\n",
       "      <td>608805.111435</td>\n",
       "      <td>MULTIPOLYGON (((-2.00158 55.77855, -2.03453 55...</td>\n",
       "    </tr>\n",
       "  </tbody>\n",
       "</table>\n",
       "</div>"
      ],
      "text/plain": [
       "   objectid    lpa19cd             lpa19nm   bng_e   bng_n     long  \\\n",
       "0         1  E60000001   County Durham LPA  410381  532242 -1.84050   \n",
       "1         2  E60000002      Darlington LPA  428029  515648 -1.56835   \n",
       "2         3  E60000003      Hartlepool LPA  447157  531476 -1.27023   \n",
       "3         4  E60000004   Middlesbrough LPA  451141  516887 -1.21099   \n",
       "4         5  E60000005  Northumberland LPA  397861  571351 -2.03501   \n",
       "\n",
       "         lat  st_areashape  st_lengthshape  \\\n",
       "0  54.685131  2.232342e+09   263945.945384   \n",
       "1  54.535339  1.988128e+08    91926.839545   \n",
       "2  54.676159  9.602794e+07    51062.316765   \n",
       "3  54.544670  5.523139e+07    35500.386745   \n",
       "4  55.036671  3.975207e+09   608805.111435   \n",
       "\n",
       "                                            geometry  \n",
       "0  POLYGON ((-1.55941 54.88204, -1.57991 54.87777...  \n",
       "1  POLYGON ((-1.43836 54.59508, -1.45171 54.59083...  \n",
       "2  POLYGON ((-1.24223 54.72296, -1.25186 54.71962...  \n",
       "3  POLYGON ((-1.19860 54.58287, -1.25236 54.59131...  \n",
       "4  MULTIPOLYGON (((-2.00158 55.77855, -2.03453 55...  "
      ]
     },
     "execution_count": 42,
     "metadata": {},
     "output_type": "execute_result"
    }
   ],
   "source": [
    "### Merge the prior approvals dataframe to the \n",
    "gdf.head()"
   ]
  },
  {
   "cell_type": "code",
   "execution_count": 43,
   "metadata": {},
   "outputs": [],
   "source": [
    "### Create a geodataframe with all prior approvals as points"
   ]
  },
  {
   "cell_type": "code",
   "execution_count": 44,
   "metadata": {},
   "outputs": [
    {
     "data": {
      "text/plain": [
       "Index(['id', 'Application type on Datahub', 'Application type (assumed)',\n",
       "       'Development description', 'Status (groups)', 'Status', 'Decision',\n",
       "       'Easting', 'Northing', 'postcode', 'Planning authority',\n",
       "       'Application number', 'Valid date', 'Decision date',\n",
       "       'Residential units proposed', 'Existing use class (from Datahub)',\n",
       "       'Existing non-residential floorspace', 'High Street name',\n",
       "       'Town Centre Name', 'Planned Article 4 Direction', 'Adopted OA name',\n",
       "       'date', 'month_year', 'year', 'application_type_new', 'changes',\n",
       "       'changed_from', 'changed_to', 'residential_conversion', 'High Street',\n",
       "       'Town Centre', 'lpa19nm'],\n",
       "      dtype='object')"
      ]
     },
     "execution_count": 44,
     "metadata": {},
     "output_type": "execute_result"
    }
   ],
   "source": [
    "df.columns"
   ]
  },
  {
   "cell_type": "code",
   "execution_count": 45,
   "metadata": {},
   "outputs": [
    {
     "data": {
      "text/html": [
       "<div>\n",
       "<style scoped>\n",
       "    .dataframe tbody tr th:only-of-type {\n",
       "        vertical-align: middle;\n",
       "    }\n",
       "\n",
       "    .dataframe tbody tr th {\n",
       "        vertical-align: top;\n",
       "    }\n",
       "\n",
       "    .dataframe thead th {\n",
       "        text-align: right;\n",
       "    }\n",
       "</style>\n",
       "<table border=\"1\" class=\"dataframe\">\n",
       "  <thead>\n",
       "    <tr style=\"text-align: right;\">\n",
       "      <th></th>\n",
       "      <th>Easting</th>\n",
       "      <th>Northing</th>\n",
       "    </tr>\n",
       "  </thead>\n",
       "  <tbody>\n",
       "    <tr>\n",
       "      <th>count</th>\n",
       "      <td>22375.000000</td>\n",
       "      <td>22375.000000</td>\n",
       "    </tr>\n",
       "    <tr>\n",
       "      <th>mean</th>\n",
       "      <td>525737.205765</td>\n",
       "      <td>179807.246883</td>\n",
       "    </tr>\n",
       "    <tr>\n",
       "      <th>std</th>\n",
       "      <td>24144.176204</td>\n",
       "      <td>10998.327928</td>\n",
       "    </tr>\n",
       "    <tr>\n",
       "      <th>min</th>\n",
       "      <td>0.000000</td>\n",
       "      <td>0.000000</td>\n",
       "    </tr>\n",
       "    <tr>\n",
       "      <th>25%</th>\n",
       "      <td>516371.000000</td>\n",
       "      <td>173188.000000</td>\n",
       "    </tr>\n",
       "    <tr>\n",
       "      <th>50%</th>\n",
       "      <td>524944.000000</td>\n",
       "      <td>180918.000000</td>\n",
       "    </tr>\n",
       "    <tr>\n",
       "      <th>75%</th>\n",
       "      <td>534790.500000</td>\n",
       "      <td>185921.500000</td>\n",
       "    </tr>\n",
       "    <tr>\n",
       "      <th>max</th>\n",
       "      <td>558074.000000</td>\n",
       "      <td>199975.000000</td>\n",
       "    </tr>\n",
       "  </tbody>\n",
       "</table>\n",
       "</div>"
      ],
      "text/plain": [
       "             Easting       Northing\n",
       "count   22375.000000   22375.000000\n",
       "mean   525737.205765  179807.246883\n",
       "std     24144.176204   10998.327928\n",
       "min         0.000000       0.000000\n",
       "25%    516371.000000  173188.000000\n",
       "50%    524944.000000  180918.000000\n",
       "75%    534790.500000  185921.500000\n",
       "max    558074.000000  199975.000000"
      ]
     },
     "execution_count": 45,
     "metadata": {},
     "output_type": "execute_result"
    }
   ],
   "source": [
    "df[['Easting','Northing']].describe()"
   ]
  },
  {
   "cell_type": "code",
   "execution_count": 46,
   "metadata": {},
   "outputs": [],
   "source": [
    "## Edit Easting and Northing Values\n",
    "\n",
    "geometry = [Point(xy) for xy in zip(df.Easting.values, df.Northing.values)]\n",
    "\n",
    "prior_approval_points = gpd.GeoDataFrame(df, geometry = geometry)\n",
    "\n",
    "prior_approval_points = prior_approval_points[(prior_approval_points['Easting']>0)&(prior_approval_points['Northing']>0)]"
   ]
  },
  {
   "cell_type": "code",
   "execution_count": 47,
   "metadata": {},
   "outputs": [
    {
     "data": {
      "text/html": [
       "<div>\n",
       "<style scoped>\n",
       "    .dataframe tbody tr th:only-of-type {\n",
       "        vertical-align: middle;\n",
       "    }\n",
       "\n",
       "    .dataframe tbody tr th {\n",
       "        vertical-align: top;\n",
       "    }\n",
       "\n",
       "    .dataframe thead th {\n",
       "        text-align: right;\n",
       "    }\n",
       "</style>\n",
       "<table border=\"1\" class=\"dataframe\">\n",
       "  <thead>\n",
       "    <tr style=\"text-align: right;\">\n",
       "      <th></th>\n",
       "      <th>Easting</th>\n",
       "      <th>Northing</th>\n",
       "    </tr>\n",
       "  </thead>\n",
       "  <tbody>\n",
       "    <tr>\n",
       "      <th>count</th>\n",
       "      <td>22339.000000</td>\n",
       "      <td>22339.000000</td>\n",
       "    </tr>\n",
       "    <tr>\n",
       "      <th>mean</th>\n",
       "      <td>526584.447782</td>\n",
       "      <td>180063.241595</td>\n",
       "    </tr>\n",
       "    <tr>\n",
       "      <th>std</th>\n",
       "      <td>11735.257682</td>\n",
       "      <td>8646.494360</td>\n",
       "    </tr>\n",
       "    <tr>\n",
       "      <th>min</th>\n",
       "      <td>504095.000000</td>\n",
       "      <td>156823.000000</td>\n",
       "    </tr>\n",
       "    <tr>\n",
       "      <th>25%</th>\n",
       "      <td>516399.500000</td>\n",
       "      <td>173206.000000</td>\n",
       "    </tr>\n",
       "    <tr>\n",
       "      <th>50%</th>\n",
       "      <td>524990.000000</td>\n",
       "      <td>180931.000000</td>\n",
       "    </tr>\n",
       "    <tr>\n",
       "      <th>75%</th>\n",
       "      <td>534798.000000</td>\n",
       "      <td>185937.500000</td>\n",
       "    </tr>\n",
       "    <tr>\n",
       "      <th>max</th>\n",
       "      <td>558074.000000</td>\n",
       "      <td>199975.000000</td>\n",
       "    </tr>\n",
       "  </tbody>\n",
       "</table>\n",
       "</div>"
      ],
      "text/plain": [
       "             Easting       Northing\n",
       "count   22339.000000   22339.000000\n",
       "mean   526584.447782  180063.241595\n",
       "std     11735.257682    8646.494360\n",
       "min    504095.000000  156823.000000\n",
       "25%    516399.500000  173206.000000\n",
       "50%    524990.000000  180931.000000\n",
       "75%    534798.000000  185937.500000\n",
       "max    558074.000000  199975.000000"
      ]
     },
     "execution_count": 47,
     "metadata": {},
     "output_type": "execute_result"
    }
   ],
   "source": [
    "prior_approval_points[['Easting','Northing']].describe()"
   ]
  },
  {
   "cell_type": "code",
   "execution_count": 48,
   "metadata": {},
   "outputs": [
    {
     "data": {
      "text/html": [
       "<div>\n",
       "<style scoped>\n",
       "    .dataframe tbody tr th:only-of-type {\n",
       "        vertical-align: middle;\n",
       "    }\n",
       "\n",
       "    .dataframe tbody tr th {\n",
       "        vertical-align: top;\n",
       "    }\n",
       "\n",
       "    .dataframe thead th {\n",
       "        text-align: right;\n",
       "    }\n",
       "</style>\n",
       "<table border=\"1\" class=\"dataframe\">\n",
       "  <thead>\n",
       "    <tr style=\"text-align: right;\">\n",
       "      <th></th>\n",
       "      <th>id</th>\n",
       "      <th>Application type on Datahub</th>\n",
       "      <th>Application type (assumed)</th>\n",
       "      <th>Development description</th>\n",
       "      <th>Status (groups)</th>\n",
       "      <th>Status</th>\n",
       "      <th>Decision</th>\n",
       "      <th>Easting</th>\n",
       "      <th>Northing</th>\n",
       "      <th>postcode</th>\n",
       "      <th>...</th>\n",
       "      <th>year</th>\n",
       "      <th>application_type_new</th>\n",
       "      <th>changes</th>\n",
       "      <th>changed_from</th>\n",
       "      <th>changed_to</th>\n",
       "      <th>residential_conversion</th>\n",
       "      <th>High Street</th>\n",
       "      <th>Town Centre</th>\n",
       "      <th>lpa19nm</th>\n",
       "      <th>geometry</th>\n",
       "    </tr>\n",
       "  </thead>\n",
       "  <tbody>\n",
       "    <tr>\n",
       "      <th>0</th>\n",
       "      <td>Barking_&amp;_Dagenham-13_00560_CLU_P</td>\n",
       "      <td>Prior Approval: Change of use - retail/takeawa...</td>\n",
       "      <td>Prior Approval: Change of use - retail/takeawa...</td>\n",
       "      <td>Application for a certificate of lawfulness fo...</td>\n",
       "      <td>Allowed</td>\n",
       "      <td>Superseded</td>\n",
       "      <td>NaN</td>\n",
       "      <td>549303.0</td>\n",
       "      <td>183999.0</td>\n",
       "      <td>RM10 9JA</td>\n",
       "      <td>...</td>\n",
       "      <td>2013</td>\n",
       "      <td>Prior Approval: Change of use - retail/takeawa...</td>\n",
       "      <td>(dwellinghouses, retail/service/takeaway/etc)</td>\n",
       "      <td>retail/service/takeaway/etc</td>\n",
       "      <td>dwellinghouses</td>\n",
       "      <td>True</td>\n",
       "      <td>1</td>\n",
       "      <td>0</td>\n",
       "      <td>Barking and Dagenham LPA</td>\n",
       "      <td>POINT (549303.000 183999.000)</td>\n",
       "    </tr>\n",
       "    <tr>\n",
       "      <th>1</th>\n",
       "      <td>Barking_&amp;_Dagenham-13_01133_PRIOR</td>\n",
       "      <td>Prior Approval: Change of use - offices to dwe...</td>\n",
       "      <td>Prior Approval: Change of use - offices to dwe...</td>\n",
       "      <td>Application for prior approval of proposed cha...</td>\n",
       "      <td>Allowed</td>\n",
       "      <td>Lapsed</td>\n",
       "      <td>NaN</td>\n",
       "      <td>547748.0</td>\n",
       "      <td>187941.0</td>\n",
       "      <td>RM6 6PY</td>\n",
       "      <td>...</td>\n",
       "      <td>2014</td>\n",
       "      <td>Prior Approval: Change of use - offices to dwe...</td>\n",
       "      <td>(dwellinghouses, offices)</td>\n",
       "      <td>offices</td>\n",
       "      <td>dwellinghouses</td>\n",
       "      <td>True</td>\n",
       "      <td>1</td>\n",
       "      <td>1</td>\n",
       "      <td>Barking and Dagenham LPA</td>\n",
       "      <td>POINT (547748.000 187941.000)</td>\n",
       "    </tr>\n",
       "    <tr>\n",
       "      <th>2</th>\n",
       "      <td>Barking_&amp;_Dagenham-13_01151_PRIOR</td>\n",
       "      <td>Prior Approval: Change of use - offices to dwe...</td>\n",
       "      <td>Prior Approval: Change of use - offices to dwe...</td>\n",
       "      <td>Application for prior approval of change of us...</td>\n",
       "      <td>Allowed</td>\n",
       "      <td>Lapsed</td>\n",
       "      <td>NaN</td>\n",
       "      <td>543692.0</td>\n",
       "      <td>184058.0</td>\n",
       "      <td>IG11 8BB</td>\n",
       "      <td>...</td>\n",
       "      <td>2014</td>\n",
       "      <td>Prior Approval: Change of use - offices to dwe...</td>\n",
       "      <td>(dwellinghouses, offices)</td>\n",
       "      <td>offices</td>\n",
       "      <td>dwellinghouses</td>\n",
       "      <td>True</td>\n",
       "      <td>0</td>\n",
       "      <td>0</td>\n",
       "      <td>Barking and Dagenham LPA</td>\n",
       "      <td>POINT (543692.000 184058.000)</td>\n",
       "    </tr>\n",
       "    <tr>\n",
       "      <th>3</th>\n",
       "      <td>Barking_&amp;_Dagenham-13_01152_PRIOR</td>\n",
       "      <td>Prior Approval: Change of use - offices to dwe...</td>\n",
       "      <td>Prior Approval: Change of use - offices to dwe...</td>\n",
       "      <td>Prior notification of change of use from B1 of...</td>\n",
       "      <td>Allowed</td>\n",
       "      <td>Lapsed</td>\n",
       "      <td>NaN</td>\n",
       "      <td>544488.0</td>\n",
       "      <td>184419.0</td>\n",
       "      <td>IG11 8TN</td>\n",
       "      <td>...</td>\n",
       "      <td>2014</td>\n",
       "      <td>Prior Approval: Change of use - offices to dwe...</td>\n",
       "      <td>(dwellinghouses, offices)</td>\n",
       "      <td>offices</td>\n",
       "      <td>dwellinghouses</td>\n",
       "      <td>True</td>\n",
       "      <td>1</td>\n",
       "      <td>1</td>\n",
       "      <td>Barking and Dagenham LPA</td>\n",
       "      <td>POINT (544488.000 184419.000)</td>\n",
       "    </tr>\n",
       "    <tr>\n",
       "      <th>4</th>\n",
       "      <td>Barking_&amp;_Dagenham-14_00379_PRIOR</td>\n",
       "      <td>Prior Approval: Change of use - offices to dwe...</td>\n",
       "      <td>Prior Approval: Change of use - offices to dwe...</td>\n",
       "      <td>Prior notification of change of use from B1 of...</td>\n",
       "      <td>Allowed</td>\n",
       "      <td>Lapsed</td>\n",
       "      <td>NaN</td>\n",
       "      <td>547938.0</td>\n",
       "      <td>187935.0</td>\n",
       "      <td>RM6 4BP</td>\n",
       "      <td>...</td>\n",
       "      <td>2014</td>\n",
       "      <td>Prior Approval: Change of use - offices to dwe...</td>\n",
       "      <td>(dwellinghouses, offices)</td>\n",
       "      <td>offices</td>\n",
       "      <td>dwellinghouses</td>\n",
       "      <td>True</td>\n",
       "      <td>1</td>\n",
       "      <td>1</td>\n",
       "      <td>Barking and Dagenham LPA</td>\n",
       "      <td>POINT (547938.000 187935.000)</td>\n",
       "    </tr>\n",
       "  </tbody>\n",
       "</table>\n",
       "<p>5 rows × 33 columns</p>\n",
       "</div>"
      ],
      "text/plain": [
       "                                  id  \\\n",
       "0  Barking_&_Dagenham-13_00560_CLU_P   \n",
       "1  Barking_&_Dagenham-13_01133_PRIOR   \n",
       "2  Barking_&_Dagenham-13_01151_PRIOR   \n",
       "3  Barking_&_Dagenham-13_01152_PRIOR   \n",
       "4  Barking_&_Dagenham-14_00379_PRIOR   \n",
       "\n",
       "                         Application type on Datahub  \\\n",
       "0  Prior Approval: Change of use - retail/takeawa...   \n",
       "1  Prior Approval: Change of use - offices to dwe...   \n",
       "2  Prior Approval: Change of use - offices to dwe...   \n",
       "3  Prior Approval: Change of use - offices to dwe...   \n",
       "4  Prior Approval: Change of use - offices to dwe...   \n",
       "\n",
       "                          Application type (assumed)  \\\n",
       "0  Prior Approval: Change of use - retail/takeawa...   \n",
       "1  Prior Approval: Change of use - offices to dwe...   \n",
       "2  Prior Approval: Change of use - offices to dwe...   \n",
       "3  Prior Approval: Change of use - offices to dwe...   \n",
       "4  Prior Approval: Change of use - offices to dwe...   \n",
       "\n",
       "                             Development description Status (groups)  \\\n",
       "0  Application for a certificate of lawfulness fo...         Allowed   \n",
       "1  Application for prior approval of proposed cha...         Allowed   \n",
       "2  Application for prior approval of change of us...         Allowed   \n",
       "3  Prior notification of change of use from B1 of...         Allowed   \n",
       "4  Prior notification of change of use from B1 of...         Allowed   \n",
       "\n",
       "       Status Decision   Easting  Northing  postcode  ...  year  \\\n",
       "0  Superseded      NaN  549303.0  183999.0  RM10 9JA  ...  2013   \n",
       "1      Lapsed      NaN  547748.0  187941.0   RM6 6PY  ...  2014   \n",
       "2      Lapsed      NaN  543692.0  184058.0  IG11 8BB  ...  2014   \n",
       "3      Lapsed      NaN  544488.0  184419.0  IG11 8TN  ...  2014   \n",
       "4      Lapsed      NaN  547938.0  187935.0   RM6 4BP  ...  2014   \n",
       "\n",
       "                                application_type_new  \\\n",
       "0  Prior Approval: Change of use - retail/takeawa...   \n",
       "1  Prior Approval: Change of use - offices to dwe...   \n",
       "2  Prior Approval: Change of use - offices to dwe...   \n",
       "3  Prior Approval: Change of use - offices to dwe...   \n",
       "4  Prior Approval: Change of use - offices to dwe...   \n",
       "\n",
       "                                         changes                 changed_from  \\\n",
       "0  (dwellinghouses, retail/service/takeaway/etc)  retail/service/takeaway/etc   \n",
       "1                      (dwellinghouses, offices)                      offices   \n",
       "2                      (dwellinghouses, offices)                      offices   \n",
       "3                      (dwellinghouses, offices)                      offices   \n",
       "4                      (dwellinghouses, offices)                      offices   \n",
       "\n",
       "       changed_to residential_conversion  High Street Town Centre  \\\n",
       "0  dwellinghouses                   True            1           0   \n",
       "1  dwellinghouses                   True            1           1   \n",
       "2  dwellinghouses                   True            0           0   \n",
       "3  dwellinghouses                   True            1           1   \n",
       "4  dwellinghouses                   True            1           1   \n",
       "\n",
       "                    lpa19nm                       geometry  \n",
       "0  Barking and Dagenham LPA  POINT (549303.000 183999.000)  \n",
       "1  Barking and Dagenham LPA  POINT (547748.000 187941.000)  \n",
       "2  Barking and Dagenham LPA  POINT (543692.000 184058.000)  \n",
       "3  Barking and Dagenham LPA  POINT (544488.000 184419.000)  \n",
       "4  Barking and Dagenham LPA  POINT (547938.000 187935.000)  \n",
       "\n",
       "[5 rows x 33 columns]"
      ]
     },
     "execution_count": 48,
     "metadata": {},
     "output_type": "execute_result"
    }
   ],
   "source": [
    "prior_approval_points.head()"
   ]
  },
  {
   "cell_type": "code",
   "execution_count": 49,
   "metadata": {},
   "outputs": [
    {
     "data": {
      "text/plain": [
       "<AxesSubplot:>"
      ]
     },
     "execution_count": 49,
     "metadata": {},
     "output_type": "execute_result"
    },
    {
     "data": {
      "image/png": "[encoded data removed]",
      "text/plain": [
       "<Figure size 432x288 with 1 Axes>"
      ]
     },
     "metadata": {
      "needs_background": "light"
     },
     "output_type": "display_data"
    }
   ],
   "source": [
    "prior_approval_points.plot()"
   ]
  },
  {
   "cell_type": "code",
   "execution_count": 50,
   "metadata": {},
   "outputs": [
    {
     "data": {
      "text/plain": [
       "425"
      ]
     },
     "execution_count": 50,
     "metadata": {},
     "output_type": "execute_result"
    }
   ],
   "source": [
    "prior_approval_points_2021 = prior_approval_points[prior_approval_points['year']=='2021']\n",
    "residential_points_2021 = prior_approval_points_2021[prior_approval_points_2021['residential_conversion']==True]\n",
    "\n",
    "len(residential_points_2021)"
   ]
  },
  {
   "cell_type": "code",
   "execution_count": 51,
   "metadata": {},
   "outputs": [
    {
     "data": {
      "text/plain": [
       "False    5542\n",
       "True      425\n",
       "Name: residential_conversion, dtype: int64"
      ]
     },
     "execution_count": 51,
     "metadata": {},
     "output_type": "execute_result"
    }
   ],
   "source": [
    "prior_approval_points_2021.residential_conversion.value_counts(dropna = False)"
   ]
  },
  {
   "cell_type": "code",
   "execution_count": 52,
   "metadata": {},
   "outputs": [
    {
     "data": {
      "text/plain": [
       "5967"
      ]
     },
     "execution_count": 52,
     "metadata": {},
     "output_type": "execute_result"
    }
   ],
   "source": [
    "len(prior_approval_points_2021)"
   ]
  },
  {
   "cell_type": "code",
   "execution_count": 53,
   "metadata": {},
   "outputs": [
    {
     "data": {
      "text/plain": [
       "<AxesSubplot:>"
      ]
     },
     "execution_count": 53,
     "metadata": {},
     "output_type": "execute_result"
    },
    {
     "data": {
      "image/png": "[encoded data removed]",
      "text/plain": [
       "<Figure size 432x288 with 1 Axes>"
      ]
     },
     "metadata": {
      "needs_background": "light"
     },
     "output_type": "display_data"
    }
   ],
   "source": [
    "prior_approval_points_2021.plot()"
   ]
  },
  {
   "cell_type": "code",
   "execution_count": 54,
   "metadata": {},
   "outputs": [
    {
     "data": {
      "text/html": [
       "<div>\n",
       "<style scoped>\n",
       "    .dataframe tbody tr th:only-of-type {\n",
       "        vertical-align: middle;\n",
       "    }\n",
       "\n",
       "    .dataframe tbody tr th {\n",
       "        vertical-align: top;\n",
       "    }\n",
       "\n",
       "    .dataframe thead th {\n",
       "        text-align: right;\n",
       "    }\n",
       "</style>\n",
       "<table border=\"1\" class=\"dataframe\">\n",
       "  <thead>\n",
       "    <tr style=\"text-align: right;\">\n",
       "      <th></th>\n",
       "      <th>id</th>\n",
       "      <th>Application type on Datahub</th>\n",
       "      <th>Application type (assumed)</th>\n",
       "      <th>Development description</th>\n",
       "      <th>Status (groups)</th>\n",
       "      <th>Status</th>\n",
       "      <th>Decision</th>\n",
       "      <th>Easting</th>\n",
       "      <th>Northing</th>\n",
       "      <th>postcode</th>\n",
       "      <th>...</th>\n",
       "      <th>year</th>\n",
       "      <th>application_type_new</th>\n",
       "      <th>changes</th>\n",
       "      <th>changed_from</th>\n",
       "      <th>changed_to</th>\n",
       "      <th>residential_conversion</th>\n",
       "      <th>High Street</th>\n",
       "      <th>Town Centre</th>\n",
       "      <th>lpa19nm</th>\n",
       "      <th>geometry</th>\n",
       "    </tr>\n",
       "  </thead>\n",
       "  <tbody>\n",
       "    <tr>\n",
       "      <th>0</th>\n",
       "      <td>Barking_&amp;_Dagenham-13_00560_CLU_P</td>\n",
       "      <td>Prior Approval: Change of use - retail/takeawa...</td>\n",
       "      <td>Prior Approval: Change of use - retail/takeawa...</td>\n",
       "      <td>Application for a certificate of lawfulness fo...</td>\n",
       "      <td>Allowed</td>\n",
       "      <td>Superseded</td>\n",
       "      <td>NaN</td>\n",
       "      <td>549303.0</td>\n",
       "      <td>183999.0</td>\n",
       "      <td>RM10 9JA</td>\n",
       "      <td>...</td>\n",
       "      <td>2013</td>\n",
       "      <td>Prior Approval: Change of use - retail/takeawa...</td>\n",
       "      <td>(dwellinghouses, retail/service/takeaway/etc)</td>\n",
       "      <td>retail/service/takeaway/etc</td>\n",
       "      <td>dwellinghouses</td>\n",
       "      <td>True</td>\n",
       "      <td>1</td>\n",
       "      <td>0</td>\n",
       "      <td>Barking and Dagenham LPA</td>\n",
       "      <td>POINT (549303.000 183999.000)</td>\n",
       "    </tr>\n",
       "    <tr>\n",
       "      <th>1</th>\n",
       "      <td>Barking_&amp;_Dagenham-13_01133_PRIOR</td>\n",
       "      <td>Prior Approval: Change of use - offices to dwe...</td>\n",
       "      <td>Prior Approval: Change of use - offices to dwe...</td>\n",
       "      <td>Application for prior approval of proposed cha...</td>\n",
       "      <td>Allowed</td>\n",
       "      <td>Lapsed</td>\n",
       "      <td>NaN</td>\n",
       "      <td>547748.0</td>\n",
       "      <td>187941.0</td>\n",
       "      <td>RM6 6PY</td>\n",
       "      <td>...</td>\n",
       "      <td>2014</td>\n",
       "      <td>Prior Approval: Change of use - offices to dwe...</td>\n",
       "      <td>(dwellinghouses, offices)</td>\n",
       "      <td>offices</td>\n",
       "      <td>dwellinghouses</td>\n",
       "      <td>True</td>\n",
       "      <td>1</td>\n",
       "      <td>1</td>\n",
       "      <td>Barking and Dagenham LPA</td>\n",
       "      <td>POINT (547748.000 187941.000)</td>\n",
       "    </tr>\n",
       "    <tr>\n",
       "      <th>2</th>\n",
       "      <td>Barking_&amp;_Dagenham-13_01151_PRIOR</td>\n",
       "      <td>Prior Approval: Change of use - offices to dwe...</td>\n",
       "      <td>Prior Approval: Change of use - offices to dwe...</td>\n",
       "      <td>Application for prior approval of change of us...</td>\n",
       "      <td>Allowed</td>\n",
       "      <td>Lapsed</td>\n",
       "      <td>NaN</td>\n",
       "      <td>543692.0</td>\n",
       "      <td>184058.0</td>\n",
       "      <td>IG11 8BB</td>\n",
       "      <td>...</td>\n",
       "      <td>2014</td>\n",
       "      <td>Prior Approval: Change of use - offices to dwe...</td>\n",
       "      <td>(dwellinghouses, offices)</td>\n",
       "      <td>offices</td>\n",
       "      <td>dwellinghouses</td>\n",
       "      <td>True</td>\n",
       "      <td>0</td>\n",
       "      <td>0</td>\n",
       "      <td>Barking and Dagenham LPA</td>\n",
       "      <td>POINT (543692.000 184058.000)</td>\n",
       "    </tr>\n",
       "    <tr>\n",
       "      <th>3</th>\n",
       "      <td>Barking_&amp;_Dagenham-13_01152_PRIOR</td>\n",
       "      <td>Prior Approval: Change of use - offices to dwe...</td>\n",
       "      <td>Prior Approval: Change of use - offices to dwe...</td>\n",
       "      <td>Prior notification of change of use from B1 of...</td>\n",
       "      <td>Allowed</td>\n",
       "      <td>Lapsed</td>\n",
       "      <td>NaN</td>\n",
       "      <td>544488.0</td>\n",
       "      <td>184419.0</td>\n",
       "      <td>IG11 8TN</td>\n",
       "      <td>...</td>\n",
       "      <td>2014</td>\n",
       "      <td>Prior Approval: Change of use - offices to dwe...</td>\n",
       "      <td>(dwellinghouses, offices)</td>\n",
       "      <td>offices</td>\n",
       "      <td>dwellinghouses</td>\n",
       "      <td>True</td>\n",
       "      <td>1</td>\n",
       "      <td>1</td>\n",
       "      <td>Barking and Dagenham LPA</td>\n",
       "      <td>POINT (544488.000 184419.000)</td>\n",
       "    </tr>\n",
       "    <tr>\n",
       "      <th>4</th>\n",
       "      <td>Barking_&amp;_Dagenham-14_00379_PRIOR</td>\n",
       "      <td>Prior Approval: Change of use - offices to dwe...</td>\n",
       "      <td>Prior Approval: Change of use - offices to dwe...</td>\n",
       "      <td>Prior notification of change of use from B1 of...</td>\n",
       "      <td>Allowed</td>\n",
       "      <td>Lapsed</td>\n",
       "      <td>NaN</td>\n",
       "      <td>547938.0</td>\n",
       "      <td>187935.0</td>\n",
       "      <td>RM6 4BP</td>\n",
       "      <td>...</td>\n",
       "      <td>2014</td>\n",
       "      <td>Prior Approval: Change of use - offices to dwe...</td>\n",
       "      <td>(dwellinghouses, offices)</td>\n",
       "      <td>offices</td>\n",
       "      <td>dwellinghouses</td>\n",
       "      <td>True</td>\n",
       "      <td>1</td>\n",
       "      <td>1</td>\n",
       "      <td>Barking and Dagenham LPA</td>\n",
       "      <td>POINT (547938.000 187935.000)</td>\n",
       "    </tr>\n",
       "  </tbody>\n",
       "</table>\n",
       "<p>5 rows × 33 columns</p>\n",
       "</div>"
      ],
      "text/plain": [
       "                                  id  \\\n",
       "0  Barking_&_Dagenham-13_00560_CLU_P   \n",
       "1  Barking_&_Dagenham-13_01133_PRIOR   \n",
       "2  Barking_&_Dagenham-13_01151_PRIOR   \n",
       "3  Barking_&_Dagenham-13_01152_PRIOR   \n",
       "4  Barking_&_Dagenham-14_00379_PRIOR   \n",
       "\n",
       "                         Application type on Datahub  \\\n",
       "0  Prior Approval: Change of use - retail/takeawa...   \n",
       "1  Prior Approval: Change of use - offices to dwe...   \n",
       "2  Prior Approval: Change of use - offices to dwe...   \n",
       "3  Prior Approval: Change of use - offices to dwe...   \n",
       "4  Prior Approval: Change of use - offices to dwe...   \n",
       "\n",
       "                          Application type (assumed)  \\\n",
       "0  Prior Approval: Change of use - retail/takeawa...   \n",
       "1  Prior Approval: Change of use - offices to dwe...   \n",
       "2  Prior Approval: Change of use - offices to dwe...   \n",
       "3  Prior Approval: Change of use - offices to dwe...   \n",
       "4  Prior Approval: Change of use - offices to dwe...   \n",
       "\n",
       "                             Development description Status (groups)  \\\n",
       "0  Application for a certificate of lawfulness fo...         Allowed   \n",
       "1  Application for prior approval of proposed cha...         Allowed   \n",
       "2  Application for prior approval of change of us...         Allowed   \n",
       "3  Prior notification of change of use from B1 of...         Allowed   \n",
       "4  Prior notification of change of use from B1 of...         Allowed   \n",
       "\n",
       "       Status Decision   Easting  Northing  postcode  ...  year  \\\n",
       "0  Superseded      NaN  549303.0  183999.0  RM10 9JA  ...  2013   \n",
       "1      Lapsed      NaN  547748.0  187941.0   RM6 6PY  ...  2014   \n",
       "2      Lapsed      NaN  543692.0  184058.0  IG11 8BB  ...  2014   \n",
       "3      Lapsed      NaN  544488.0  184419.0  IG11 8TN  ...  2014   \n",
       "4      Lapsed      NaN  547938.0  187935.0   RM6 4BP  ...  2014   \n",
       "\n",
       "                                application_type_new  \\\n",
       "0  Prior Approval: Change of use - retail/takeawa...   \n",
       "1  Prior Approval: Change of use - offices to dwe...   \n",
       "2  Prior Approval: Change of use - offices to dwe...   \n",
       "3  Prior Approval: Change of use - offices to dwe...   \n",
       "4  Prior Approval: Change of use - offices to dwe...   \n",
       "\n",
       "                                         changes                 changed_from  \\\n",
       "0  (dwellinghouses, retail/service/takeaway/etc)  retail/service/takeaway/etc   \n",
       "1                      (dwellinghouses, offices)                      offices   \n",
       "2                      (dwellinghouses, offices)                      offices   \n",
       "3                      (dwellinghouses, offices)                      offices   \n",
       "4                      (dwellinghouses, offices)                      offices   \n",
       "\n",
       "       changed_to residential_conversion  High Street Town Centre  \\\n",
       "0  dwellinghouses                   True            1           0   \n",
       "1  dwellinghouses                   True            1           1   \n",
       "2  dwellinghouses                   True            0           0   \n",
       "3  dwellinghouses                   True            1           1   \n",
       "4  dwellinghouses                   True            1           1   \n",
       "\n",
       "                    lpa19nm                       geometry  \n",
       "0  Barking and Dagenham LPA  POINT (549303.000 183999.000)  \n",
       "1  Barking and Dagenham LPA  POINT (547748.000 187941.000)  \n",
       "2  Barking and Dagenham LPA  POINT (543692.000 184058.000)  \n",
       "3  Barking and Dagenham LPA  POINT (544488.000 184419.000)  \n",
       "4  Barking and Dagenham LPA  POINT (547938.000 187935.000)  \n",
       "\n",
       "[5 rows x 33 columns]"
      ]
     },
     "execution_count": 54,
     "metadata": {},
     "output_type": "execute_result"
    }
   ],
   "source": [
    "prior_approval_points.head()"
   ]
  },
  {
   "cell_type": "code",
   "execution_count": 55,
   "metadata": {},
   "outputs": [],
   "source": [
    "pa_2021 = prior_approval_points[prior_approval_points['year']=='2021']"
   ]
  },
  {
   "cell_type": "code",
   "execution_count": 56,
   "metadata": {},
   "outputs": [
    {
     "data": {
      "text/plain": [
       "<AxesSubplot:>"
      ]
     },
     "execution_count": 56,
     "metadata": {},
     "output_type": "execute_result"
    },
    {
     "data": {
      "image/png": "[encoded data removed]",
      "text/plain": [
       "<Figure size 432x288 with 1 Axes>"
      ]
     },
     "metadata": {
      "needs_background": "light"
     },
     "output_type": "display_data"
    }
   ],
   "source": [
    "pa_2021.plot()"
   ]
  }
 ],
 "metadata": {
  "kernelspec": {
   "display_name": "Python 3",
   "language": "python",
   "name": "python3"
  },
  "language_info": {
   "codemirror_mode": {
    "name": "ipython",
    "version": 3
   },
   "file_extension": ".py",
   "mimetype": "text/x-python",
   "name": "python",
   "nbconvert_exporter": "python",
   "pygments_lexer": "ipython3",
   "version": "3.8.5"
  }
 },
 "nbformat": 4,
 "nbformat_minor": 4
}
