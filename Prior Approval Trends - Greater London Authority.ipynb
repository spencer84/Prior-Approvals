{
 "cells": [
  {
   "cell_type": "code",
   "execution_count": 1,
   "metadata": {},
   "outputs": [],
   "source": [
    "import pandas as pd\n",
    "import re\n",
    "import numpy as np\n",
    "import plotly.graph_objects as go\n",
    "import urllib, json\n",
    "import numpy as np\n",
    "import geopandas as gpd\n",
    "import matplotlib.pyplot as plt"
   ]
  },
  {
   "cell_type": "markdown",
   "metadata": {},
   "source": [
    "## Import data"
   ]
  },
  {
   "cell_type": "code",
   "execution_count": 2,
   "metadata": {},
   "outputs": [],
   "source": [
    "folder = \"C:/Users/samspencer/OneDrive - Royal Town Planning Institute/Documents/Projects/Prior Approvals/\"\n",
    "\n",
    "# Read in prior approval data from local directory\n",
    "\n",
    "priors = 'Prior approvals for analysis 20211215'\n",
    "\n",
    "df = pd.read_excel(folder + priors+'.xlsx')"
   ]
  },
  {
   "cell_type": "markdown",
   "metadata": {},
   "source": [
    "### Filter out refused applications"
   ]
  },
  {
   "cell_type": "code",
   "execution_count": 3,
   "metadata": {},
   "outputs": [],
   "source": [
    "#### Filter out refused applications\n",
    "\n",
    "refusals = df[df['Status (groups)']=='Refused']\n",
    "\n",
    "df = df[(df['Status (groups)']!= 'Refused ')&(df['Status (groups)']!= 'Refused')]"
   ]
  },
  {
   "cell_type": "code",
   "execution_count": 4,
   "metadata": {},
   "outputs": [
    {
     "data": {
      "text/plain": [
       "Ealing                    4556\n",
       "Richmond                  2042\n",
       "Enfield                   1582\n",
       "Barnet                    1278\n",
       "Croydon                   1051\n",
       "Havering                  1047\n",
       "Bromley                   1004\n",
       "Brent                     1001\n",
       "Hillingdon                 887\n",
       "Lewisham                   883\n",
       "Merton                     763\n",
       "Greenwich                  690\n",
       "Sutton                     677\n",
       "Harrow                     645\n",
       "Newham                     554\n",
       "Kingston                   498\n",
       "Lambeth                    481\n",
       "Bexley                     431\n",
       "Wandsworth                 360\n",
       "Hammersmith & Fulham       344\n",
       "Hackney                    285\n",
       "Tower Hamlets              281\n",
       "Camden                     267\n",
       "Southwark                  240\n",
       "Hounslow                   224\n",
       "Haringey                   215\n",
       "Islington                  177\n",
       "Redbridge                  170\n",
       "Waltham Forest             120\n",
       "Westminster                113\n",
       "Kensington & Chelsea        40\n",
       "Barking & Dagenham          32\n",
       "City of London              24\n",
       "LLDC                        15\n",
       "OPDC                        10\n",
       "Hammersmith and Fulham       2\n",
       "Name: Planning authority, dtype: int64"
      ]
     },
     "execution_count": 4,
     "metadata": {},
     "output_type": "execute_result"
    }
   ],
   "source": [
    "df['Planning authority'].value_counts()"
   ]
  },
  {
   "cell_type": "code",
   "execution_count": 5,
   "metadata": {},
   "outputs": [],
   "source": [
    "# Kensington and Chelsea particularly low"
   ]
  },
  {
   "cell_type": "markdown",
   "metadata": {},
   "source": [
    "## Clean Date Fields"
   ]
  },
  {
   "cell_type": "code",
   "execution_count": null,
   "metadata": {},
   "outputs": [],
   "source": [
    "### Convert time to Month-Year\n",
    "\n",
    "# Where the value for 'Decision date' is null, replace it with 'Valid date'\n",
    "df['date'] = np.where(pd.to_datetime(df['Decision date']).isnull(),pd.to_datetime(df['Valid date']),pd.to_datetime(df['Decision date']))\n",
    "\n",
    "df['month_year'] = df['date'].apply(lambda x: x.strftime('%B-%Y') if x > pd.to_datetime(\"2000-12-30\") else None )\n",
    "\n",
    "df['year'] =  df['date'].apply(lambda x: x.strftime('%Y') if x > pd.to_datetime(\"2000-12-30\") else None )"
   ]
  },
  {
   "cell_type": "markdown",
   "metadata": {},
   "source": [
    "## Clean Change of Use Fields"
   ]
  },
  {
   "cell_type": "markdown",
   "metadata": {},
   "source": [
    "A significant amount of rows lack a value for 'application_type_full' so where those values are null, we need to replace it with the 'Assumed application type' value"
   ]
  },
  {
   "cell_type": "code",
   "execution_count": null,
   "metadata": {},
   "outputs": [],
   "source": [
    "df['Application type on Datahub'].value_counts(dropna = False).head()"
   ]
  },
  {
   "cell_type": "code",
   "execution_count": null,
   "metadata": {},
   "outputs": [],
   "source": [
    "df['Application type (assumed)'].value_counts(dropna = False).head()"
   ]
  },
  {
   "cell_type": "code",
   "execution_count": null,
   "metadata": {},
   "outputs": [],
   "source": [
    "df['Application type on Datahub'] = df['Application type on Datahub'].apply(lambda x: None if isinstance(x,float) else x)\n",
    "\n",
    "df['application_type_new'] = df.apply(lambda x: x['Application type on Datahub'] if x['Application type on Datahub'] else x['Application type (assumed)'], axis = 1)"
   ]
  },
  {
   "cell_type": "code",
   "execution_count": null,
   "metadata": {},
   "outputs": [],
   "source": [
    "### Create a mapping schema to simplify names\n",
    "\n",
    "type_map = {\n",
    "    'retail/takeaway':'retail/service/takeaway/etc',\n",
    "    'retail/service/etc':'retail/service/takeaway/etc',\n",
    "    'Commercial, Business and Service':'commercial/business/service',\n",
    "    'retail':'retail/service/takeaway/etc',\n",
    "    'commercial/business/service/etc':'commercial/business/service',\n",
    "    'mixed use including up':'commercial/business/service'\n",
    "}"
   ]
  },
  {
   "cell_type": "code",
   "execution_count": null,
   "metadata": {},
   "outputs": [],
   "source": [
    "# Most changes can be caught using a simple formula, splitting text patterns\n",
    "# Additional elif clauses added for handling fringe cases\n",
    "\n",
    "def split_change(text):\n",
    "    changed_from = None\n",
    "    changed_to = None\n",
    "    if isinstance(text, str):\n",
    "        if ' to ' in text and ' - ' in text:\n",
    "            split = re.split(r' to ', text)\n",
    "            changed_to = split[1]\n",
    "            changed_from = re.split(r' - ',split[0])[1]\n",
    "    # Handle fringe cases that may not follow above format\n",
    "        elif text == 'Retail to residential':\n",
    "            changed_to = 'dwellinghouses'\n",
    "            changed_from = 'retail'\n",
    "        elif text == 'Prior Approval: Change of use from Commercial, Business and Service (Use Class E) to Dwellinghouses (Use Class C3)':\n",
    "            changed_to = 'dwellinghouses'\n",
    "            changed_from = 'Commercial, Business and Service'\n",
    "    if changed_to in type_map:\n",
    "        changed_to = type_map[changed_to]\n",
    "    if changed_from in type_map:\n",
    "        changed_from = type_map[changed_from]\n",
    "    return (changed_to, changed_from)      "
   ]
  },
  {
   "cell_type": "code",
   "execution_count": null,
   "metadata": {},
   "outputs": [],
   "source": [
    "### Apply function to split change to before/after\n",
    "\n",
    "df['changes'] = df['application_type_new'].apply(lambda x: split_change(x))\n",
    "\n",
    "df['changed_from'] = df['changes'].apply(lambda x: x[1])\n",
    "\n",
    "df['changed_to'] = df['changes'].apply(lambda x: x[0])"
   ]
  },
  {
   "cell_type": "code",
   "execution_count": null,
   "metadata": {},
   "outputs": [],
   "source": [
    "df['changes'].head()"
   ]
  },
  {
   "cell_type": "code",
   "execution_count": null,
   "metadata": {},
   "outputs": [],
   "source": [
    "non_null_df = df[df['changes']!= (None, None)]"
   ]
  },
  {
   "cell_type": "code",
   "execution_count": null,
   "metadata": {},
   "outputs": [],
   "source": [
    "non_null_df['changes'].value_counts()"
   ]
  },
  {
   "cell_type": "code",
   "execution_count": null,
   "metadata": {},
   "outputs": [],
   "source": [
    "# Quick function to clean up the formatting of the to/from labels\n",
    "# Important bit is to add the extra space to some labels (either to or from) to make it different, otherwise Sankey chart will be distorted\n",
    "\n",
    "\n",
    "def clean_labels(x):\n",
    "    to = x[0]\n",
    "    fr = x[1]\n",
    "    to = to.capitalize()\n",
    "    fr = fr.capitalize()\n",
    "    to += ' '\n",
    "    return (to, fr)"
   ]
  },
  {
   "cell_type": "markdown",
   "metadata": {},
   "source": [
    "### All Changes"
   ]
  },
  {
   "cell_type": "code",
   "execution_count": null,
   "metadata": {},
   "outputs": [],
   "source": [
    "change_df = pd.DataFrame(non_null_df['changes'].value_counts()).reset_index()\n",
    "change_df['index'] = change_df['index'].apply(lambda x: clean_labels(x))\n",
    "change_df['changed_to'] = change_df['index'].apply(lambda x: x[0])\n",
    "change_df['changed_from'] = change_df['index'].apply(lambda x: x[1])\n",
    "change_df"
   ]
  },
  {
   "cell_type": "code",
   "execution_count": null,
   "metadata": {},
   "outputs": [],
   "source": [
    "types = list(set(list(change_df['changed_to'])+list(change_df['changed_from'])))\n",
    "\n",
    "value_dict = dict(zip(change_df['index'], change_df['changes']))\n",
    "\n",
    "fig = go.Figure(data=[go.Sankey(\n",
    "    # Define nodes\n",
    "    node = dict(\n",
    "      pad = 15,\n",
    "      thickness = 20,\n",
    "      line = dict(color = \"black\", width = 0.5),\n",
    "        label = types\n",
    "    ),\n",
    "    # Add links\n",
    "    link = dict(\n",
    "      source =  [types.index(x) for x in change_df['changed_from']],\n",
    "      target =  [types.index(x) for x in change_df['changed_to']],\n",
    "      value =  [value_dict[x] for x in zip(change_df['changed_to'],change_df['changed_from'])],\n",
    "    label = [value_dict[x] for x in zip(change_df['changed_to'],change_df['changed_from'])]))])\n",
    "    #  color =  data['data'][0]['link']['color']\n",
    "#))])\n",
    "\n",
    "fig.update_layout(title_text=\"Prior Approvals - Change of Use\",font_size=10)\n",
    "fig.show()"
   ]
  },
  {
   "cell_type": "markdown",
   "metadata": {},
   "source": [
    "### Changes in 2021"
   ]
  },
  {
   "cell_type": "code",
   "execution_count": null,
   "metadata": {},
   "outputs": [],
   "source": [
    "\n",
    "change_df = pd.DataFrame(non_null_df[non_null_df['date']>=pd.to_datetime('2021')]['changes'].value_counts()).reset_index()\n",
    "change_df['index'] = change_df['index'].apply(lambda x: clean_labels(x))\n",
    "change_df['changed_to'] = change_df['index'].apply(lambda x: x[0])\n",
    "change_df['changed_from'] = change_df['index'].apply(lambda x: x[1])\n",
    "change_df"
   ]
  },
  {
   "cell_type": "code",
   "execution_count": null,
   "metadata": {
    "scrolled": false
   },
   "outputs": [],
   "source": [
    "types = list(set(list(change_df['changed_to'])+list(change_df['changed_from'])))\n",
    "\n",
    "value_dict = dict(zip(change_df['index'], change_df['changes']))\n",
    "\n",
    "fig = go.Figure(data=[go.Sankey(\n",
    "    # Define nodes\n",
    "    node = dict(\n",
    "      pad = 15,\n",
    "      thickness = 50,\n",
    "      line = dict(color = \"black\", width = 0.5),\n",
    "        label = types\n",
    "    ),\n",
    "    # Add links\n",
    "    link = dict(\n",
    "      source =  [types.index(x) for x in change_df['changed_from']],\n",
    "      target =  [types.index(x) for x in change_df['changed_to']],\n",
    "      value =  [value_dict[x] for x in zip(change_df['changed_to'],change_df['changed_from'])],\n",
    "    label = [value_dict[x] for x in zip(change_df['changed_to'],change_df['changed_from'])]))])\n",
    "    #  color =  data['data'][0]['link']['color']\n",
    "#))])\n",
    "\n",
    "fig.update_layout(title_text=\"Prior Approvals - Change of Use - 2021\",font_size=10)\n",
    "fig.show()"
   ]
  },
  {
   "cell_type": "markdown",
   "metadata": {},
   "source": [
    "## Residential Conversions"
   ]
  },
  {
   "cell_type": "code",
   "execution_count": null,
   "metadata": {},
   "outputs": [],
   "source": [
    "## Use \"decision_date\" or \"valid_date\" ?\n",
    "\n",
    "## Combination of the two where "
   ]
  },
  {
   "cell_type": "code",
   "execution_count": null,
   "metadata": {},
   "outputs": [],
   "source": [
    "### Flag Residential Conversions\n",
    "\n",
    "# May need to change this logic later if conversion name changes\n",
    "\n",
    "df['residential_conversion'] = df['changed_to'].apply(lambda x: True if x == \"dwellinghouses\" else False)"
   ]
  },
  {
   "cell_type": "code",
   "execution_count": null,
   "metadata": {},
   "outputs": [],
   "source": [
    "### Flag whether on a High Street or in a City Centre\n",
    "\n",
    "def isNaN(x):\n",
    "    return x != x\n",
    "\n",
    "df['High Street'] = df['High Street name'].apply(lambda x: 0 if isNaN(x) else 1)\n",
    "\n",
    "df['Town Centre'] = df['Town Centre Name'].apply(lambda x: 0 if isNaN(x) else 1)"
   ]
  },
  {
   "cell_type": "code",
   "execution_count": null,
   "metadata": {},
   "outputs": [],
   "source": [
    "df[['High Street name','High Street']].head()"
   ]
  },
  {
   "cell_type": "code",
   "execution_count": null,
   "metadata": {},
   "outputs": [],
   "source": [
    "### Monthly residential conversions\n",
    "\n",
    "residential_converstions_monthly = df[df['residential_conversion']==True].groupby('month_year').agg({'id':'count','Residential units proposed':'sum','Existing non-residential floorspace':'median','High Street':'sum','Town Centre':'sum'})\n",
    "\n",
    "residential_converstions_monthly = pd.DataFrame(residential_converstions_monthly).reset_index()\n",
    "residential_converstions_monthly['month_year'] = pd.to_datetime(residential_converstions_monthly['month_year'], format = \"%B-%Y\")\n",
    "residential_converstions_monthly = residential_converstions_monthly.sort_values('month_year')\n",
    "\n",
    "\n",
    "# Monthly proportion of high street and town centre prior approvals\n",
    "\n",
    "residential_converstions_monthly['Pct High Street'] = residential_converstions_monthly['High Street']/residential_converstions_monthly['id']\n",
    "residential_converstions_monthly['Pct Town Centre'] = residential_converstions_monthly['Town Centre']/residential_converstions_monthly['id']\n",
    "residential_converstions_monthly =residential_converstions_monthly.dropna()\n",
    "#residential_converstions_monthly['month_year'] = residential_converstions_monthly['month_year'].apply(lambda x: x.strftime('%B-%Y') if x > pd.to_datetime(\"2000-12-30\") else None)"
   ]
  },
  {
   "cell_type": "code",
   "execution_count": null,
   "metadata": {},
   "outputs": [],
   "source": [
    "### Annual residential conversions\n",
    "\n",
    "residential_converstions_annual = df[df['residential_conversion']==True].groupby('year').agg({'id':'count','Residential units proposed':'sum','Existing non-residential floorspace':'median','High Street':'sum','Town Centre':'sum'})\n",
    "residential_converstions_annual = pd.DataFrame(residential_converstions_annual).reset_index()\n",
    "residential_converstions_annual['year'] = pd.to_datetime(residential_converstions_annual['year'], format = \"%Y\")\n",
    "residential_converstions_annual = residential_converstions_annual.sort_values('year')\n",
    "\n",
    "residential_converstions_annual['Pct High Street'] = residential_converstions_annual['High Street']/residential_converstions_annual['id']\n",
    "residential_converstions_annual['Pct Town Centre'] = residential_converstions_annual['Town Centre']/residential_converstions_annual['id']\n",
    "\n",
    "residential_converstions_annual =residential_converstions_annual.dropna()"
   ]
  },
  {
   "cell_type": "markdown",
   "metadata": {},
   "source": [
    "#### Total prior approval residential conversions by month"
   ]
  },
  {
   "cell_type": "code",
   "execution_count": null,
   "metadata": {},
   "outputs": [],
   "source": [
    "# Doesn't appear that there have been a huge spike in residential converstions after August--but would be expecting a jump\n",
    "# in August? Or just 2021?\n",
    "\n",
    "# \n",
    "\n",
    "plt.plot(residential_converstions_monthly['month_year'],residential_converstions_monthly['id'])\n",
    "plt.title('Total Prior Approval Residential Conversions by Month')\n",
    "plt.show()"
   ]
  },
  {
   "cell_type": "markdown",
   "metadata": {},
   "source": [
    "#### Total prior approval residential conversions by year"
   ]
  },
  {
   "cell_type": "code",
   "execution_count": null,
   "metadata": {},
   "outputs": [],
   "source": [
    "# Doesn't appear that there have been a huge spike in residential converstions after August--but would be expecting a jump\n",
    "# in August? Or just 2021?\n",
    "\n",
    "# \n",
    "\n",
    "plt.plot(residential_converstions_annual['year'],residential_converstions_annual['id'])\n",
    "plt.title('Total Prior Approval Residential Conversions by Year')\n",
    "plt.show()"
   ]
  },
  {
   "cell_type": "markdown",
   "metadata": {},
   "source": [
    "#### Median non-residential floorspace by month"
   ]
  },
  {
   "cell_type": "code",
   "execution_count": null,
   "metadata": {},
   "outputs": [],
   "source": [
    "# A few months look like outliers--group annually to smooth? -- June, July, Nov 2020\n",
    "# This is due to null values in the floorspace field and only a few large values\n",
    "\n",
    "plt.plot(residential_converstions_monthly['month_year'],residential_converstions_monthly['Existing non-residential floorspace'])\n",
    "plt.title('Median Non-residential Floorspace by Month')\n",
    "plt.show()"
   ]
  },
  {
   "cell_type": "markdown",
   "metadata": {},
   "source": [
    "#### Median non-residential floor space by year"
   ]
  },
  {
   "cell_type": "code",
   "execution_count": null,
   "metadata": {},
   "outputs": [],
   "source": [
    "# A few months look like outliers--group annually to smooth? -- June, July, Nov 2020\n",
    "\n",
    "# Would it be possible assume that the average floorspace per unit is simply this column divided by the \n",
    "\n",
    "plt.plot(residential_converstions_annual['year'],residential_converstions_annual['Existing non-residential floorspace'])\n",
    "plt.title('Median Non-residential Floorspace by Year')\n",
    "plt.show()"
   ]
  },
  {
   "cell_type": "markdown",
   "metadata": {},
   "source": [
    "#### Sum of 'Residential units proposed' by month"
   ]
  },
  {
   "cell_type": "code",
   "execution_count": null,
   "metadata": {},
   "outputs": [],
   "source": [
    "# Why 0 units in most recent months?\n",
    "\n",
    "plt.plot(residential_converstions_monthly['month_year'],residential_converstions_monthly['Residential units proposed'])\n",
    "plt.title('Sum of Residential units proposed by month')\n",
    "plt.show()"
   ]
  },
  {
   "cell_type": "code",
   "execution_count": null,
   "metadata": {},
   "outputs": [],
   "source": [
    "residential_converstions_monthly.tail(20)"
   ]
  },
  {
   "cell_type": "markdown",
   "metadata": {},
   "source": [
    "#### Sum of 'Residential units proposed' by year"
   ]
  },
  {
   "cell_type": "code",
   "execution_count": null,
   "metadata": {},
   "outputs": [],
   "source": [
    "# Have I set myself up so that I'm using incomplete data? \n",
    "plt.plot(residential_converstions_annual['year'],residential_converstions_annual['Residential units proposed'])\n",
    "plt.title('Sum of Residential units proposed by year')\n",
    "plt.show()"
   ]
  },
  {
   "cell_type": "code",
   "execution_count": null,
   "metadata": {},
   "outputs": [],
   "source": [
    "residential_converstions_monthly"
   ]
  },
  {
   "cell_type": "markdown",
   "metadata": {},
   "source": [
    "#### Proportion of Prior Approvals on High Streets or Town Centres"
   ]
  },
  {
   "cell_type": "code",
   "execution_count": null,
   "metadata": {},
   "outputs": [],
   "source": [
    "\n",
    "plt.plot(residential_converstions_monthly['month_year'],residential_converstions_monthly['Pct High Street'])\n",
    "plt.plot(residential_converstions_annual['year'],residential_converstions_annual['Pct High Street'], color ='orange', linestyle = 'dashed')\n",
    "plt.title('Proportion of Prior Approvals on High Streets or Town Centres')\n",
    "#plt.legend(['Percent on Town Centres - Monthly','Percent on High Streets - Monthly','Percent on Town Centres - Annual','Percent on High Streets - Annual'])\n",
    "plt.show()"
   ]
  },
  {
   "cell_type": "code",
   "execution_count": null,
   "metadata": {},
   "outputs": [],
   "source": [
    "plt.plot(residential_converstions_monthly['month_year'],residential_converstions_monthly['Pct Town Centre'])\n",
    "plt.plot(residential_converstions_annual['year'],residential_converstions_annual['Pct Town Centre'], color ='b', linestyle = 'dashed')\n",
    "plt.title('Proportion of Prior Approvals on Town Centres')\n",
    "plt.show()"
   ]
  },
  {
   "cell_type": "code",
   "execution_count": null,
   "metadata": {},
   "outputs": [],
   "source": [
    "plt.plot(residential_converstions_monthly['month_year'],residential_converstions_monthly['Pct High Street'])\n",
    "plt.plot(residential_converstions_annual['year'],residential_converstions_annual['Pct High Street'], color ='b', linestyle = 'dashed')\n",
    "plt.title('Proportion of Prior Approvals on High Streets')\n",
    "plt.show()"
   ]
  },
  {
   "cell_type": "markdown",
   "metadata": {},
   "source": [
    "### Map Changes over time"
   ]
  },
  {
   "cell_type": "code",
   "execution_count": null,
   "metadata": {},
   "outputs": [],
   "source": [
    "### Hold off on mapping for now"
   ]
  },
  {
   "cell_type": "code",
   "execution_count": null,
   "metadata": {},
   "outputs": [],
   "source": [
    "gdf = gpd.read_file(folder+'Local_Planning_Authorities_(April_2019)_UK_BUC.geojson')"
   ]
  },
  {
   "cell_type": "code",
   "execution_count": null,
   "metadata": {},
   "outputs": [],
   "source": [
    "gdf.head()"
   ]
  },
  {
   "cell_type": "code",
   "execution_count": null,
   "metadata": {},
   "outputs": [],
   "source": [
    "df['Planning authority'].unique()"
   ]
  },
  {
   "cell_type": "code",
   "execution_count": null,
   "metadata": {},
   "outputs": [],
   "source": [
    "gdf['lpa19nm'].unique()"
   ]
  },
  {
   "cell_type": "code",
   "execution_count": null,
   "metadata": {},
   "outputs": [],
   "source": [
    "gdf.plot()"
   ]
  },
  {
   "cell_type": "code",
   "execution_count": null,
   "metadata": {},
   "outputs": [],
   "source": []
  },
  {
   "cell_type": "code",
   "execution_count": null,
   "metadata": {},
   "outputs": [],
   "source": []
  }
 ],
 "metadata": {
  "kernelspec": {
   "display_name": "Python 3",
   "language": "python",
   "name": "python3"
  },
  "language_info": {
   "codemirror_mode": {
    "name": "ipython",
    "version": 3
   },
   "file_extension": ".py",
   "mimetype": "text/x-python",
   "name": "python",
   "nbconvert_exporter": "python",
   "pygments_lexer": "ipython3",
   "version": "3.8.5"
  }
 },
 "nbformat": 4,
 "nbformat_minor": 4
}
